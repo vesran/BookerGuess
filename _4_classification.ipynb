{
 "cells": [
  {
   "cell_type": "markdown",
   "metadata": {},
   "source": [
    "# Classification"
   ]
  },
  {
   "cell_type": "code",
   "execution_count": 2,
   "metadata": {},
   "outputs": [],
   "source": [
    "import pandas as pd\n",
    "import numpy as np\n",
    "import matplotlib.pyplot as plt\n",
    "import seaborn as sns"
   ]
  },
  {
   "cell_type": "markdown",
   "metadata": {},
   "source": [
    "## Features engineering\n",
    "\n",
    "-> toutes les données de users\n",
    "-> mois\n",
    "-> toutes les triplets d'actions possibles\n",
    "-> time_elapsed\n",
    "-> "
   ]
  },
  {
   "cell_type": "code",
   "execution_count": 3,
   "metadata": {},
   "outputs": [],
   "source": [
    "users = pd.read_csv('data/train_users_2.csv')\n",
    "test_users = pd.read_csv('data/test_users.csv')\n",
    "sessions = pd.read_csv('data/sessions.csv')\n",
    "\n",
    "n = 88000\n",
    "users['destination_found'] = users.apply(lambda r: 'NDF' if r['country_destination'] == 'NDF' else 'DF', axis=1)\n",
    "users = pd.concat([users[users['destination_found'] == 'NDF'].head(n), users[users['destination_found'] == 'DF'].head(n)]).sample(frac=1).reset_index(drop=True)"
   ]
  },
  {
   "cell_type": "code",
   "execution_count": 7,
   "metadata": {},
   "outputs": [],
   "source": [
    "users['timestamp_first_active'] = pd.to_datetime(users['timestamp_first_active'], format='%Y%m%d%H%M%S')\n",
    "users['date_account_created'] = pd.to_datetime(users['date_account_created'], format='%Y-%m-%d')\n",
    "users[\"date_first_booking\"] = pd.to_datetime(users['date_first_booking'], format='%Y-%m-%d')\n",
    "users['date_first_active'] = pd.to_datetime(users['timestamp_first_active'].dt.date, format='%Y-%m-%d')\n",
    "users['hour_first_active'] = users['timestamp_first_active'].dt.hour\n",
    "users['month_first_active'] = users['date_first_active'].dt.month\n",
    "users['year_first_active'] = users['date_first_active'].dt.year"
   ]
  },
  {
   "cell_type": "code",
   "execution_count": 9,
   "metadata": {},
   "outputs": [],
   "source": [
    "def process_age(age):\n",
    "    if age > 1000:\n",
    "        return 2015 - age\n",
    "    elif age < 100:\n",
    "        return age\n",
    "    else: \n",
    "        return -1\n",
    "\n",
    "users['age'] = users.apply(lambda r: process_age(r['age']), axis=1)\n",
    "users['age_group'] = sum([(users['age'] < 0).astype(int),\n",
    "    (users['age'] < 18).astype(int),\n",
    "    (users['age'] < 25).astype(int),\n",
    "    (users['age'] < 30).astype(int),\n",
    "    (users['age'] < 35).astype(int),\n",
    "    (users['age'] < 40).astype(int),\n",
    "    (users['age'] < 60).astype(int),\n",
    "    (users['age'] < 100).astype(int)])"
   ]
  },
  {
   "cell_type": "code",
   "execution_count": 10,
   "metadata": {},
   "outputs": [],
   "source": [
    "def process_signup_flow(num_page):\n",
    "    if num_page <= 3:\n",
    "        return num_page\n",
    "    elif 3 < num_page < 12:\n",
    "        return 'middle'\n",
    "    else:\n",
    "        return 12\n",
    "users['signup_flow_group'] = users.apply(lambda r: process_signup_flow(r['signup_flow']), axis=1)"
   ]
  },
  {
   "cell_type": "code",
   "execution_count": 13,
   "metadata": {},
   "outputs": [],
   "source": [
    "users_browsers = users.groupby('first_browser').count()[['id']].sort_values(by='id')\n",
    "browsers = set(users_browsers[users_browsers['id'] > 1000].index)\n",
    "users['first_browser_processed'] = users.apply(lambda r: r['first_browser'] if r['first_browser'] in browsers else 'Other', axis=1)"
   ]
  },
  {
   "cell_type": "code",
   "execution_count": 22,
   "metadata": {},
   "outputs": [],
   "source": [
    "features = ['month_first_active', 'year_first_active', 'gender', 'age_group', 'signup_method', 'signup_flow_group', 'affiliate_channel', 'affiliate_provider', \n",
    "           'first_affiliate_tracked', 'signup_app', 'first_device_type', 'first_browser_processed']\n",
    "\n",
    "data = users[features].copy()\n",
    "\n",
    "X = pd.get_dummies(data)\n",
    "# y = users['destination_found'].values\n",
    "y = users['country_destination'].values"
   ]
  },
  {
   "cell_type": "markdown",
   "metadata": {},
   "source": [
    "## Training model"
   ]
  },
  {
   "cell_type": "code",
   "execution_count": 23,
   "metadata": {},
   "outputs": [
    {
     "data": {
      "text/plain": [
       "array([0.63119318, 0.63167614, 0.62829545, 0.629375  , 0.63107955])"
      ]
     },
     "execution_count": 23,
     "metadata": {},
     "output_type": "execute_result"
    }
   ],
   "source": [
    "from sklearn.model_selection import cross_val_score\n",
    "from sklearn.ensemble import RandomForestClassifier\n",
    "\n",
    "model = RandomForestClassifier(n_estimators=50, max_depth=14)\n",
    "cross_val_score(model, X=X, y=y)"
   ]
  },
  {
   "cell_type": "code",
   "execution_count": 26,
   "metadata": {},
   "outputs": [
    {
     "data": {
      "text/plain": [
       "0.6278858354955399"
      ]
     },
     "execution_count": 26,
     "metadata": {},
     "output_type": "execute_result"
    }
   ],
   "source": [
    "n = int(X.shape[0] * 0.7)\n",
    "model.fit(X[:n], y[:n])\n",
    "\n",
    "model.score(X[n:], y[n:])"
   ]
  },
  {
   "cell_type": "code",
   "execution_count": 29,
   "metadata": {},
   "outputs": [],
   "source": [
    "a = model.predict(X[:n])"
   ]
  },
  {
   "cell_type": "code",
   "execution_count": 31,
   "metadata": {},
   "outputs": [
    {
     "data": {
      "text/plain": [
       "array(['AU', 'CA', 'DE', 'ES', 'FR', 'GB', 'IT', 'NDF', 'NL', 'US',\n",
       "       'other'], dtype=object)"
      ]
     },
     "execution_count": 31,
     "metadata": {},
     "output_type": "execute_result"
    }
   ],
   "source": [
    "np.unique(a)"
   ]
  }
 ],
 "metadata": {
  "kernelspec": {
   "display_name": "bookerguess",
   "language": "python",
   "name": "bookerguess"
  },
  "language_info": {
   "codemirror_mode": {
    "name": "ipython",
    "version": 3
   },
   "file_extension": ".py",
   "mimetype": "text/x-python",
   "name": "python",
   "nbconvert_exporter": "python",
   "pygments_lexer": "ipython3",
   "version": "3.8.2"
  }
 },
 "nbformat": 4,
 "nbformat_minor": 4
}
