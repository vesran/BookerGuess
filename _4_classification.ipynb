{
 "cells": [
  {
   "cell_type": "markdown",
   "metadata": {},
   "source": [
    "# Classification\n",
    "\n",
    "Dans cette partie, on va classifier les utilisateurs ayant une session selon qu'ils aient réservé ou non. On va donc garder l'étiquette **NDF** et le reste des étiquettes de la colonne **country_destination** sera marqué comme **DF**."
   ]
  },
  {
   "cell_type": "code",
   "execution_count": 1,
   "metadata": {},
   "outputs": [],
   "source": [
    "import pandas as pd\n",
    "import numpy as np\n",
    "import matplotlib.pyplot as plt\n",
    "import seaborn as sns\n",
    "\n",
    "from tools.metrics import confusion_matrix, cross_validation_score\n",
    "plt.style.use('seaborn')"
   ]
  },
  {
   "cell_type": "markdown",
   "metadata": {},
   "source": [
    "## Features engineering\n"
   ]
  },
  {
   "cell_type": "code",
   "execution_count": 2,
   "metadata": {},
   "outputs": [],
   "source": [
    "# Import data\n",
    "users = pd.read_csv('data/train_users_2.csv')\n",
    "test_users = pd.read_csv('data/test_users.csv')\n",
    "sessions = pd.read_csv('data/sessions.csv')\n",
    "\n",
    "# Add labels DF/NDF\n",
    "users['destination_found'] = users.apply(lambda r: 'NDF' if r['country_destination'] == 'NDF' else 'DF', axis=1)\n",
    "\n",
    "# Retain users that have a session & add information about their session\n",
    "sessions_naless = sessions.fillna('_')\n",
    "sessions['action_name'] = sessions_naless['action'] + '-' + sessions_naless['action_type'] + '-' + sessions_naless['action_detail']\n",
    "users_sessions = sessions.groupby('user_id').agg({\n",
    "    \"action_name\": pd.Series.tolist,\n",
    "    'secs_elapsed': lambda r: round(r.sum() / (60**2), 0),\n",
    "})\n",
    "users_sessions = users_sessions.rename({\"secs_elapsed\":\"hours_elapsed\", \"action_name\":\"actions\",}, axis=1)\n",
    "users = users_sessions.reset_index().rename({'user_id':'id'}, axis=1).merge(users, how='inner', on='id')\n",
    "users = users.sort_values('id')"
   ]
  },
  {
   "cell_type": "code",
   "execution_count": 3,
   "metadata": {},
   "outputs": [
    {
     "name": "stdout",
     "output_type": "stream",
     "text": [
      "users.head :  (73815, 19)\n"
     ]
    },
    {
     "data": {
      "text/html": [
       "<div>\n",
       "<style scoped>\n",
       "    .dataframe tbody tr th:only-of-type {\n",
       "        vertical-align: middle;\n",
       "    }\n",
       "\n",
       "    .dataframe tbody tr th {\n",
       "        vertical-align: top;\n",
       "    }\n",
       "\n",
       "    .dataframe thead th {\n",
       "        text-align: right;\n",
       "    }\n",
       "</style>\n",
       "<table border=\"1\" class=\"dataframe\">\n",
       "  <thead>\n",
       "    <tr style=\"text-align: right;\">\n",
       "      <th></th>\n",
       "      <th>id</th>\n",
       "      <th>actions</th>\n",
       "      <th>hours_elapsed</th>\n",
       "      <th>date_account_created</th>\n",
       "      <th>timestamp_first_active</th>\n",
       "      <th>date_first_booking</th>\n",
       "      <th>gender</th>\n",
       "      <th>age</th>\n",
       "      <th>signup_method</th>\n",
       "      <th>signup_flow</th>\n",
       "      <th>language</th>\n",
       "      <th>affiliate_channel</th>\n",
       "      <th>affiliate_provider</th>\n",
       "      <th>first_affiliate_tracked</th>\n",
       "      <th>signup_app</th>\n",
       "      <th>first_device_type</th>\n",
       "      <th>first_browser</th>\n",
       "      <th>country_destination</th>\n",
       "      <th>destination_found</th>\n",
       "    </tr>\n",
       "  </thead>\n",
       "  <tbody>\n",
       "    <tr>\n",
       "      <th>73812</th>\n",
       "      <td>zzysuoqg6x</td>\n",
       "      <td>[hosting_social_proof--unknown---unknown-, cre...</td>\n",
       "      <td>0.0</td>\n",
       "      <td>2014-01-08</td>\n",
       "      <td>20140108221010</td>\n",
       "      <td>NaN</td>\n",
       "      <td>-unknown-</td>\n",
       "      <td>NaN</td>\n",
       "      <td>basic</td>\n",
       "      <td>0</td>\n",
       "      <td>en</td>\n",
       "      <td>direct</td>\n",
       "      <td>direct</td>\n",
       "      <td>untracked</td>\n",
       "      <td>Web</td>\n",
       "      <td>Windows Desktop</td>\n",
       "      <td>IE</td>\n",
       "      <td>NDF</td>\n",
       "      <td>NDF</td>\n",
       "    </tr>\n",
       "    <tr>\n",
       "      <th>73813</th>\n",
       "      <td>zzywmcn0jv</td>\n",
       "      <td>[header_userpic-data-header_userpic, personali...</td>\n",
       "      <td>597.0</td>\n",
       "      <td>2014-02-21</td>\n",
       "      <td>20140221160109</td>\n",
       "      <td>NaN</td>\n",
       "      <td>-unknown-</td>\n",
       "      <td>NaN</td>\n",
       "      <td>basic</td>\n",
       "      <td>0</td>\n",
       "      <td>en</td>\n",
       "      <td>direct</td>\n",
       "      <td>direct</td>\n",
       "      <td>untracked</td>\n",
       "      <td>Web</td>\n",
       "      <td>iPhone</td>\n",
       "      <td>Mobile Safari</td>\n",
       "      <td>NDF</td>\n",
       "      <td>NDF</td>\n",
       "    </tr>\n",
       "    <tr>\n",
       "      <th>73814</th>\n",
       "      <td>zzzlylp57e</td>\n",
       "      <td>[similar_listings-data-similar_listings, show-...</td>\n",
       "      <td>120.0</td>\n",
       "      <td>2014-06-11</td>\n",
       "      <td>20140611074639</td>\n",
       "      <td>2014-06-24</td>\n",
       "      <td>-unknown-</td>\n",
       "      <td>NaN</td>\n",
       "      <td>basic</td>\n",
       "      <td>0</td>\n",
       "      <td>en</td>\n",
       "      <td>seo</td>\n",
       "      <td>google</td>\n",
       "      <td>linked</td>\n",
       "      <td>Web</td>\n",
       "      <td>Windows Desktop</td>\n",
       "      <td>Chrome</td>\n",
       "      <td>FR</td>\n",
       "      <td>DF</td>\n",
       "    </tr>\n",
       "  </tbody>\n",
       "</table>\n",
       "</div>"
      ],
      "text/plain": [
       "               id                                            actions  \\\n",
       "73812  zzysuoqg6x  [hosting_social_proof--unknown---unknown-, cre...   \n",
       "73813  zzywmcn0jv  [header_userpic-data-header_userpic, personali...   \n",
       "73814  zzzlylp57e  [similar_listings-data-similar_listings, show-...   \n",
       "\n",
       "       hours_elapsed date_account_created  timestamp_first_active  \\\n",
       "73812            0.0           2014-01-08          20140108221010   \n",
       "73813          597.0           2014-02-21          20140221160109   \n",
       "73814          120.0           2014-06-11          20140611074639   \n",
       "\n",
       "      date_first_booking     gender  age signup_method  signup_flow language  \\\n",
       "73812                NaN  -unknown-  NaN         basic            0       en   \n",
       "73813                NaN  -unknown-  NaN         basic            0       en   \n",
       "73814         2014-06-24  -unknown-  NaN         basic            0       en   \n",
       "\n",
       "      affiliate_channel affiliate_provider first_affiliate_tracked signup_app  \\\n",
       "73812            direct             direct               untracked        Web   \n",
       "73813            direct             direct               untracked        Web   \n",
       "73814               seo             google                  linked        Web   \n",
       "\n",
       "      first_device_type  first_browser country_destination destination_found  \n",
       "73812   Windows Desktop             IE                 NDF               NDF  \n",
       "73813            iPhone  Mobile Safari                 NDF               NDF  \n",
       "73814   Windows Desktop         Chrome                  FR                DF  "
      ]
     },
     "execution_count": 3,
     "metadata": {},
     "output_type": "execute_result"
    }
   ],
   "source": [
    "print(\"users.head : \", users.shape)\n",
    "users.tail(3)"
   ]
  },
  {
   "cell_type": "code",
   "execution_count": 94,
   "metadata": {},
   "outputs": [],
   "source": [
    "# Converting date string into datetime object\n",
    "users['timestamp_first_active'] = pd.to_datetime(users['timestamp_first_active'], format='%Y%m%d%H%M%S')\n",
    "users['date_account_created'] = pd.to_datetime(users['date_account_created'], format='%Y-%m-%d')\n",
    "users[\"date_first_booking\"] = pd.to_datetime(users['date_first_booking'], format='%Y-%m-%d')\n",
    "users['date_first_active'] = pd.to_datetime(users['timestamp_first_active'].dt.date, format='%Y-%m-%d')\n",
    "users['hour_first_active'] = users['timestamp_first_active'].dt.hour\n",
    "users['month_first_active'] = users['date_first_active'].dt.month\n",
    "users['year_first_active'] = users['date_first_active'].dt.year\n",
    "users['day_first_active'] = users['date_first_active'].dt.day"
   ]
  },
  {
   "cell_type": "code",
   "execution_count": 5,
   "metadata": {},
   "outputs": [],
   "source": [
    "def process_age(age):\n",
    "    if age > 1000:\n",
    "        return 2015 - age\n",
    "    elif age == 105:\n",
    "        return -2\n",
    "    elif age < 100:\n",
    "        return age\n",
    "    else: \n",
    "        return -1\n",
    "\n",
    "# Bucketize age variable\n",
    "users['age'] = users.apply(lambda r: process_age(r['age']), axis=1)\n",
    "users['age_group'] = sum([(users['age'] < 0).astype(int),\n",
    "    (users['age'] < 18).astype(int),\n",
    "    (users['age'] < 25).astype(int),\n",
    "    (users['age'] < 30).astype(int),\n",
    "    (users['age'] < 35).astype(int),\n",
    "    (users['age'] < 40).astype(int),\n",
    "    (users['age'] < 60).astype(int),\n",
    "    (users['age'] < 100).astype(int)])"
   ]
  },
  {
   "cell_type": "code",
   "execution_count": 6,
   "metadata": {},
   "outputs": [],
   "source": [
    "def process_signup_flow(num_page):\n",
    "    if num_page <= 3:\n",
    "        return num_page\n",
    "    elif 3 < num_page < 12:\n",
    "        return 'middle'\n",
    "    else:\n",
    "        return 12\n",
    "    \n",
    "# Bucketize signup_flow\n",
    "users['signup_flow_group'] = users.apply(lambda r: process_signup_flow(r['signup_flow']), axis=1)"
   ]
  },
  {
   "cell_type": "code",
   "execution_count": 7,
   "metadata": {},
   "outputs": [],
   "source": [
    "# Bucketize language\n",
    "users['language_group'] = (users['language'] == 'en').astype(int)"
   ]
  },
  {
   "cell_type": "code",
   "execution_count": 8,
   "metadata": {},
   "outputs": [],
   "source": [
    "# Only retains browser which have a large enough set of users\n",
    "users_browsers = users.groupby('first_browser').count()[['id']].sort_values(by='id')\n",
    "browsers = set(users_browsers[users_browsers['id'] > 1000].index)\n",
    "users['first_browser_processed'] = users.apply(lambda r: r['first_browser'] if r['first_browser'] in browsers else 'Other', axis=1)"
   ]
  },
  {
   "cell_type": "code",
   "execution_count": 9,
   "metadata": {},
   "outputs": [],
   "source": [
    "# Fill Nan in first_affiliate_tracked\n",
    "users['first_affiliate_tracked'] = users['first_affiliate_tracked'].fillna('-unknown-')"
   ]
  },
  {
   "cell_type": "code",
   "execution_count": 10,
   "metadata": {},
   "outputs": [],
   "source": [
    "# Most use device type (phone or pc)\n",
    "devices = sessions.groupby('user_id').agg({'device_type': lambda r: r.values.tolist(),}).reset_index().rename({'user_id':'id'}, axis=1)\n",
    "devices['most_use'] = devices.apply(lambda r: max(set(r['device_type']), key=r['device_type'].count), axis=1)\n",
    "\n",
    "phones = ['iPhone', 'iPad Tablet', 'Android App Unknown Phone/Tablet', 'Android Phone', 'Tablet', 'Chromebook', 'Blackberry',\n",
    "          'Windows Phone', 'Opera Phone', 'iPodtouch']\n",
    "pcs = ['Mac Desktop', 'Windows Desktop', 'Linux Desktop']\n",
    "\n",
    "def most_use2group(most_use):\n",
    "    exp = most_use.split('_count')[0]  # Remove _count suffix\n",
    "    if exp in phones:\n",
    "        return 'phone'\n",
    "    elif exp in pcs:\n",
    "        return 'pc'\n",
    "    else:\n",
    "        return '-unknown-'\n",
    "    \n",
    "devices['most_use_device_group'] = devices.apply(lambda r: most_use2group(r['most_use']), axis=1)\n",
    "devices.drop('most_use', axis=1)\n",
    "users = users.merge(devices, on='id', how='inner')"
   ]
  },
  {
   "cell_type": "code",
   "execution_count": 11,
   "metadata": {},
   "outputs": [],
   "source": [
    "# Bucketize number of hours elasped\n",
    "users['hours_elapsed_group'] = sum([(users['hours_elapsed'] < 0).astype(int),\n",
    "    (users['hours_elapsed'] < 50).astype(int),\n",
    "    (users['hours_elapsed'] < 100).astype(int),\n",
    "    (users['hours_elapsed'] < 150).astype(int),\n",
    "    (users['hours_elapsed'] < 200).astype(int),\n",
    "    (users['hours_elapsed'] < 250).astype(int),\n",
    "    (users['hours_elapsed'] < 300).astype(int),])"
   ]
  },
  {
   "cell_type": "code",
   "execution_count": 12,
   "metadata": {},
   "outputs": [],
   "source": [
    "# Bucketize number of unique actions\n",
    "users['nb_unique_actions'] = users.apply(lambda r: len(set(r['actions'])), axis=1)\n",
    "users['nb_unique_actions_group'] = sum([(users['nb_unique_actions'] < 14).astype(int),\n",
    "    (users['nb_unique_actions'] < 16).astype(int),\n",
    "    (users['nb_unique_actions'] < 18).astype(int),\n",
    "    (users['nb_unique_actions'] < 20).astype(int),\n",
    "    (users['nb_unique_actions'] < 22).astype(int),\n",
    "    (users['nb_unique_actions'] < 24).astype(int),])"
   ]
  },
  {
   "cell_type": "code",
   "execution_count": 13,
   "metadata": {},
   "outputs": [
    {
     "data": {
      "text/html": [
       "<div>\n",
       "<style scoped>\n",
       "    .dataframe tbody tr th:only-of-type {\n",
       "        vertical-align: middle;\n",
       "    }\n",
       "\n",
       "    .dataframe tbody tr th {\n",
       "        vertical-align: top;\n",
       "    }\n",
       "\n",
       "    .dataframe thead th {\n",
       "        text-align: right;\n",
       "    }\n",
       "</style>\n",
       "<table border=\"1\" class=\"dataframe\">\n",
       "  <thead>\n",
       "    <tr style=\"text-align: right;\">\n",
       "      <th></th>\n",
       "      <th>action_name_requested-submit-post_checkout_action</th>\n",
       "      <th>action_name_requested-view-p5</th>\n",
       "      <th>action_name_pending-booking_request-pending</th>\n",
       "      <th>action_name_agree_terms_check--unknown---unknown-</th>\n",
       "      <th>action_name_at_checkpoint-booking_request-at_checkpoint</th>\n",
       "      <th>action_name_ajax_photo_widget_form_iframe--unknown---unknown-</th>\n",
       "      <th>action_name_complete_status--unknown---unknown-</th>\n",
       "      <th>action_name_complete_redirect--unknown---unknown-</th>\n",
       "      <th>action_name_travel_plans_current-view-your_trips</th>\n",
       "      <th>action_name_populate_from_facebook--unknown---unknown-</th>\n",
       "      <th>action_name_social_connections-data-user_social_connections</th>\n",
       "      <th>action_name_create-submit-signup</th>\n",
       "      <th>action_name_update-submit-update_listing_description</th>\n",
       "      <th>action_name_manage_listing-view-manage_listing</th>\n",
       "      <th>action_name_set_user-submit-create_listing</th>\n",
       "    </tr>\n",
       "    <tr>\n",
       "      <th>user_id</th>\n",
       "      <th></th>\n",
       "      <th></th>\n",
       "      <th></th>\n",
       "      <th></th>\n",
       "      <th></th>\n",
       "      <th></th>\n",
       "      <th></th>\n",
       "      <th></th>\n",
       "      <th></th>\n",
       "      <th></th>\n",
       "      <th></th>\n",
       "      <th></th>\n",
       "      <th></th>\n",
       "      <th></th>\n",
       "      <th></th>\n",
       "    </tr>\n",
       "  </thead>\n",
       "  <tbody>\n",
       "    <tr>\n",
       "      <th>00023iyk9l</th>\n",
       "      <td>0.0</td>\n",
       "      <td>6.25</td>\n",
       "      <td>1.25</td>\n",
       "      <td>0.0</td>\n",
       "      <td>0.000000</td>\n",
       "      <td>0.0</td>\n",
       "      <td>0.0</td>\n",
       "      <td>0.0</td>\n",
       "      <td>2.5</td>\n",
       "      <td>0.0</td>\n",
       "      <td>0.000000</td>\n",
       "      <td>0.000000</td>\n",
       "      <td>0.0</td>\n",
       "      <td>0.0</td>\n",
       "      <td>0.0</td>\n",
       "    </tr>\n",
       "    <tr>\n",
       "      <th>001wyh0pz8</th>\n",
       "      <td>0.0</td>\n",
       "      <td>0.00</td>\n",
       "      <td>0.00</td>\n",
       "      <td>0.0</td>\n",
       "      <td>0.000000</td>\n",
       "      <td>0.0</td>\n",
       "      <td>0.0</td>\n",
       "      <td>0.0</td>\n",
       "      <td>0.0</td>\n",
       "      <td>0.0</td>\n",
       "      <td>6.666667</td>\n",
       "      <td>3.333333</td>\n",
       "      <td>0.0</td>\n",
       "      <td>0.0</td>\n",
       "      <td>0.0</td>\n",
       "    </tr>\n",
       "    <tr>\n",
       "      <th>002qnbzfs5</th>\n",
       "      <td>0.0</td>\n",
       "      <td>0.00</td>\n",
       "      <td>0.00</td>\n",
       "      <td>0.0</td>\n",
       "      <td>0.136986</td>\n",
       "      <td>0.0</td>\n",
       "      <td>0.0</td>\n",
       "      <td>0.0</td>\n",
       "      <td>0.0</td>\n",
       "      <td>0.0</td>\n",
       "      <td>9.863014</td>\n",
       "      <td>0.000000</td>\n",
       "      <td>0.0</td>\n",
       "      <td>0.0</td>\n",
       "      <td>0.0</td>\n",
       "    </tr>\n",
       "  </tbody>\n",
       "</table>\n",
       "</div>"
      ],
      "text/plain": [
       "            action_name_requested-submit-post_checkout_action  \\\n",
       "user_id                                                         \n",
       "00023iyk9l                                                0.0   \n",
       "001wyh0pz8                                                0.0   \n",
       "002qnbzfs5                                                0.0   \n",
       "\n",
       "            action_name_requested-view-p5  \\\n",
       "user_id                                     \n",
       "00023iyk9l                           6.25   \n",
       "001wyh0pz8                           0.00   \n",
       "002qnbzfs5                           0.00   \n",
       "\n",
       "            action_name_pending-booking_request-pending  \\\n",
       "user_id                                                   \n",
       "00023iyk9l                                         1.25   \n",
       "001wyh0pz8                                         0.00   \n",
       "002qnbzfs5                                         0.00   \n",
       "\n",
       "            action_name_agree_terms_check--unknown---unknown-  \\\n",
       "user_id                                                         \n",
       "00023iyk9l                                                0.0   \n",
       "001wyh0pz8                                                0.0   \n",
       "002qnbzfs5                                                0.0   \n",
       "\n",
       "            action_name_at_checkpoint-booking_request-at_checkpoint  \\\n",
       "user_id                                                               \n",
       "00023iyk9l                                           0.000000         \n",
       "001wyh0pz8                                           0.000000         \n",
       "002qnbzfs5                                           0.136986         \n",
       "\n",
       "            action_name_ajax_photo_widget_form_iframe--unknown---unknown-  \\\n",
       "user_id                                                                     \n",
       "00023iyk9l                                                0.0               \n",
       "001wyh0pz8                                                0.0               \n",
       "002qnbzfs5                                                0.0               \n",
       "\n",
       "            action_name_complete_status--unknown---unknown-  \\\n",
       "user_id                                                       \n",
       "00023iyk9l                                              0.0   \n",
       "001wyh0pz8                                              0.0   \n",
       "002qnbzfs5                                              0.0   \n",
       "\n",
       "            action_name_complete_redirect--unknown---unknown-  \\\n",
       "user_id                                                         \n",
       "00023iyk9l                                                0.0   \n",
       "001wyh0pz8                                                0.0   \n",
       "002qnbzfs5                                                0.0   \n",
       "\n",
       "            action_name_travel_plans_current-view-your_trips  \\\n",
       "user_id                                                        \n",
       "00023iyk9l                                               2.5   \n",
       "001wyh0pz8                                               0.0   \n",
       "002qnbzfs5                                               0.0   \n",
       "\n",
       "            action_name_populate_from_facebook--unknown---unknown-  \\\n",
       "user_id                                                              \n",
       "00023iyk9l                                                0.0        \n",
       "001wyh0pz8                                                0.0        \n",
       "002qnbzfs5                                                0.0        \n",
       "\n",
       "            action_name_social_connections-data-user_social_connections  \\\n",
       "user_id                                                                   \n",
       "00023iyk9l                                           0.000000             \n",
       "001wyh0pz8                                           6.666667             \n",
       "002qnbzfs5                                           9.863014             \n",
       "\n",
       "            action_name_create-submit-signup  \\\n",
       "user_id                                        \n",
       "00023iyk9l                          0.000000   \n",
       "001wyh0pz8                          3.333333   \n",
       "002qnbzfs5                          0.000000   \n",
       "\n",
       "            action_name_update-submit-update_listing_description  \\\n",
       "user_id                                                            \n",
       "00023iyk9l                                                0.0      \n",
       "001wyh0pz8                                                0.0      \n",
       "002qnbzfs5                                                0.0      \n",
       "\n",
       "            action_name_manage_listing-view-manage_listing  \\\n",
       "user_id                                                      \n",
       "00023iyk9l                                             0.0   \n",
       "001wyh0pz8                                             0.0   \n",
       "002qnbzfs5                                             0.0   \n",
       "\n",
       "            action_name_set_user-submit-create_listing  \n",
       "user_id                                                 \n",
       "00023iyk9l                                         0.0  \n",
       "001wyh0pz8                                         0.0  \n",
       "002qnbzfs5                                         0.0  "
      ]
     },
     "execution_count": 13,
     "metadata": {},
     "output_type": "execute_result"
    }
   ],
   "source": [
    "relevent_action_names = ['requested-submit-post_checkout_action',\n",
    " 'requested-view-p5',\n",
    " 'pending-booking_request-pending',\n",
    " 'agree_terms_check--unknown---unknown-',\n",
    " 'at_checkpoint-booking_request-at_checkpoint',\n",
    " 'ajax_photo_widget_form_iframe--unknown---unknown-',\n",
    " 'complete_status--unknown---unknown-',\n",
    " 'complete_redirect--unknown---unknown-',\n",
    " 'travel_plans_current-view-your_trips',\n",
    " 'populate_from_facebook--unknown---unknown-',\n",
    " 'social_connections-data-user_social_connections',\n",
    " 'create-submit-signup',\n",
    " 'update-submit-update_listing_description',\n",
    " 'manage_listing-view-manage_listing',\n",
    " 'set_user-submit-create_listing']\n",
    "\n",
    "\n",
    "# Encode actions\n",
    "one_hot_encoded_actions = pd.get_dummies(sessions[sessions['action_name'].isin(relevent_action_names)][['user_id', 'action_name']], columns=['action_name'])\n",
    "\n",
    "# Generate functions for aggretation\n",
    "columns = one_hot_encoded_actions.columns.values.tolist()\n",
    "columns.remove('user_id')\n",
    "agg_funcs = {col_name: sum for col_name in columns}\n",
    "\n",
    "# Aggretate actions by users\n",
    "actions_matrix = one_hot_encoded_actions.groupby('user_id').agg(agg_funcs)\n",
    "\n",
    "# Selecting the most relevent columns\n",
    "cols = ['action_name_' + name for name in relevent_action_names]\n",
    "mat = (actions_matrix[cols].div(actions_matrix[cols].sum(axis=1), axis=0).fillna(0) * 10)\n",
    "mat.head(3)"
   ]
  },
  {
   "cell_type": "code",
   "execution_count": 14,
   "metadata": {},
   "outputs": [],
   "source": [
    "action_names = ['ajax_refresh_subtotal-click-change_trip_characteristics', \n",
    " 'similar_listings-data-similar_listings', 'pending-booking_request-pending']\n",
    "\n",
    "for name in action_names:\n",
    "    users[f'did_{name}'] = users.apply(lambda r: 1 if name in r['actions'] else 0, axis=1)"
   ]
  },
  {
   "cell_type": "code",
   "execution_count": 97,
   "metadata": {},
   "outputs": [
    {
     "ename": "AttributeError",
     "evalue": "'Map' object has no attribute 'round'",
     "output_type": "error",
     "traceback": [
      "\u001b[1;31m---------------------------------------------------------------------------\u001b[0m",
      "\u001b[1;31mAttributeError\u001b[0m                            Traceback (most recent call last)",
      "\u001b[1;32m<ipython-input-97-6476f44357ee>\u001b[0m in \u001b[0;36m<module>\u001b[1;34m\u001b[0m\n\u001b[1;32m----> 1\u001b[1;33m \u001b[0musers_final\u001b[0m \u001b[1;33m=\u001b[0m \u001b[0musers\u001b[0m\u001b[1;33m.\u001b[0m\u001b[0mmerge\u001b[0m\u001b[1;33m(\u001b[0m\u001b[0mm\u001b[0m\u001b[1;33m.\u001b[0m\u001b[0mround\u001b[0m\u001b[1;33m(\u001b[0m\u001b[1;36m0\u001b[0m\u001b[1;33m)\u001b[0m\u001b[1;33m.\u001b[0m\u001b[0mreset_index\u001b[0m\u001b[1;33m(\u001b[0m\u001b[1;33m)\u001b[0m\u001b[1;33m.\u001b[0m\u001b[0mrename\u001b[0m\u001b[1;33m(\u001b[0m\u001b[1;33m{\u001b[0m\u001b[1;34m'user_id'\u001b[0m\u001b[1;33m:\u001b[0m\u001b[1;34m'id'\u001b[0m\u001b[1;33m}\u001b[0m\u001b[1;33m,\u001b[0m \u001b[0maxis\u001b[0m\u001b[1;33m=\u001b[0m\u001b[1;36m1\u001b[0m\u001b[1;33m)\u001b[0m\u001b[1;33m,\u001b[0m \u001b[0mhow\u001b[0m\u001b[1;33m=\u001b[0m\u001b[1;34m'left'\u001b[0m\u001b[1;33m,\u001b[0m \u001b[0mon\u001b[0m\u001b[1;33m=\u001b[0m\u001b[1;34m'id'\u001b[0m\u001b[1;33m)\u001b[0m\u001b[1;33m.\u001b[0m\u001b[0mfillna\u001b[0m\u001b[1;33m(\u001b[0m\u001b[1;36m0\u001b[0m\u001b[1;33m)\u001b[0m\u001b[1;33m\u001b[0m\u001b[1;33m\u001b[0m\u001b[0m\n\u001b[0m\u001b[0;32m      2\u001b[0m \u001b[1;33m\u001b[0m\u001b[0m\n\u001b[0;32m      3\u001b[0m \u001b[1;31m# Selecting features\u001b[0m\u001b[1;33m\u001b[0m\u001b[1;33m\u001b[0m\u001b[1;33m\u001b[0m\u001b[0m\n\u001b[0;32m      4\u001b[0m features = ['day_first_active', 'month_first_active', 'gender', 'age_group', 'signup_method', 'signup_flow_group',  'affiliate_provider', \n\u001b[0;32m      5\u001b[0m            \u001b[1;34m'signup_app'\u001b[0m\u001b[1;33m,\u001b[0m \u001b[1;34m'first_browser_processed'\u001b[0m\u001b[1;33m,\u001b[0m\u001b[1;33m\u001b[0m\u001b[1;33m\u001b[0m\u001b[0m\n",
      "\u001b[1;31mAttributeError\u001b[0m: 'Map' object has no attribute 'round'"
     ]
    }
   ],
   "source": [
    "users_final = users.merge(mat.round(0).reset_index().rename({'user_id':'id'}, axis=1), how='left', on='id').fillna(0)\n",
    "\n",
    "# Selecting features\n",
    "features = ['month_first_active', 'gender', 'age_group', 'signup_method', 'signup_flow_group',  'affiliate_provider', \n",
    "           'signup_app', 'first_browser_processed',\n",
    "           'hours_elapsed_group', 'nb_unique_actions_group', 'most_use_device_group']\n",
    "\n",
    "features += ['action_name_' + name for name in relevent_action_names]\n",
    "# features += [f\"actions_embedding_{i}\" for i in range(size)]\n",
    "features += [f'did_{name}' for name in action_names]\n",
    "\n",
    "data = users_final[features].copy()\n",
    "\n",
    "X = pd.DataFrame()\n",
    "for feature in features:\n",
    "    X[feature] = data[feature].astype('category').cat.codes\n",
    "X = X.values\n",
    "y = users_final['destination_found'].values"
   ]
  },
  {
   "cell_type": "code",
   "execution_count": 16,
   "metadata": {},
   "outputs": [
    {
     "name": "stdout",
     "output_type": "stream",
     "text": [
      "(73815, 29) (73815, 29)\n"
     ]
    }
   ],
   "source": [
    "print(data.shape, X.shape)"
   ]
  },
  {
   "cell_type": "markdown",
   "metadata": {},
   "source": [
    "## Training model"
   ]
  },
  {
   "cell_type": "code",
   "execution_count": 17,
   "metadata": {},
   "outputs": [
    {
     "name": "stdout",
     "output_type": "stream",
     "text": [
      "Mean score : 0.7097\n",
      "Std score : 0.00111\n"
     ]
    }
   ],
   "source": [
    "from sklearn.ensemble import RandomForestClassifier\n",
    "from tools.metrics import f1_score, confusion_matrix\n",
    "# from tools.forest import RandomForestClassifier\n",
    "# from sklearn.metrics import f1_score, make_scorer\n",
    "\n",
    "# Weights inverted for conter-balancing\n",
    "nb_NDF = y.tolist().count('NDF')\n",
    "nb_DF = y.tolist().count('DF')\n",
    "class_weight = {'DF': 1-nb_DF/y.shape[0],\n",
    "               'NDF': 1-nb_NDF/y.shape[0]}\n",
    "model = RandomForestClassifier(n_estimators=50, max_depth=15, class_weight=class_weight)\n",
    "# model = RandomForestClassifier(n_estimators=50, max_depth=15)\n",
    "res = cross_validation_score(model, X, y, k=5, scorer=f1_score)\n",
    "print(f\"Mean score : {round(np.mean(res), 4)}\")\n",
    "print(f\"Std score : {round(np.std(res), 5)}\")"
   ]
  },
  {
   "cell_type": "code",
   "execution_count": 18,
   "metadata": {},
   "outputs": [
    {
     "data": {
      "text/plain": [
       "0.708153078202995"
      ]
     },
     "execution_count": 18,
     "metadata": {},
     "output_type": "execute_result"
    },
    {
     "data": {
      "image/png": "[encoded data removed]",
      "text/plain": [
       "<Figure size 576x396 with 1 Axes>"
      ]
     },
     "metadata": {},
     "output_type": "display_data"
    }
   ],
   "source": [
    "# Display confusion matrix\n",
    "n = int(X.shape[0] * 0.7)\n",
    "model.fit(X[:n], y[:n])\n",
    "_ = confusion_matrix(model, X[n:], y[n:], plot=True, normalize=True)\n",
    "f1_score(model.predict(X[n:]), y[n:])"
   ]
  },
  {
   "cell_type": "markdown",
   "metadata": {},
   "source": [
    "## Training model on countries destination"
   ]
  },
  {
   "cell_type": "code",
   "execution_count": 19,
   "metadata": {},
   "outputs": [
    {
     "data": {
      "text/plain": [
       "0    0.63093\n",
       "1    0.00000\n",
       "2    0.50000\n",
       "dtype: float64"
      ]
     },
     "execution_count": 19,
     "metadata": {},
     "output_type": "execute_result"
    }
   ],
   "source": [
    "pred = pd.DataFrame({\n",
    "    'id': ['a', 'b', 'c'],\n",
    "    'country_destination': [['FR', 'US'], ['NDF'], ['NDF', 'PT', 'FR', 'AU']],\n",
    "    'true_destination': ['US', 'PT', 'FR'],\n",
    "})\n",
    "\n",
    "def dcg(destinations, truth):\n",
    "    arr = (np.array(destinations) == truth).astype(int)\n",
    "    return np.sum(((2 ** arr) - 1) / np.log2(np.arange(arr.shape[0]) + 2))\n",
    "\n",
    "def ndcg(destinations, truth):\n",
    "    t = destinations.count(truth)\n",
    "    a = [truth if i < t else '-' for i in range(len(destinations))]\n",
    "    max_dcg = dcg(a, truth)\n",
    "    max_dcg = max_dcg + 1 if max_dcg == 0 else max_dcg\n",
    "    return dcg(destinations, truth) / max_dcg\n",
    "\n",
    "pred.apply(lambda r: ndcg(r['country_destination'], r['true_destination']), axis=1)"
   ]
  },
  {
   "cell_type": "code",
   "execution_count": 90,
   "metadata": {},
   "outputs": [
    {
     "data": {
      "text/plain": [
       "(73815, 30)"
      ]
     },
     "execution_count": 90,
     "metadata": {},
     "output_type": "execute_result"
    }
   ],
   "source": [
    "data = users_final[features].copy()\n",
    "X = pd.DataFrame()\n",
    "for feature in features:\n",
    "    X[feature] = data[feature].astype('category').cat.codes\n",
    "X['reservation'] = users['destination_found'].astype('category').cat.codes\n",
    "X = X.values\n",
    "y = users_final['destination_found'].values\n",
    "X.shape"
   ]
  },
  {
   "cell_type": "code",
   "execution_count": 91,
   "metadata": {},
   "outputs": [
    {
     "name": "stdout",
     "output_type": "stream",
     "text": [
      "Mean score : 0.8822\n",
      "Std score : 0.00101\n"
     ]
    }
   ],
   "source": [
    "y = users_final['country_destination'].values\n",
    "weights = {c: 1-y.tolist().count(c)/y.shape[0] for c in np.unique(y)}\n",
    "model = RandomForestClassifier(n_estimators=50, max_depth=15, class_weight=weights)\n",
    "res = cross_validation_score(model, X, y, k=5)\n",
    "print(f\"Mean score : {round(np.mean(res), 4)}\")\n",
    "print(f\"Std score : {round(np.std(res), 5)}\")"
   ]
  },
  {
   "cell_type": "code",
   "execution_count": 92,
   "metadata": {},
   "outputs": [
    {
     "data": {
      "text/plain": [
       "0.928638293293104"
      ]
     },
     "execution_count": 92,
     "metadata": {},
     "output_type": "execute_result"
    }
   ],
   "source": [
    "n = int(X.shape[0] * 0.7)\n",
    "model.fit(X[:n], y[:n])\n",
    "pred_probas = model.predict_proba(X[n:])\n",
    "idx = np.argsort(-pred_probas)[:,:5]\n",
    "\n",
    "def probas2pred(idsort, model):\n",
    "    return [model.classes_[i] for i in idsort]\n",
    "\n",
    "df = pd.DataFrame()\n",
    "df['country_destination'] = [probas2pred(idsort, model) for idsort in idx]\n",
    "df['true_destination'] = y[n:]\n",
    "df['dcg'] = df.apply(lambda r: ndcg(r['country_destination'], r['true_destination']), axis=1)\n",
    "df['dcg'].mean()"
   ]
  },
  {
   "cell_type": "code",
   "execution_count": 93,
   "metadata": {},
   "outputs": [
    {
     "data": {
      "text/plain": [
       "2"
      ]
     },
     "execution_count": 93,
     "metadata": {},
     "output_type": "execute_result"
    }
   ],
   "source": [
    "df.apply(lambda r: r['country_destination'][0] not in ('NDF', 'US', 'other'), axis=1).astype(int).sum()"
   ]
  },
  {
   "cell_type": "code",
   "execution_count": 28,
   "metadata": {},
   "outputs": [
    {
     "name": "stdout",
     "output_type": "stream",
     "text": [
      "Expected label US\n",
      "[4 0 7 0 0 4 2 1 0 6 1 1 6 1 0 0 0 0 0 2 0 0 0 0 0 0 0 0 1]\n"
     ]
    },
    {
     "data": {
      "text/html": [
       "<iframe src=\"about:blank\" width=\"1100\" height=\"600\"style=\"border:none !important;\" data-html=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 onload=\"this.contentDocument.open();this.contentDocument.write(atob(this.getAttribute('data-html')));this.contentDocument.close();\" \"allowfullscreen\" \"webkitallowfullscreen\" \"mozallowfullscreen\"></iframe>"
      ],
      "text/plain": [
       "<folium.folium.Map at 0x14d1ec48cd0>"
      ]
     },
     "execution_count": 28,
     "metadata": {},
     "output_type": "execute_result"
    }
   ],
   "source": [
    "import folium\n",
    "from folium.features import DivIcon\n",
    "\n",
    "i = -34\n",
    "truth = y[i]\n",
    "print(\"Expected label\", truth)\n",
    "u = X[i]\n",
    "print(u)\n",
    "probas = {}\n",
    "for proba, country in zip(model.predict_proba([u])[0], model.classes_):\n",
    "    probas[country] = proba\n",
    "\n",
    "coords = {\n",
    "    'FR': (46, 2),\n",
    "    'US': (40, -103),\n",
    "    'CA': (55, -110),\n",
    "    'PT': (41, -9),\n",
    "    'ES': (37, -2),\n",
    "    'AU': (-35, 149),\n",
    "    'DE': (52, 13),\n",
    "    'IT': (41, 12),\n",
    "    'GB': (55, -2),\n",
    "    'NL': (52, 5),\n",
    "}\n",
    "\n",
    "f = folium.Figure(width=1100, height=600)\n",
    "m = folium.Map([30, 0], zoom_start=2, scrollWheelZoom=False,).add_to(f)\n",
    "\n",
    "for country in coords:\n",
    "    prob = coords[country][0]\n",
    "    folium.Circle(\n",
    "        [coords[country][0], coords[country][1]],\n",
    "        900000*probas[country], fill=True, color='red' if country == truth else 'blue').add_child(folium.Popup(f'Probabilities : {probas[country]}')).add_to(m)\n",
    "    folium.map.Marker(\n",
    "        [coords[country][0]+0.5, coords[country][1]-1.6],\n",
    "        icon=DivIcon(\n",
    "            icon_size=(150,36),\n",
    "            icon_anchor=(0,0),\n",
    "            html=f'<div style=\"font-size: 9pt\">{country}\\n{round(probas[country], 2)}</div>',\n",
    "            ),\n",
    "        ).add_to(m)\n",
    "m"
   ]
  }
 ],
 "metadata": {
  "kernelspec": {
   "display_name": "bookerguess",
   "language": "python",
   "name": "bookerguess"
  },
  "language_info": {
   "codemirror_mode": {
    "name": "ipython",
    "version": 3
   },
   "file_extension": ".py",
   "mimetype": "text/x-python",
   "name": "python",
   "nbconvert_exporter": "python",
   "pygments_lexer": "ipython3",
   "version": "3.8.2"
  }
 },
 "nbformat": 4,
 "nbformat_minor": 4
}
