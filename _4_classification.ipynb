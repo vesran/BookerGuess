{
 "cells": [
  {
   "cell_type": "markdown",
   "metadata": {},
   "source": [
    "# Classification"
   ]
  },
  {
   "cell_type": "code",
   "execution_count": 2,
   "metadata": {},
   "outputs": [],
   "source": [
    "import pandas as pd\n",
    "import numpy as np\n",
    "import matplotlib.pyplot as plt\n",
    "import seaborn as sns"
   ]
  },
  {
   "cell_type": "markdown",
   "metadata": {},
   "source": [
    "## Features engineering\n",
    "\n",
    "-> toutes les données de users\n",
    "-> mois\n",
    "-> toutes les triplets d'actions possibles\n",
    "-> time_elapsed\n",
    "-> "
   ]
  },
  {
   "cell_type": "code",
   "execution_count": 3,
   "metadata": {},
   "outputs": [],
   "source": [
    "# Import data\n",
    "users = pd.read_csv('data/train_users_2.csv')\n",
    "test_users = pd.read_csv('data/test_users.csv')\n",
    "sessions = pd.read_csv('data/sessions.csv')\n",
    "\n",
    "# Add labels DF/NDF\n",
    "users['destination_found'] = users.apply(lambda r: 'NDF' if r['country_destination'] == 'NDF' else 'DF', axis=1)\n",
    "\n",
    "# Retain users that have a session & add information about their session\n",
    "sessions_naless = sessions.fillna('_')\n",
    "sessions['action_name'] = sessions_naless['action'] + '-' + sessions_naless['action_type'] + '-' + sessions_naless['action_detail']\n",
    "users_sessions = sessions.groupby('user_id').agg({\n",
    "    \"action_name\": pd.Series.tolist,\n",
    "    'secs_elapsed': lambda r: round(r.sum() / (60**2), 0),\n",
    "})\n",
    "users_sessions = users_sessions.rename({\"secs_elapsed\":\"hours_elapsed\", \"action_name\":\"actions\",}, axis=1)\n",
    "users = users_sessions.reset_index().rename({'user_id':'id'}, axis=1).merge(users, how='inner', on='id')\n",
    "\n",
    "# Make dataset balanced by keeping the smae number users in each classes\n",
    "n = min(users[users['destination_found'] == 'NDF'].shape[0], users[users['destination_found'] == 'DF'].shape[0])\n",
    "users = pd.concat([users[users['destination_found'] == 'NDF'].head(n), users[users['destination_found'] == 'DF'].head(n)]).sample(frac=1).reset_index(drop=True)\n",
    "users = users.sort_values('id')"
   ]
  },
  {
   "cell_type": "code",
   "execution_count": 120,
   "metadata": {},
   "outputs": [
    {
     "name": "stdout",
     "output_type": "stream",
     "text": [
      "users.head :  (57548, 484)\n"
     ]
    },
    {
     "data": {
      "text/html": [
       "<div>\n",
       "<style scoped>\n",
       "    .dataframe tbody tr th:only-of-type {\n",
       "        vertical-align: middle;\n",
       "    }\n",
       "\n",
       "    .dataframe tbody tr th {\n",
       "        vertical-align: top;\n",
       "    }\n",
       "\n",
       "    .dataframe thead th {\n",
       "        text-align: right;\n",
       "    }\n",
       "</style>\n",
       "<table border=\"1\" class=\"dataframe\">\n",
       "  <thead>\n",
       "    <tr style=\"text-align: right;\">\n",
       "      <th></th>\n",
       "      <th>id</th>\n",
       "      <th>actions</th>\n",
       "      <th>hours_elapsed</th>\n",
       "      <th>date_account_created</th>\n",
       "      <th>timestamp_first_active</th>\n",
       "      <th>date_first_booking</th>\n",
       "      <th>gender</th>\n",
       "      <th>age</th>\n",
       "      <th>signup_method</th>\n",
       "      <th>signup_flow</th>\n",
       "      <th>...</th>\n",
       "      <th>accept_decline-view-host_respond_page</th>\n",
       "      <th>index-view-view_user_real_names</th>\n",
       "      <th>index-view-view_identity_verifications</th>\n",
       "      <th>index-view-view_ghosting_reasons</th>\n",
       "      <th>show-view-view_identity_verifications</th>\n",
       "      <th>index-view-view_ghostings</th>\n",
       "      <th>deactivated-view-host_standard_suspension</th>\n",
       "      <th>terms--unknown---unknown-</th>\n",
       "      <th>delete-submit-deactivate_user_account</th>\n",
       "      <th>rest-of-world--unknown---unknown-</th>\n",
       "    </tr>\n",
       "  </thead>\n",
       "  <tbody>\n",
       "    <tr>\n",
       "      <th>41025</th>\n",
       "      <td>zzq90ckj2z</td>\n",
       "      <td>[_-message_post-message_post, pending-booking_...</td>\n",
       "      <td>167.0</td>\n",
       "      <td>2014-04-17</td>\n",
       "      <td>2014-04-17 15:09:26</td>\n",
       "      <td>2014-04-18</td>\n",
       "      <td>-unknown-</td>\n",
       "      <td>-1.0</td>\n",
       "      <td>basic</td>\n",
       "      <td>0</td>\n",
       "      <td>...</td>\n",
       "      <td>0</td>\n",
       "      <td>0</td>\n",
       "      <td>0</td>\n",
       "      <td>0</td>\n",
       "      <td>0</td>\n",
       "      <td>0</td>\n",
       "      <td>0</td>\n",
       "      <td>0</td>\n",
       "      <td>0</td>\n",
       "      <td>0</td>\n",
       "    </tr>\n",
       "    <tr>\n",
       "      <th>9287</th>\n",
       "      <td>zzv8sgicbk</td>\n",
       "      <td>[create-submit-create_user, personalize-data-w...</td>\n",
       "      <td>129.0</td>\n",
       "      <td>2014-02-25</td>\n",
       "      <td>2014-02-25 06:06:28</td>\n",
       "      <td>2014-02-25</td>\n",
       "      <td>MALE</td>\n",
       "      <td>27.0</td>\n",
       "      <td>basic</td>\n",
       "      <td>0</td>\n",
       "      <td>...</td>\n",
       "      <td>0</td>\n",
       "      <td>0</td>\n",
       "      <td>0</td>\n",
       "      <td>0</td>\n",
       "      <td>0</td>\n",
       "      <td>0</td>\n",
       "      <td>0</td>\n",
       "      <td>0</td>\n",
       "      <td>0</td>\n",
       "      <td>0</td>\n",
       "    </tr>\n",
       "    <tr>\n",
       "      <th>1384</th>\n",
       "      <td>zzvr84im58</td>\n",
       "      <td>[authenticate-submit-login, header_userpic-dat...</td>\n",
       "      <td>21.0</td>\n",
       "      <td>2014-03-15</td>\n",
       "      <td>2014-03-15 02:25:07</td>\n",
       "      <td>2014-03-17</td>\n",
       "      <td>MALE</td>\n",
       "      <td>32.0</td>\n",
       "      <td>facebook</td>\n",
       "      <td>12</td>\n",
       "      <td>...</td>\n",
       "      <td>0</td>\n",
       "      <td>0</td>\n",
       "      <td>0</td>\n",
       "      <td>0</td>\n",
       "      <td>0</td>\n",
       "      <td>0</td>\n",
       "      <td>0</td>\n",
       "      <td>0</td>\n",
       "      <td>0</td>\n",
       "      <td>0</td>\n",
       "    </tr>\n",
       "    <tr>\n",
       "      <th>13202</th>\n",
       "      <td>zzy7t0y9cm</td>\n",
       "      <td>[personalize-data-wishlist_content_update, hea...</td>\n",
       "      <td>20.0</td>\n",
       "      <td>2014-03-27</td>\n",
       "      <td>2014-03-27 18:53:45</td>\n",
       "      <td>2014-03-29</td>\n",
       "      <td>-unknown-</td>\n",
       "      <td>-1.0</td>\n",
       "      <td>basic</td>\n",
       "      <td>0</td>\n",
       "      <td>...</td>\n",
       "      <td>0</td>\n",
       "      <td>0</td>\n",
       "      <td>0</td>\n",
       "      <td>0</td>\n",
       "      <td>0</td>\n",
       "      <td>0</td>\n",
       "      <td>0</td>\n",
       "      <td>0</td>\n",
       "      <td>0</td>\n",
       "      <td>0</td>\n",
       "    </tr>\n",
       "    <tr>\n",
       "      <th>41949</th>\n",
       "      <td>zzzlylp57e</td>\n",
       "      <td>[similar_listings-data-similar_listings, show-...</td>\n",
       "      <td>120.0</td>\n",
       "      <td>2014-06-11</td>\n",
       "      <td>2014-06-11 07:46:39</td>\n",
       "      <td>2014-06-24</td>\n",
       "      <td>-unknown-</td>\n",
       "      <td>-1.0</td>\n",
       "      <td>basic</td>\n",
       "      <td>0</td>\n",
       "      <td>...</td>\n",
       "      <td>0</td>\n",
       "      <td>0</td>\n",
       "      <td>0</td>\n",
       "      <td>0</td>\n",
       "      <td>0</td>\n",
       "      <td>0</td>\n",
       "      <td>0</td>\n",
       "      <td>0</td>\n",
       "      <td>0</td>\n",
       "      <td>0</td>\n",
       "    </tr>\n",
       "  </tbody>\n",
       "</table>\n",
       "<p>5 rows × 484 columns</p>\n",
       "</div>"
      ],
      "text/plain": [
       "               id                                            actions  \\\n",
       "41025  zzq90ckj2z  [_-message_post-message_post, pending-booking_...   \n",
       "9287   zzv8sgicbk  [create-submit-create_user, personalize-data-w...   \n",
       "1384   zzvr84im58  [authenticate-submit-login, header_userpic-dat...   \n",
       "13202  zzy7t0y9cm  [personalize-data-wishlist_content_update, hea...   \n",
       "41949  zzzlylp57e  [similar_listings-data-similar_listings, show-...   \n",
       "\n",
       "       hours_elapsed date_account_created timestamp_first_active  \\\n",
       "41025          167.0           2014-04-17    2014-04-17 15:09:26   \n",
       "9287           129.0           2014-02-25    2014-02-25 06:06:28   \n",
       "1384            21.0           2014-03-15    2014-03-15 02:25:07   \n",
       "13202           20.0           2014-03-27    2014-03-27 18:53:45   \n",
       "41949          120.0           2014-06-11    2014-06-11 07:46:39   \n",
       "\n",
       "      date_first_booking     gender   age signup_method  signup_flow  ...  \\\n",
       "41025         2014-04-18  -unknown-  -1.0         basic            0  ...   \n",
       "9287          2014-02-25       MALE  27.0         basic            0  ...   \n",
       "1384          2014-03-17       MALE  32.0      facebook           12  ...   \n",
       "13202         2014-03-29  -unknown-  -1.0         basic            0  ...   \n",
       "41949         2014-06-24  -unknown-  -1.0         basic            0  ...   \n",
       "\n",
       "      accept_decline-view-host_respond_page index-view-view_user_real_names  \\\n",
       "41025                                     0                               0   \n",
       "9287                                      0                               0   \n",
       "1384                                      0                               0   \n",
       "13202                                     0                               0   \n",
       "41949                                     0                               0   \n",
       "\n",
       "      index-view-view_identity_verifications index-view-view_ghosting_reasons  \\\n",
       "41025                                      0                                0   \n",
       "9287                                       0                                0   \n",
       "1384                                       0                                0   \n",
       "13202                                      0                                0   \n",
       "41949                                      0                                0   \n",
       "\n",
       "      show-view-view_identity_verifications index-view-view_ghostings  \\\n",
       "41025                                     0                         0   \n",
       "9287                                      0                         0   \n",
       "1384                                      0                         0   \n",
       "13202                                     0                         0   \n",
       "41949                                     0                         0   \n",
       "\n",
       "      deactivated-view-host_standard_suspension terms--unknown---unknown-  \\\n",
       "41025                                         0                         0   \n",
       "9287                                          0                         0   \n",
       "1384                                          0                         0   \n",
       "13202                                         0                         0   \n",
       "41949                                         0                         0   \n",
       "\n",
       "      delete-submit-deactivate_user_account rest-of-world--unknown---unknown-  \n",
       "41025                                     0                                 0  \n",
       "9287                                      0                                 0  \n",
       "1384                                      0                                 0  \n",
       "13202                                     0                                 0  \n",
       "41949                                     0                                 0  \n",
       "\n",
       "[5 rows x 484 columns]"
      ]
     },
     "execution_count": 120,
     "metadata": {},
     "output_type": "execute_result"
    }
   ],
   "source": [
    "print(\"users.head : \", users.shape)\n",
    "users.tail()"
   ]
  },
  {
   "cell_type": "code",
   "execution_count": 5,
   "metadata": {},
   "outputs": [],
   "source": [
    "# Converting date string into datetime object\n",
    "users['timestamp_first_active'] = pd.to_datetime(users['timestamp_first_active'], format='%Y%m%d%H%M%S')\n",
    "users['date_account_created'] = pd.to_datetime(users['date_account_created'], format='%Y-%m-%d')\n",
    "users[\"date_first_booking\"] = pd.to_datetime(users['date_first_booking'], format='%Y-%m-%d')\n",
    "users['date_first_active'] = pd.to_datetime(users['timestamp_first_active'].dt.date, format='%Y-%m-%d')\n",
    "users['hour_first_active'] = users['timestamp_first_active'].dt.hour\n",
    "users['month_first_active'] = users['date_first_active'].dt.month\n",
    "users['year_first_active'] = users['date_first_active'].dt.year"
   ]
  },
  {
   "cell_type": "code",
   "execution_count": 6,
   "metadata": {},
   "outputs": [],
   "source": [
    "def process_age(age):\n",
    "    if age > 1000:\n",
    "        return 2015 - age\n",
    "    elif age < 100:\n",
    "        return age\n",
    "    else: \n",
    "        return -1\n",
    "\n",
    "# Bucketize age variable\n",
    "users['age'] = users.apply(lambda r: process_age(r['age']), axis=1)\n",
    "users['age_group'] = sum([(users['age'] < 0).astype(int),\n",
    "    (users['age'] < 18).astype(int),\n",
    "    (users['age'] < 25).astype(int),\n",
    "    (users['age'] < 30).astype(int),\n",
    "    (users['age'] < 35).astype(int),\n",
    "    (users['age'] < 40).astype(int),\n",
    "    (users['age'] < 60).astype(int),\n",
    "    (users['age'] < 100).astype(int)])"
   ]
  },
  {
   "cell_type": "code",
   "execution_count": 7,
   "metadata": {},
   "outputs": [],
   "source": [
    "def process_signup_flow(num_page):\n",
    "    if num_page <= 3:\n",
    "        return num_page\n",
    "    elif 3 < num_page < 12:\n",
    "        return 'middle'\n",
    "    else:\n",
    "        return 12\n",
    "    \n",
    "# Bucketize signup_flow\n",
    "users['signup_flow_group'] = users.apply(lambda r: process_signup_flow(r['signup_flow']), axis=1)"
   ]
  },
  {
   "cell_type": "code",
   "execution_count": 8,
   "metadata": {},
   "outputs": [],
   "source": [
    "# Bucketize language\n",
    "users['language_group'] = (users['language'] == 'en').astype(int)"
   ]
  },
  {
   "cell_type": "code",
   "execution_count": 9,
   "metadata": {},
   "outputs": [],
   "source": [
    "# Only retains browser which have a large enough set of users\n",
    "users_browsers = users.groupby('first_browser').count()[['id']].sort_values(by='id')\n",
    "browsers = set(users_browsers[users_browsers['id'] > 1000].index)\n",
    "users['first_browser_processed'] = users.apply(lambda r: r['first_browser'] if r['first_browser'] in browsers else 'Other', axis=1)"
   ]
  },
  {
   "cell_type": "code",
   "execution_count": 118,
   "metadata": {},
   "outputs": [],
   "source": [
    "# Fill Nan in first_affiliate_tracked\n",
    "users['first_affiliate_tracked'] = users['first_affiliate_tracked'].fillna('-unknown-')"
   ]
  },
  {
   "cell_type": "code",
   "execution_count": 80,
   "metadata": {},
   "outputs": [],
   "source": [
    "sessions_grouped = sessions[sessions['user_id'].isin(users['id'].values)].groupby('user_id')"
   ]
  },
  {
   "cell_type": "code",
   "execution_count": 129,
   "metadata": {},
   "outputs": [
    {
     "data": {
      "text/html": [
       "<div>\n",
       "<style scoped>\n",
       "    .dataframe tbody tr th:only-of-type {\n",
       "        vertical-align: middle;\n",
       "    }\n",
       "\n",
       "    .dataframe tbody tr th {\n",
       "        vertical-align: top;\n",
       "    }\n",
       "\n",
       "    .dataframe thead th {\n",
       "        text-align: right;\n",
       "    }\n",
       "</style>\n",
       "<table border=\"1\" class=\"dataframe\">\n",
       "  <thead>\n",
       "    <tr style=\"text-align: right;\">\n",
       "      <th></th>\n",
       "      <th>action_name</th>\n",
       "    </tr>\n",
       "    <tr>\n",
       "      <th>user_id</th>\n",
       "      <th></th>\n",
       "    </tr>\n",
       "  </thead>\n",
       "  <tbody>\n",
       "    <tr>\n",
       "      <th>00023iyk9l</th>\n",
       "      <td>0</td>\n",
       "    </tr>\n",
       "    <tr>\n",
       "      <th>001wyh0pz8</th>\n",
       "      <td>0</td>\n",
       "    </tr>\n",
       "    <tr>\n",
       "      <th>0028jgx1x1</th>\n",
       "      <td>0</td>\n",
       "    </tr>\n",
       "    <tr>\n",
       "      <th>002qnbzfs5</th>\n",
       "      <td>0</td>\n",
       "    </tr>\n",
       "    <tr>\n",
       "      <th>0035hobuyj</th>\n",
       "      <td>0</td>\n",
       "    </tr>\n",
       "    <tr>\n",
       "      <th>...</th>\n",
       "      <td>...</td>\n",
       "    </tr>\n",
       "    <tr>\n",
       "      <th>zzq90ckj2z</th>\n",
       "      <td>0</td>\n",
       "    </tr>\n",
       "    <tr>\n",
       "      <th>zzv8sgicbk</th>\n",
       "      <td>1</td>\n",
       "    </tr>\n",
       "    <tr>\n",
       "      <th>zzvr84im58</th>\n",
       "      <td>0</td>\n",
       "    </tr>\n",
       "    <tr>\n",
       "      <th>zzy7t0y9cm</th>\n",
       "      <td>0</td>\n",
       "    </tr>\n",
       "    <tr>\n",
       "      <th>zzzlylp57e</th>\n",
       "      <td>0</td>\n",
       "    </tr>\n",
       "  </tbody>\n",
       "</table>\n",
       "<p>57548 rows × 1 columns</p>\n",
       "</div>"
      ],
      "text/plain": [
       "            action_name\n",
       "user_id                \n",
       "00023iyk9l            0\n",
       "001wyh0pz8            0\n",
       "0028jgx1x1            0\n",
       "002qnbzfs5            0\n",
       "0035hobuyj            0\n",
       "...                 ...\n",
       "zzq90ckj2z            0\n",
       "zzv8sgicbk            1\n",
       "zzvr84im58            0\n",
       "zzy7t0y9cm            0\n",
       "zzzlylp57e            0\n",
       "\n",
       "[57548 rows x 1 columns]"
      ]
     },
     "execution_count": 129,
     "metadata": {},
     "output_type": "execute_result"
    }
   ],
   "source": [
    "action = 'edit-view-edit_profile'\n",
    "sessions_grouped.agg({'action_name': lambda g: action in g.values}).astype(int)"
   ]
  },
  {
   "cell_type": "code",
   "execution_count": 108,
   "metadata": {},
   "outputs": [],
   "source": [
    "for action in sessions['action_name'].unique():\n",
    "    users[action] = sessions_grouped.agg({'action_name': lambda g: action in g.values}).astype(int).values"
   ]
  },
  {
   "cell_type": "code",
   "execution_count": 128,
   "metadata": {},
   "outputs": [
    {
     "data": {
      "text/plain": [
       "9553"
      ]
     },
     "execution_count": 128,
     "metadata": {},
     "output_type": "execute_result"
    }
   ],
   "source": [
    "users['edit-view-edit_profile'].sum()"
   ]
  },
  {
   "cell_type": "code",
   "execution_count": 112,
   "metadata": {},
   "outputs": [],
   "source": [
    "# Selecting features\n",
    "features = ['month_first_active', 'year_first_active', 'gender', 'age_group', 'signup_method', 'signup_flow_group', 'affiliate_channel', 'affiliate_provider', \n",
    "           'first_affiliate_tracked', 'signup_app', 'first_device_type', 'first_browser_processed', 'language_group']\n",
    "\n",
    "[features.append(action) for action in sessions['action_name'].unique()[:]]\n",
    "\n",
    "data = users[features].copy()\n",
    "\n",
    "X = pd.get_dummies(data)\n",
    "y = users['destination_found'].values\n",
    "# y = users['country_destination'].values"
   ]
  },
  {
   "cell_type": "code",
   "execution_count": 113,
   "metadata": {},
   "outputs": [
    {
     "data": {
      "text/plain": [
       "(57548, 470)"
      ]
     },
     "execution_count": 113,
     "metadata": {},
     "output_type": "execute_result"
    }
   ],
   "source": [
    "data.shape"
   ]
  },
  {
   "cell_type": "markdown",
   "metadata": {},
   "source": [
    "## Training model"
   ]
  },
  {
   "cell_type": "code",
   "execution_count": 116,
   "metadata": {},
   "outputs": [
    {
     "name": "stdout",
     "output_type": "stream",
     "text": [
      "Mean score : 0.7511294669928924\n",
      "Std score : 0.0014893783098900576\n"
     ]
    }
   ],
   "source": [
    "from sklearn.model_selection import cross_val_score\n",
    "from sklearn.ensemble import RandomForestClassifier\n",
    "\n",
    "model = RandomForestClassifier(n_estimators=50, max_depth=16)\n",
    "res = cross_val_score(model, X=X, y=y)\n",
    "print(f\"Mean score : {np.mean(res)}\")\n",
    "print(f\"Std score : {np.std(res)}\")"
   ]
  },
  {
   "cell_type": "code",
   "execution_count": 49,
   "metadata": {},
   "outputs": [
    {
     "name": "stdout",
     "output_type": "stream",
     "text": [
      "[[0.76672884 0.23327116]\n",
      " [0.24910786 0.75089214]]\n"
     ]
    },
    {
     "data": {
      "image/png": "[encoded data removed]",
      "text/plain": [
       "<Figure size 432x288 with 2 Axes>"
      ]
     },
     "metadata": {
      "needs_background": "light"
     },
     "output_type": "display_data"
    }
   ],
   "source": [
    "from sklearn.metrics import plot_confusion_matrix\n",
    "n = int(X.shape[0] * 0.7)\n",
    "model.fit(X[:n], y[:n])\n",
    "\n",
    "# Plot non-normalized confusion matrix\n",
    "disp = plot_confusion_matrix(model, X[n:], y[n:], cmap=plt.cm.Blues, normalize='true')\n",
    "disp.ax_.set_title(\"Normalized confusion matrix\")\n",
    "print(disp.confusion_matrix)"
   ]
  }
 ],
 "metadata": {
  "kernelspec": {
   "display_name": "bookerguess",
   "language": "python",
   "name": "bookerguess"
  },
  "language_info": {
   "codemirror_mode": {
    "name": "ipython",
    "version": 3
   },
   "file_extension": ".py",
   "mimetype": "text/x-python",
   "name": "python",
   "nbconvert_exporter": "python",
   "pygments_lexer": "ipython3",
   "version": "3.8.2"
  }
 },
 "nbformat": 4,
 "nbformat_minor": 4
}
