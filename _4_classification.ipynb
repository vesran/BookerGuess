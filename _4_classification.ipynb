{
 "cells": [
  {
   "cell_type": "markdown",
   "metadata": {},
   "source": [
    "# Classification\n",
    "\n",
    "Dans cette partie, on va classifier les utilisateurs ayant une session selon qu'ils aient réservé ou non. On va donc garder l'étiquette **NDF** et le reste des étiquettes de la colonne **country_destination** sera marqué comme **DF**."
   ]
  },
  {
   "cell_type": "code",
   "execution_count": 23,
   "metadata": {},
   "outputs": [],
   "source": [
    "import pandas as pd\n",
    "import numpy as np\n",
    "import matplotlib.pyplot as plt\n",
    "import seaborn as sns\n",
    "\n",
    "from tools.metrics import confusion_matrix, cross_validation_score\n",
    "plt.style.use('seaborn')"
   ]
  },
  {
   "cell_type": "markdown",
   "metadata": {},
   "source": [
    "## Features engineering\n"
   ]
  },
  {
   "cell_type": "code",
   "execution_count": 24,
   "metadata": {},
   "outputs": [],
   "source": [
    "# Import data\n",
    "users = pd.read_csv('data/train_users_2.csv')\n",
    "test_users = pd.read_csv('data/test_users.csv')\n",
    "sessions = pd.read_csv('data/sessions.csv')\n",
    "\n",
    "# Add labels DF/NDF\n",
    "users['destination_found'] = users.apply(lambda r: 'NDF' if r['country_destination'] == 'NDF' else 'DF', axis=1)\n",
    "\n",
    "# Retain users that have a session & add information about their session\n",
    "sessions_naless = sessions.fillna('_')\n",
    "sessions['action_name'] = sessions_naless['action'] + '-' + sessions_naless['action_type'] + '-' + sessions_naless['action_detail']\n",
    "users_sessions = sessions.groupby('user_id').agg({\n",
    "    \"action_name\": pd.Series.tolist,\n",
    "    'secs_elapsed': lambda r: round(r.sum() / (60**2), 0),\n",
    "})\n",
    "users_sessions = users_sessions.rename({\"secs_elapsed\":\"hours_elapsed\", \"action_name\":\"actions\",}, axis=1)\n",
    "users = users_sessions.reset_index().rename({'user_id':'id'}, axis=1).merge(users, how='inner', on='id')\n",
    "users = users.sort_values('id')"
   ]
  },
  {
   "cell_type": "code",
   "execution_count": 25,
   "metadata": {},
   "outputs": [
    {
     "name": "stdout",
     "output_type": "stream",
     "text": [
      "users.head :  (73815, 19)\n"
     ]
    },
    {
     "data": {
      "text/html": [
       "<div>\n",
       "<style scoped>\n",
       "    .dataframe tbody tr th:only-of-type {\n",
       "        vertical-align: middle;\n",
       "    }\n",
       "\n",
       "    .dataframe tbody tr th {\n",
       "        vertical-align: top;\n",
       "    }\n",
       "\n",
       "    .dataframe thead th {\n",
       "        text-align: right;\n",
       "    }\n",
       "</style>\n",
       "<table border=\"1\" class=\"dataframe\">\n",
       "  <thead>\n",
       "    <tr style=\"text-align: right;\">\n",
       "      <th></th>\n",
       "      <th>id</th>\n",
       "      <th>actions</th>\n",
       "      <th>hours_elapsed</th>\n",
       "      <th>date_account_created</th>\n",
       "      <th>timestamp_first_active</th>\n",
       "      <th>date_first_booking</th>\n",
       "      <th>gender</th>\n",
       "      <th>age</th>\n",
       "      <th>signup_method</th>\n",
       "      <th>signup_flow</th>\n",
       "      <th>language</th>\n",
       "      <th>affiliate_channel</th>\n",
       "      <th>affiliate_provider</th>\n",
       "      <th>first_affiliate_tracked</th>\n",
       "      <th>signup_app</th>\n",
       "      <th>first_device_type</th>\n",
       "      <th>first_browser</th>\n",
       "      <th>country_destination</th>\n",
       "      <th>destination_found</th>\n",
       "    </tr>\n",
       "  </thead>\n",
       "  <tbody>\n",
       "    <tr>\n",
       "      <th>73812</th>\n",
       "      <td>zzysuoqg6x</td>\n",
       "      <td>[hosting_social_proof--unknown---unknown-, cre...</td>\n",
       "      <td>0.0</td>\n",
       "      <td>2014-01-08</td>\n",
       "      <td>20140108221010</td>\n",
       "      <td>NaN</td>\n",
       "      <td>-unknown-</td>\n",
       "      <td>NaN</td>\n",
       "      <td>basic</td>\n",
       "      <td>0</td>\n",
       "      <td>en</td>\n",
       "      <td>direct</td>\n",
       "      <td>direct</td>\n",
       "      <td>untracked</td>\n",
       "      <td>Web</td>\n",
       "      <td>Windows Desktop</td>\n",
       "      <td>IE</td>\n",
       "      <td>NDF</td>\n",
       "      <td>NDF</td>\n",
       "    </tr>\n",
       "    <tr>\n",
       "      <th>73813</th>\n",
       "      <td>zzywmcn0jv</td>\n",
       "      <td>[header_userpic-data-header_userpic, personali...</td>\n",
       "      <td>597.0</td>\n",
       "      <td>2014-02-21</td>\n",
       "      <td>20140221160109</td>\n",
       "      <td>NaN</td>\n",
       "      <td>-unknown-</td>\n",
       "      <td>NaN</td>\n",
       "      <td>basic</td>\n",
       "      <td>0</td>\n",
       "      <td>en</td>\n",
       "      <td>direct</td>\n",
       "      <td>direct</td>\n",
       "      <td>untracked</td>\n",
       "      <td>Web</td>\n",
       "      <td>iPhone</td>\n",
       "      <td>Mobile Safari</td>\n",
       "      <td>NDF</td>\n",
       "      <td>NDF</td>\n",
       "    </tr>\n",
       "    <tr>\n",
       "      <th>73814</th>\n",
       "      <td>zzzlylp57e</td>\n",
       "      <td>[similar_listings-data-similar_listings, show-...</td>\n",
       "      <td>120.0</td>\n",
       "      <td>2014-06-11</td>\n",
       "      <td>20140611074639</td>\n",
       "      <td>2014-06-24</td>\n",
       "      <td>-unknown-</td>\n",
       "      <td>NaN</td>\n",
       "      <td>basic</td>\n",
       "      <td>0</td>\n",
       "      <td>en</td>\n",
       "      <td>seo</td>\n",
       "      <td>google</td>\n",
       "      <td>linked</td>\n",
       "      <td>Web</td>\n",
       "      <td>Windows Desktop</td>\n",
       "      <td>Chrome</td>\n",
       "      <td>FR</td>\n",
       "      <td>DF</td>\n",
       "    </tr>\n",
       "  </tbody>\n",
       "</table>\n",
       "</div>"
      ],
      "text/plain": [
       "               id                                            actions  \\\n",
       "73812  zzysuoqg6x  [hosting_social_proof--unknown---unknown-, cre...   \n",
       "73813  zzywmcn0jv  [header_userpic-data-header_userpic, personali...   \n",
       "73814  zzzlylp57e  [similar_listings-data-similar_listings, show-...   \n",
       "\n",
       "       hours_elapsed date_account_created  timestamp_first_active  \\\n",
       "73812            0.0           2014-01-08          20140108221010   \n",
       "73813          597.0           2014-02-21          20140221160109   \n",
       "73814          120.0           2014-06-11          20140611074639   \n",
       "\n",
       "      date_first_booking     gender  age signup_method  signup_flow language  \\\n",
       "73812                NaN  -unknown-  NaN         basic            0       en   \n",
       "73813                NaN  -unknown-  NaN         basic            0       en   \n",
       "73814         2014-06-24  -unknown-  NaN         basic            0       en   \n",
       "\n",
       "      affiliate_channel affiliate_provider first_affiliate_tracked signup_app  \\\n",
       "73812            direct             direct               untracked        Web   \n",
       "73813            direct             direct               untracked        Web   \n",
       "73814               seo             google                  linked        Web   \n",
       "\n",
       "      first_device_type  first_browser country_destination destination_found  \n",
       "73812   Windows Desktop             IE                 NDF               NDF  \n",
       "73813            iPhone  Mobile Safari                 NDF               NDF  \n",
       "73814   Windows Desktop         Chrome                  FR                DF  "
      ]
     },
     "execution_count": 25,
     "metadata": {},
     "output_type": "execute_result"
    }
   ],
   "source": [
    "print(\"users.head : \", users.shape)\n",
    "users.tail(3)"
   ]
  },
  {
   "cell_type": "code",
   "execution_count": 26,
   "metadata": {},
   "outputs": [],
   "source": [
    "# Converting date string into datetime object\n",
    "users['timestamp_first_active'] = pd.to_datetime(users['timestamp_first_active'], format='%Y%m%d%H%M%S')\n",
    "users['date_account_created'] = pd.to_datetime(users['date_account_created'], format='%Y-%m-%d')\n",
    "users[\"date_first_booking\"] = pd.to_datetime(users['date_first_booking'], format='%Y-%m-%d')\n",
    "users['date_first_active'] = pd.to_datetime(users['timestamp_first_active'].dt.date, format='%Y-%m-%d')\n",
    "users['hour_first_active'] = users['timestamp_first_active'].dt.hour\n",
    "users['month_first_active'] = users['date_first_active'].dt.month\n",
    "users['year_first_active'] = users['date_first_active'].dt.year"
   ]
  },
  {
   "cell_type": "code",
   "execution_count": 27,
   "metadata": {},
   "outputs": [],
   "source": [
    "def process_age(age):\n",
    "    if age > 1000:\n",
    "        return 2015 - age\n",
    "    elif age == 105:\n",
    "        return -2\n",
    "    elif age < 100:\n",
    "        return age\n",
    "    else: \n",
    "        return -1\n",
    "\n",
    "# Bucketize age variable\n",
    "users['age'] = users.apply(lambda r: process_age(r['age']), axis=1)\n",
    "users['age_group'] = sum([(users['age'] < 0).astype(int),\n",
    "    (users['age'] < 18).astype(int),\n",
    "    (users['age'] < 25).astype(int),\n",
    "    (users['age'] < 30).astype(int),\n",
    "    (users['age'] < 35).astype(int),\n",
    "    (users['age'] < 40).astype(int),\n",
    "    (users['age'] < 60).astype(int),\n",
    "    (users['age'] < 100).astype(int)])"
   ]
  },
  {
   "cell_type": "code",
   "execution_count": 28,
   "metadata": {},
   "outputs": [],
   "source": [
    "def process_signup_flow(num_page):\n",
    "    if num_page <= 3:\n",
    "        return num_page\n",
    "    elif 3 < num_page < 12:\n",
    "        return 'middle'\n",
    "    else:\n",
    "        return 12\n",
    "    \n",
    "# Bucketize signup_flow\n",
    "users['signup_flow_group'] = users.apply(lambda r: process_signup_flow(r['signup_flow']), axis=1)"
   ]
  },
  {
   "cell_type": "code",
   "execution_count": 29,
   "metadata": {},
   "outputs": [],
   "source": [
    "# Bucketize language\n",
    "users['language_group'] = (users['language'] == 'en').astype(int)"
   ]
  },
  {
   "cell_type": "code",
   "execution_count": 30,
   "metadata": {},
   "outputs": [],
   "source": [
    "# Only retains browser which have a large enough set of users\n",
    "users_browsers = users.groupby('first_browser').count()[['id']].sort_values(by='id')\n",
    "browsers = set(users_browsers[users_browsers['id'] > 1000].index)\n",
    "users['first_browser_processed'] = users.apply(lambda r: r['first_browser'] if r['first_browser'] in browsers else 'Other', axis=1)"
   ]
  },
  {
   "cell_type": "code",
   "execution_count": 31,
   "metadata": {},
   "outputs": [],
   "source": [
    "# Fill Nan in first_affiliate_tracked\n",
    "users['first_affiliate_tracked'] = users['first_affiliate_tracked'].fillna('-unknown-')"
   ]
  },
  {
   "cell_type": "code",
   "execution_count": 32,
   "metadata": {},
   "outputs": [],
   "source": [
    "# Most use device type (phone or pc)\n",
    "devices = sessions.groupby('user_id').agg({'device_type': lambda r: r.values.tolist(),}).reset_index().rename({'user_id':'id'}, axis=1)\n",
    "devices['most_use'] = devices.apply(lambda r: max(set(r['device_type']), key=r['device_type'].count), axis=1)\n",
    "\n",
    "phones = ['iPhone', 'iPad Tablet', 'Android App Unknown Phone/Tablet', 'Android Phone', 'Tablet', 'Chromebook', 'Blackberry',\n",
    "          'Windows Phone', 'Opera Phone', 'iPodtouch']\n",
    "pcs = ['Mac Desktop', 'Windows Desktop', 'Linux Desktop']\n",
    "\n",
    "def most_use2group(most_use):\n",
    "    exp = most_use.split('_count')[0]  # Remove _count suffix\n",
    "    if exp in phones:\n",
    "        return 'phone'\n",
    "    elif exp in pcs:\n",
    "        return 'pc'\n",
    "    else:\n",
    "        return '-unknown-'\n",
    "    \n",
    "devices['most_use_device_group'] = devices.apply(lambda r: most_use2group(r['most_use']), axis=1)\n",
    "devices.drop('most_use', axis=1)\n",
    "users = users.merge(devices, on='id', how='inner')"
   ]
  },
  {
   "cell_type": "code",
   "execution_count": 33,
   "metadata": {},
   "outputs": [],
   "source": [
    "# Bucketize number of hours elasped\n",
    "users['hours_elapsed_group'] = sum([(users['hours_elapsed'] < 0).astype(int),\n",
    "    (users['hours_elapsed'] < 50).astype(int),\n",
    "    (users['hours_elapsed'] < 100).astype(int),\n",
    "    (users['hours_elapsed'] < 150).astype(int),\n",
    "    (users['hours_elapsed'] < 200).astype(int),\n",
    "    (users['hours_elapsed'] < 250).astype(int),\n",
    "    (users['hours_elapsed'] < 300).astype(int),])"
   ]
  },
  {
   "cell_type": "code",
   "execution_count": 34,
   "metadata": {},
   "outputs": [],
   "source": [
    "# Bucketize number of unique actions\n",
    "users['nb_unique_actions'] = users.apply(lambda r: len(set(r['actions'])), axis=1)\n",
    "users['nb_unique_actions_group'] = sum([(users['nb_unique_actions'] < 14).astype(int),\n",
    "    (users['nb_unique_actions'] < 16).astype(int),\n",
    "    (users['nb_unique_actions'] < 18).astype(int),\n",
    "    (users['nb_unique_actions'] < 20).astype(int),\n",
    "    (users['nb_unique_actions'] < 22).astype(int),\n",
    "    (users['nb_unique_actions'] < 24).astype(int),])"
   ]
  },
  {
   "cell_type": "code",
   "execution_count": 46,
   "metadata": {},
   "outputs": [
    {
     "data": {
      "text/html": [
       "<div>\n",
       "<style scoped>\n",
       "    .dataframe tbody tr th:only-of-type {\n",
       "        vertical-align: middle;\n",
       "    }\n",
       "\n",
       "    .dataframe tbody tr th {\n",
       "        vertical-align: top;\n",
       "    }\n",
       "\n",
       "    .dataframe thead th {\n",
       "        text-align: right;\n",
       "    }\n",
       "</style>\n",
       "<table border=\"1\" class=\"dataframe\">\n",
       "  <thead>\n",
       "    <tr style=\"text-align: right;\">\n",
       "      <th></th>\n",
       "      <th>action_name_requested-submit-post_checkout_action</th>\n",
       "      <th>action_name_requested-view-p5</th>\n",
       "      <th>action_name_pending-booking_request-pending</th>\n",
       "      <th>action_name_agree_terms_check--unknown---unknown-</th>\n",
       "      <th>action_name_at_checkpoint-booking_request-at_checkpoint</th>\n",
       "      <th>action_name_ajax_photo_widget_form_iframe--unknown---unknown-</th>\n",
       "      <th>action_name_complete_status--unknown---unknown-</th>\n",
       "      <th>action_name_complete_redirect--unknown---unknown-</th>\n",
       "      <th>action_name_travel_plans_current-view-your_trips</th>\n",
       "      <th>action_name_populate_from_facebook--unknown---unknown-</th>\n",
       "      <th>action_name_social_connections-data-user_social_connections</th>\n",
       "      <th>action_name_create-submit-signup</th>\n",
       "      <th>action_name_update-submit-update_listing_description</th>\n",
       "      <th>action_name_manage_listing-view-manage_listing</th>\n",
       "      <th>action_name_set_user-submit-create_listing</th>\n",
       "    </tr>\n",
       "    <tr>\n",
       "      <th>user_id</th>\n",
       "      <th></th>\n",
       "      <th></th>\n",
       "      <th></th>\n",
       "      <th></th>\n",
       "      <th></th>\n",
       "      <th></th>\n",
       "      <th></th>\n",
       "      <th></th>\n",
       "      <th></th>\n",
       "      <th></th>\n",
       "      <th></th>\n",
       "      <th></th>\n",
       "      <th></th>\n",
       "      <th></th>\n",
       "      <th></th>\n",
       "    </tr>\n",
       "  </thead>\n",
       "  <tbody>\n",
       "    <tr>\n",
       "      <th>00023iyk9l</th>\n",
       "      <td>0.0</td>\n",
       "      <td>6.25</td>\n",
       "      <td>1.25</td>\n",
       "      <td>0.0</td>\n",
       "      <td>0.000000</td>\n",
       "      <td>0.0</td>\n",
       "      <td>0.0</td>\n",
       "      <td>0.0</td>\n",
       "      <td>2.5</td>\n",
       "      <td>0.0</td>\n",
       "      <td>0.000000</td>\n",
       "      <td>0.000000</td>\n",
       "      <td>0.0</td>\n",
       "      <td>0.0</td>\n",
       "      <td>0.0</td>\n",
       "    </tr>\n",
       "    <tr>\n",
       "      <th>001wyh0pz8</th>\n",
       "      <td>0.0</td>\n",
       "      <td>0.00</td>\n",
       "      <td>0.00</td>\n",
       "      <td>0.0</td>\n",
       "      <td>0.000000</td>\n",
       "      <td>0.0</td>\n",
       "      <td>0.0</td>\n",
       "      <td>0.0</td>\n",
       "      <td>0.0</td>\n",
       "      <td>0.0</td>\n",
       "      <td>6.666667</td>\n",
       "      <td>3.333333</td>\n",
       "      <td>0.0</td>\n",
       "      <td>0.0</td>\n",
       "      <td>0.0</td>\n",
       "    </tr>\n",
       "    <tr>\n",
       "      <th>002qnbzfs5</th>\n",
       "      <td>0.0</td>\n",
       "      <td>0.00</td>\n",
       "      <td>0.00</td>\n",
       "      <td>0.0</td>\n",
       "      <td>0.136986</td>\n",
       "      <td>0.0</td>\n",
       "      <td>0.0</td>\n",
       "      <td>0.0</td>\n",
       "      <td>0.0</td>\n",
       "      <td>0.0</td>\n",
       "      <td>9.863014</td>\n",
       "      <td>0.000000</td>\n",
       "      <td>0.0</td>\n",
       "      <td>0.0</td>\n",
       "      <td>0.0</td>\n",
       "    </tr>\n",
       "  </tbody>\n",
       "</table>\n",
       "</div>"
      ],
      "text/plain": [
       "            action_name_requested-submit-post_checkout_action  \\\n",
       "user_id                                                         \n",
       "00023iyk9l                                                0.0   \n",
       "001wyh0pz8                                                0.0   \n",
       "002qnbzfs5                                                0.0   \n",
       "\n",
       "            action_name_requested-view-p5  \\\n",
       "user_id                                     \n",
       "00023iyk9l                           6.25   \n",
       "001wyh0pz8                           0.00   \n",
       "002qnbzfs5                           0.00   \n",
       "\n",
       "            action_name_pending-booking_request-pending  \\\n",
       "user_id                                                   \n",
       "00023iyk9l                                         1.25   \n",
       "001wyh0pz8                                         0.00   \n",
       "002qnbzfs5                                         0.00   \n",
       "\n",
       "            action_name_agree_terms_check--unknown---unknown-  \\\n",
       "user_id                                                         \n",
       "00023iyk9l                                                0.0   \n",
       "001wyh0pz8                                                0.0   \n",
       "002qnbzfs5                                                0.0   \n",
       "\n",
       "            action_name_at_checkpoint-booking_request-at_checkpoint  \\\n",
       "user_id                                                               \n",
       "00023iyk9l                                           0.000000         \n",
       "001wyh0pz8                                           0.000000         \n",
       "002qnbzfs5                                           0.136986         \n",
       "\n",
       "            action_name_ajax_photo_widget_form_iframe--unknown---unknown-  \\\n",
       "user_id                                                                     \n",
       "00023iyk9l                                                0.0               \n",
       "001wyh0pz8                                                0.0               \n",
       "002qnbzfs5                                                0.0               \n",
       "\n",
       "            action_name_complete_status--unknown---unknown-  \\\n",
       "user_id                                                       \n",
       "00023iyk9l                                              0.0   \n",
       "001wyh0pz8                                              0.0   \n",
       "002qnbzfs5                                              0.0   \n",
       "\n",
       "            action_name_complete_redirect--unknown---unknown-  \\\n",
       "user_id                                                         \n",
       "00023iyk9l                                                0.0   \n",
       "001wyh0pz8                                                0.0   \n",
       "002qnbzfs5                                                0.0   \n",
       "\n",
       "            action_name_travel_plans_current-view-your_trips  \\\n",
       "user_id                                                        \n",
       "00023iyk9l                                               2.5   \n",
       "001wyh0pz8                                               0.0   \n",
       "002qnbzfs5                                               0.0   \n",
       "\n",
       "            action_name_populate_from_facebook--unknown---unknown-  \\\n",
       "user_id                                                              \n",
       "00023iyk9l                                                0.0        \n",
       "001wyh0pz8                                                0.0        \n",
       "002qnbzfs5                                                0.0        \n",
       "\n",
       "            action_name_social_connections-data-user_social_connections  \\\n",
       "user_id                                                                   \n",
       "00023iyk9l                                           0.000000             \n",
       "001wyh0pz8                                           6.666667             \n",
       "002qnbzfs5                                           9.863014             \n",
       "\n",
       "            action_name_create-submit-signup  \\\n",
       "user_id                                        \n",
       "00023iyk9l                          0.000000   \n",
       "001wyh0pz8                          3.333333   \n",
       "002qnbzfs5                          0.000000   \n",
       "\n",
       "            action_name_update-submit-update_listing_description  \\\n",
       "user_id                                                            \n",
       "00023iyk9l                                                0.0      \n",
       "001wyh0pz8                                                0.0      \n",
       "002qnbzfs5                                                0.0      \n",
       "\n",
       "            action_name_manage_listing-view-manage_listing  \\\n",
       "user_id                                                      \n",
       "00023iyk9l                                             0.0   \n",
       "001wyh0pz8                                             0.0   \n",
       "002qnbzfs5                                             0.0   \n",
       "\n",
       "            action_name_set_user-submit-create_listing  \n",
       "user_id                                                 \n",
       "00023iyk9l                                         0.0  \n",
       "001wyh0pz8                                         0.0  \n",
       "002qnbzfs5                                         0.0  "
      ]
     },
     "execution_count": 46,
     "metadata": {},
     "output_type": "execute_result"
    }
   ],
   "source": [
    "relevent_action_names = ['requested-submit-post_checkout_action',\n",
    " 'requested-view-p5',\n",
    " 'pending-booking_request-pending',\n",
    " 'agree_terms_check--unknown---unknown-',\n",
    " 'at_checkpoint-booking_request-at_checkpoint',\n",
    " 'ajax_photo_widget_form_iframe--unknown---unknown-',\n",
    " 'complete_status--unknown---unknown-',\n",
    " 'complete_redirect--unknown---unknown-',\n",
    " 'travel_plans_current-view-your_trips',\n",
    " 'populate_from_facebook--unknown---unknown-',\n",
    " 'social_connections-data-user_social_connections',\n",
    " 'create-submit-signup',\n",
    " 'update-submit-update_listing_description',\n",
    " 'manage_listing-view-manage_listing',\n",
    " 'set_user-submit-create_listing']\n",
    "\n",
    "\n",
    "# Encode actions\n",
    "one_hot_encoded_actions = pd.get_dummies(sessions[sessions['action_name'].isin(relevent_action_names)][['user_id', 'action_name']], columns=['action_name'])\n",
    "\n",
    "# Generate functions for aggretation\n",
    "columns = one_hot_encoded_actions.columns.values.tolist()\n",
    "columns.remove('user_id')\n",
    "agg_funcs = {col_name: sum for col_name in columns}\n",
    "\n",
    "# Aggretate actions by users\n",
    "actions_matrix = one_hot_encoded_actions.groupby('user_id').agg(agg_funcs)\n",
    "\n",
    "# Selecting the most relevent columns\n",
    "cols = ['action_name_' + name for name in relevent_action_names]\n",
    "m = (actions_matrix[cols].div(actions_matrix[cols].sum(axis=1), axis=0).fillna(0) * 10)\n",
    "m.head(3)"
   ]
  },
  {
   "cell_type": "code",
   "execution_count": 36,
   "metadata": {},
   "outputs": [],
   "source": [
    "action_names = ['ajax_refresh_subtotal-click-change_trip_characteristics', \n",
    " 'similar_listings-data-similar_listings', 'pending-booking_request-pending']\n",
    "\n",
    "for name in action_names:\n",
    "    users[f'did_{name}'] = users.apply(lambda r: 1 if name in r['actions'] else 0, axis=1)"
   ]
  },
  {
   "cell_type": "code",
   "execution_count": 47,
   "metadata": {},
   "outputs": [],
   "source": [
    "users_final = users.merge(m.round(0).reset_index().rename({'user_id':'id'}, axis=1), how='left', on='id').fillna(0)\n",
    "\n",
    "# Selecting features\n",
    "features = ['month_first_active', 'gender', 'age_group', 'signup_method', 'signup_flow_group',  'affiliate_provider', \n",
    "           'signup_app', 'first_browser_processed',\n",
    "           'hours_elapsed_group', 'nb_unique_actions_group', 'most_use_device_group']\n",
    "\n",
    "features += ['action_name_' + name for name in relevent_action_names]\n",
    "# features += [f\"actions_embedding_{i}\" for i in range(size)]\n",
    "features += [f'did_{name}' for name in action_names]\n",
    "\n",
    "data = users_final[features].copy()\n",
    "\n",
    "# X = pd.get_dummies(data).values.astype(int)\n",
    "X = pd.DataFrame()\n",
    "for feature in features:\n",
    "    X[feature] = data[feature].astype('category').cat.codes\n",
    "X = X.values\n",
    "y = users_final['destination_found'].values"
   ]
  },
  {
   "cell_type": "code",
   "execution_count": 48,
   "metadata": {},
   "outputs": [
    {
     "name": "stdout",
     "output_type": "stream",
     "text": [
      "(73815, 29) (73815, 29)\n"
     ]
    }
   ],
   "source": [
    "print(data.shape, X.shape)"
   ]
  },
  {
   "cell_type": "markdown",
   "metadata": {},
   "source": [
    "## Training model"
   ]
  },
  {
   "cell_type": "code",
   "execution_count": 56,
   "metadata": {},
   "outputs": [
    {
     "name": "stdout",
     "output_type": "stream",
     "text": [
      "Mean score : 0.7105\n",
      "Std score : 0.00473\n"
     ]
    }
   ],
   "source": [
    "from sklearn.ensemble import RandomForestClassifier\n",
    "from tools.metrics import f1_score, confusion_matrix\n",
    "# from tools.forest import RandomForestClassifier\n",
    "# from sklearn.metrics import f1_score, make_scorer\n",
    "\n",
    "# Weights inverted for conter-balancing\n",
    "nb_NDF = y.tolist().count('NDF')\n",
    "nb_DF = y.tolist().count('DF')\n",
    "class_weight = {'DF': 1-nb_DF/y.shape[0],\n",
    "               'NDF': 1-nb_NDF/y.shape[0]}\n",
    "model = RandomForestClassifier(n_estimators=50, max_depth=15, class_weight=class_weight)\n",
    "# model = RandomForestClassifier(n_estimators=50, max_depth=15)\n",
    "res = cross_validation_score(model, X, y, k=5, scorer=f1_score)\n",
    "print(f\"Mean score : {round(np.mean(res), 4)}\")\n",
    "print(f\"Std score : {round(np.std(res), 5)}\")"
   ]
  },
  {
   "cell_type": "code",
   "execution_count": 57,
   "metadata": {},
   "outputs": [
    {
     "data": {
      "text/plain": [
       "0.7072415699281372"
      ]
     },
     "execution_count": 57,
     "metadata": {},
     "output_type": "execute_result"
    },
    {
     "data": {
      "image/png": "[encoded data removed]",
      "text/plain": [
       "<Figure size 576x396 with 1 Axes>"
      ]
     },
     "metadata": {},
     "output_type": "display_data"
    }
   ],
   "source": [
    "# Display confusion matrix\n",
    "n = int(X.shape[0] * 0.7)\n",
    "model.fit(X[:n], y[:n])\n",
    "_ = confusion_matrix(model, X[n:], y[n:], plot=True, normalize=True)\n",
    "f1_score(model.predict(X[n:]), y[n:])"
   ]
  },
  {
   "cell_type": "markdown",
   "metadata": {},
   "source": [
    "## Training model on countries destination"
   ]
  },
  {
   "cell_type": "code",
   "execution_count": 58,
   "metadata": {},
   "outputs": [
    {
     "data": {
      "text/plain": [
       "0    0.63093\n",
       "1    0.00000\n",
       "2    0.50000\n",
       "dtype: float64"
      ]
     },
     "execution_count": 58,
     "metadata": {},
     "output_type": "execute_result"
    }
   ],
   "source": [
    "pred = pd.DataFrame({\n",
    "    'id': ['a', 'b', 'c'],\n",
    "    'country_destination': [['FR', 'US'], ['NDF'], ['NDF', 'PT', 'FR', 'AU']],\n",
    "    'true_destination': ['US', 'PT', 'FR'],\n",
    "})\n",
    "\n",
    "def dcg(destinations, truth):\n",
    "    arr = (np.array(destinations) == truth).astype(int)\n",
    "    return np.sum(((2 ** arr) - 1) / np.log2(np.arange(arr.shape[0]) + 2))\n",
    "\n",
    "def ndcg(destinations, truth):\n",
    "    t = destinations.count(truth)\n",
    "    a = [truth if i < t else '-' for i in range(len(destinations))]\n",
    "    max_dcg = dcg(a, truth)\n",
    "    max_dcg = max_dcg + 1 if max_dcg == 0 else max_dcg\n",
    "    return dcg(destinations, truth) / max_dcg\n",
    "\n",
    "pred.apply(lambda r: ndcg(r['country_destination'], r['true_destination']), axis=1)"
   ]
  },
  {
   "cell_type": "code",
   "execution_count": 59,
   "metadata": {},
   "outputs": [
    {
     "name": "stdout",
     "output_type": "stream",
     "text": [
      "Mean score : 0.6968\n",
      "Std score : 0.00188\n"
     ]
    }
   ],
   "source": [
    "y = users_final['country_destination'].values\n",
    "model = RandomForestClassifier(n_estimators=50, max_depth=15)\n",
    "# model = RandomForestClassifier(n_estimators=50, max_depth=15)\n",
    "res = cross_validation_score(model, X, y, k=5)\n",
    "print(f\"Mean score : {round(np.mean(res), 4)}\")\n",
    "print(f\"Std score : {round(np.std(res), 5)}\")"
   ]
  },
  {
   "cell_type": "code",
   "execution_count": 60,
   "metadata": {},
   "outputs": [
    {
     "data": {
      "text/plain": [
       "0.8490855447245534"
      ]
     },
     "execution_count": 60,
     "metadata": {},
     "output_type": "execute_result"
    }
   ],
   "source": [
    "n = int(X.shape[0] * 0.7)\n",
    "model.fit(X[:n], y[:n])\n",
    "pred_probas = model.predict_proba(X[n:])\n",
    "idx = np.argsort(-pred_probas)[:,:5]\n",
    "\n",
    "def probas2pred(idsort, model):\n",
    "    return [model.classes_[i] for i in idsort]\n",
    "\n",
    "df = pd.DataFrame()\n",
    "df['country_destination'] = [probas2pred(idsort, model) for idsort in idx]\n",
    "df['true_destination'] = y[n:]\n",
    "df['dcg'] = df.apply(lambda r: ndcg(r['country_destination'], r['true_destination']), axis=1)\n",
    "df['dcg'].mean()"
   ]
  },
  {
   "cell_type": "code",
   "execution_count": 68,
   "metadata": {},
   "outputs": [
    {
     "name": "stdout",
     "output_type": "stream",
     "text": [
      "Expected label US\n",
      "[4 0 7 0 0 4 2 1 0 6 1 1 6 1 0 0 0 0 0 2 0 0 0 0 0 0 0 0 1]\n"
     ]
    },
    {
     "data": {
      "text/html": [
       "<iframe src=\"about:blank\" width=\"1100\" height=\"600\"style=\"border:none !important;\" data-html=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 onload=\"this.contentDocument.open();this.contentDocument.write(atob(this.getAttribute('data-html')));this.contentDocument.close();\" \"allowfullscreen\" \"webkitallowfullscreen\" \"mozallowfullscreen\"></iframe>"
      ],
      "text/plain": [
       "<folium.folium.Map at 0x1cf0475b6a0>"
      ]
     },
     "execution_count": 68,
     "metadata": {},
     "output_type": "execute_result"
    }
   ],
   "source": [
    "import folium\n",
    "from folium.features import DivIcon\n",
    "\n",
    "i = -34\n",
    "truth = y[i]\n",
    "print(\"Expected label\", truth)\n",
    "u = X[i]\n",
    "print(u)\n",
    "probas = {}\n",
    "for proba, country in zip(model.predict_proba([u])[0], model.classes_):\n",
    "    probas[country] = proba\n",
    "\n",
    "coords = {\n",
    "    'FR': (46, 2),\n",
    "    'US': (40, -103),\n",
    "    'CA': (55, -110),\n",
    "    'PT': (38, -9),\n",
    "    'ES': (37, -2),\n",
    "    'AU': (-35, 149),\n",
    "    'DE': (52, 13),\n",
    "    'IT': (41, 12),\n",
    "    'GB': (55, -2),\n",
    "    'NL': (52, 5),\n",
    "}\n",
    "\n",
    "f = folium.Figure(width=1100, height=600)\n",
    "m = folium.Map([30, 0], zoom_start=2, scrollWheelZoom=False,).add_to(f)\n",
    "\n",
    "for country in coords:\n",
    "    prob = coords[country][0]\n",
    "    folium.Circle(\n",
    "        [coords[country][0], coords[country][1]],\n",
    "        900000*probas[country], fill=True, color='red' if country == truth else 'blue').add_child(folium.Popup(f'Probabilities : {probas[country]}')).add_to(m)\n",
    "    folium.map.Marker(\n",
    "        [coords[country][0]+0.5, coords[country][1]-1.6],\n",
    "        icon=DivIcon(\n",
    "            icon_size=(150,36),\n",
    "            icon_anchor=(0,0),\n",
    "            html='<div style=\"font-size: 10pt\">%s</div>' % country,\n",
    "            ),\n",
    "        ).add_to(m)\n",
    "m"
   ]
  }
 ],
 "metadata": {
  "kernelspec": {
   "display_name": "bookerguess",
   "language": "python",
   "name": "bookerguess"
  },
  "language_info": {
   "codemirror_mode": {
    "name": "ipython",
    "version": 3
   },
   "file_extension": ".py",
   "mimetype": "text/x-python",
   "name": "python",
   "nbconvert_exporter": "python",
   "pygments_lexer": "ipython3",
   "version": "3.8.2"
  }
 },
 "nbformat": 4,
 "nbformat_minor": 4
}
