{
 "cells": [
  {
   "cell_type": "markdown",
   "metadata": {},
   "source": [
    "# Classification\n",
    "\n",
    "Dans cette partie, on va classifier les utilisateurs ayant une session selon qu'ils aient réservé ou non. On va donc garder l'étiquette **NDF** et le reste des étiquettes de la colonne **country_destination** sera marqué comme **DF**."
   ]
  },
  {
   "cell_type": "code",
   "execution_count": 1,
   "metadata": {},
   "outputs": [],
   "source": [
    "import pandas as pd\n",
    "import numpy as np\n",
    "import matplotlib.pyplot as plt\n",
    "import seaborn as sns\n",
    "\n",
    "from tools.metrics import confusion_matrix, cross_validation_score\n",
    "plt.style.use('seaborn')"
   ]
  },
  {
   "cell_type": "markdown",
   "metadata": {},
   "source": [
    "## Features engineering\n"
   ]
  },
  {
   "cell_type": "code",
   "execution_count": 2,
   "metadata": {},
   "outputs": [],
   "source": [
    "# Import data\n",
    "users = pd.read_csv('data/train_users_2.csv')\n",
    "test_users = pd.read_csv('data/test_users.csv')\n",
    "sessions = pd.read_csv('data/sessions.csv')\n",
    "\n",
    "# Add labels DF/NDF\n",
    "users['destination_found'] = users.apply(lambda r: 'NDF' if r['country_destination'] == 'NDF' else 'DF', axis=1)\n",
    "\n",
    "# Retain users that have a session & add information about their session\n",
    "sessions_naless = sessions.fillna('_')\n",
    "sessions['action_name'] = sessions_naless['action'] + '-' + sessions_naless['action_type'] + '-' + sessions_naless['action_detail']\n",
    "users_sessions = sessions.groupby('user_id').agg({\n",
    "    \"action_name\": pd.Series.tolist,\n",
    "    'secs_elapsed': lambda r: round(r.sum() / (60**2), 0),\n",
    "})\n",
    "users_sessions = users_sessions.rename({\"secs_elapsed\":\"hours_elapsed\", \"action_name\":\"actions\",}, axis=1)\n",
    "users = users_sessions.reset_index().rename({'user_id':'id'}, axis=1).merge(users, how='inner', on='id')\n",
    "users = users.sort_values('id')"
   ]
  },
  {
   "cell_type": "code",
   "execution_count": 3,
   "metadata": {},
   "outputs": [
    {
     "name": "stdout",
     "output_type": "stream",
     "text": [
      "users.head :  (73815, 19)\n"
     ]
    },
    {
     "data": {
      "text/html": [
       "<div>\n",
       "<style scoped>\n",
       "    .dataframe tbody tr th:only-of-type {\n",
       "        vertical-align: middle;\n",
       "    }\n",
       "\n",
       "    .dataframe tbody tr th {\n",
       "        vertical-align: top;\n",
       "    }\n",
       "\n",
       "    .dataframe thead th {\n",
       "        text-align: right;\n",
       "    }\n",
       "</style>\n",
       "<table border=\"1\" class=\"dataframe\">\n",
       "  <thead>\n",
       "    <tr style=\"text-align: right;\">\n",
       "      <th></th>\n",
       "      <th>id</th>\n",
       "      <th>actions</th>\n",
       "      <th>hours_elapsed</th>\n",
       "      <th>date_account_created</th>\n",
       "      <th>timestamp_first_active</th>\n",
       "      <th>date_first_booking</th>\n",
       "      <th>gender</th>\n",
       "      <th>age</th>\n",
       "      <th>signup_method</th>\n",
       "      <th>signup_flow</th>\n",
       "      <th>language</th>\n",
       "      <th>affiliate_channel</th>\n",
       "      <th>affiliate_provider</th>\n",
       "      <th>first_affiliate_tracked</th>\n",
       "      <th>signup_app</th>\n",
       "      <th>first_device_type</th>\n",
       "      <th>first_browser</th>\n",
       "      <th>country_destination</th>\n",
       "      <th>destination_found</th>\n",
       "    </tr>\n",
       "  </thead>\n",
       "  <tbody>\n",
       "    <tr>\n",
       "      <th>73812</th>\n",
       "      <td>zzysuoqg6x</td>\n",
       "      <td>[hosting_social_proof--unknown---unknown-, cre...</td>\n",
       "      <td>0.0</td>\n",
       "      <td>2014-01-08</td>\n",
       "      <td>20140108221010</td>\n",
       "      <td>NaN</td>\n",
       "      <td>-unknown-</td>\n",
       "      <td>NaN</td>\n",
       "      <td>basic</td>\n",
       "      <td>0</td>\n",
       "      <td>en</td>\n",
       "      <td>direct</td>\n",
       "      <td>direct</td>\n",
       "      <td>untracked</td>\n",
       "      <td>Web</td>\n",
       "      <td>Windows Desktop</td>\n",
       "      <td>IE</td>\n",
       "      <td>NDF</td>\n",
       "      <td>NDF</td>\n",
       "    </tr>\n",
       "    <tr>\n",
       "      <th>73813</th>\n",
       "      <td>zzywmcn0jv</td>\n",
       "      <td>[header_userpic-data-header_userpic, personali...</td>\n",
       "      <td>597.0</td>\n",
       "      <td>2014-02-21</td>\n",
       "      <td>20140221160109</td>\n",
       "      <td>NaN</td>\n",
       "      <td>-unknown-</td>\n",
       "      <td>NaN</td>\n",
       "      <td>basic</td>\n",
       "      <td>0</td>\n",
       "      <td>en</td>\n",
       "      <td>direct</td>\n",
       "      <td>direct</td>\n",
       "      <td>untracked</td>\n",
       "      <td>Web</td>\n",
       "      <td>iPhone</td>\n",
       "      <td>Mobile Safari</td>\n",
       "      <td>NDF</td>\n",
       "      <td>NDF</td>\n",
       "    </tr>\n",
       "    <tr>\n",
       "      <th>73814</th>\n",
       "      <td>zzzlylp57e</td>\n",
       "      <td>[similar_listings-data-similar_listings, show-...</td>\n",
       "      <td>120.0</td>\n",
       "      <td>2014-06-11</td>\n",
       "      <td>20140611074639</td>\n",
       "      <td>2014-06-24</td>\n",
       "      <td>-unknown-</td>\n",
       "      <td>NaN</td>\n",
       "      <td>basic</td>\n",
       "      <td>0</td>\n",
       "      <td>en</td>\n",
       "      <td>seo</td>\n",
       "      <td>google</td>\n",
       "      <td>linked</td>\n",
       "      <td>Web</td>\n",
       "      <td>Windows Desktop</td>\n",
       "      <td>Chrome</td>\n",
       "      <td>FR</td>\n",
       "      <td>DF</td>\n",
       "    </tr>\n",
       "  </tbody>\n",
       "</table>\n",
       "</div>"
      ],
      "text/plain": [
       "               id                                            actions  \\\n",
       "73812  zzysuoqg6x  [hosting_social_proof--unknown---unknown-, cre...   \n",
       "73813  zzywmcn0jv  [header_userpic-data-header_userpic, personali...   \n",
       "73814  zzzlylp57e  [similar_listings-data-similar_listings, show-...   \n",
       "\n",
       "       hours_elapsed date_account_created  timestamp_first_active  \\\n",
       "73812            0.0           2014-01-08          20140108221010   \n",
       "73813          597.0           2014-02-21          20140221160109   \n",
       "73814          120.0           2014-06-11          20140611074639   \n",
       "\n",
       "      date_first_booking     gender  age signup_method  signup_flow language  \\\n",
       "73812                NaN  -unknown-  NaN         basic            0       en   \n",
       "73813                NaN  -unknown-  NaN         basic            0       en   \n",
       "73814         2014-06-24  -unknown-  NaN         basic            0       en   \n",
       "\n",
       "      affiliate_channel affiliate_provider first_affiliate_tracked signup_app  \\\n",
       "73812            direct             direct               untracked        Web   \n",
       "73813            direct             direct               untracked        Web   \n",
       "73814               seo             google                  linked        Web   \n",
       "\n",
       "      first_device_type  first_browser country_destination destination_found  \n",
       "73812   Windows Desktop             IE                 NDF               NDF  \n",
       "73813            iPhone  Mobile Safari                 NDF               NDF  \n",
       "73814   Windows Desktop         Chrome                  FR                DF  "
      ]
     },
     "execution_count": 3,
     "metadata": {},
     "output_type": "execute_result"
    }
   ],
   "source": [
    "print(\"users.head : \", users.shape)\n",
    "users.tail(3)"
   ]
  },
  {
   "cell_type": "code",
   "execution_count": 4,
   "metadata": {},
   "outputs": [],
   "source": [
    "# Converting date string into datetime object\n",
    "users['timestamp_first_active'] = pd.to_datetime(users['timestamp_first_active'], format='%Y%m%d%H%M%S')\n",
    "users['date_account_created'] = pd.to_datetime(users['date_account_created'], format='%Y-%m-%d')\n",
    "users[\"date_first_booking\"] = pd.to_datetime(users['date_first_booking'], format='%Y-%m-%d')\n",
    "users['date_first_active'] = pd.to_datetime(users['timestamp_first_active'].dt.date, format='%Y-%m-%d')\n",
    "users['hour_first_active'] = users['timestamp_first_active'].dt.hour\n",
    "users['month_first_active'] = users['date_first_active'].dt.month\n",
    "users['year_first_active'] = users['date_first_active'].dt.year\n",
    "users['day_first_active'] = users['date_first_active'].dt.day"
   ]
  },
  {
   "cell_type": "code",
   "execution_count": 5,
   "metadata": {},
   "outputs": [],
   "source": [
    "def process_age(age):\n",
    "    if age > 1000:\n",
    "        return 2015 - age\n",
    "    elif age == 105:\n",
    "        return -2\n",
    "    elif age < 100:\n",
    "        return age\n",
    "    else: \n",
    "        return -1\n",
    "\n",
    "# Bucketize age variable\n",
    "users['age'] = users.apply(lambda r: process_age(r['age']), axis=1)\n",
    "users['age_group'] = sum([(users['age'] < 0).astype(int),\n",
    "    (users['age'] < 18).astype(int),\n",
    "    (users['age'] < 25).astype(int),\n",
    "    (users['age'] < 30).astype(int),\n",
    "    (users['age'] < 35).astype(int),\n",
    "    (users['age'] < 40).astype(int),\n",
    "    (users['age'] < 60).astype(int),\n",
    "    (users['age'] < 100).astype(int)])"
   ]
  },
  {
   "cell_type": "code",
   "execution_count": 6,
   "metadata": {},
   "outputs": [],
   "source": [
    "def process_signup_flow(num_page):\n",
    "    if num_page <= 3:\n",
    "        return num_page\n",
    "    elif 3 < num_page < 12:\n",
    "        return 'middle'\n",
    "    else:\n",
    "        return 12\n",
    "    \n",
    "# Bucketize signup_flow\n",
    "users['signup_flow_group'] = users.apply(lambda r: process_signup_flow(r['signup_flow']), axis=1)"
   ]
  },
  {
   "cell_type": "code",
   "execution_count": 7,
   "metadata": {},
   "outputs": [],
   "source": [
    "# Bucketize language\n",
    "users['language_group'] = (users['language'] == 'en').astype(int)"
   ]
  },
  {
   "cell_type": "code",
   "execution_count": 8,
   "metadata": {},
   "outputs": [],
   "source": [
    "# Only retains browser which have a large enough set of users\n",
    "users_browsers = users.groupby('first_browser').count()[['id']].sort_values(by='id')\n",
    "browsers = set(users_browsers[users_browsers['id'] > 1000].index)\n",
    "users['first_browser_processed'] = users.apply(lambda r: r['first_browser'] if r['first_browser'] in browsers else 'Other', axis=1)"
   ]
  },
  {
   "cell_type": "code",
   "execution_count": 9,
   "metadata": {},
   "outputs": [],
   "source": [
    "# Fill Nan in first_affiliate_tracked\n",
    "users['first_affiliate_tracked'] = users['first_affiliate_tracked'].fillna('-unknown-')"
   ]
  },
  {
   "cell_type": "code",
   "execution_count": 10,
   "metadata": {},
   "outputs": [],
   "source": [
    "# Most use device type (phone or pc)\n",
    "devices = sessions.groupby('user_id').agg({'device_type': lambda r: r.values.tolist(),}).reset_index().rename({'user_id':'id'}, axis=1)\n",
    "devices['most_use'] = devices.apply(lambda r: max(set(r['device_type']), key=r['device_type'].count), axis=1)\n",
    "\n",
    "phones = ['iPhone', 'iPad Tablet', 'Android App Unknown Phone/Tablet', 'Android Phone', 'Tablet', 'Chromebook', 'Blackberry',\n",
    "          'Windows Phone', 'Opera Phone', 'iPodtouch']\n",
    "pcs = ['Mac Desktop', 'Windows Desktop', 'Linux Desktop']\n",
    "\n",
    "def most_use2group(most_use):\n",
    "    exp = most_use.split('_count')[0]  # Remove _count suffix\n",
    "    if exp in phones:\n",
    "        return 'phone'\n",
    "    elif exp in pcs:\n",
    "        return 'pc'\n",
    "    else:\n",
    "        return '-unknown-'\n",
    "    \n",
    "devices['most_use_device_group'] = devices.apply(lambda r: most_use2group(r['most_use']), axis=1)\n",
    "devices.drop('most_use', axis=1)\n",
    "users = users.merge(devices, on='id', how='inner')"
   ]
  },
  {
   "cell_type": "code",
   "execution_count": 11,
   "metadata": {},
   "outputs": [],
   "source": [
    "# Bucketize number of hours elasped\n",
    "users['hours_elapsed_group'] = sum([(users['hours_elapsed'] < 0).astype(int),\n",
    "    (users['hours_elapsed'] < 50).astype(int),\n",
    "    (users['hours_elapsed'] < 100).astype(int),\n",
    "    (users['hours_elapsed'] < 150).astype(int),\n",
    "    (users['hours_elapsed'] < 200).astype(int),\n",
    "    (users['hours_elapsed'] < 250).astype(int),\n",
    "    (users['hours_elapsed'] < 300).astype(int),])"
   ]
  },
  {
   "cell_type": "code",
   "execution_count": 12,
   "metadata": {},
   "outputs": [],
   "source": [
    "# Bucketize number of unique actions\n",
    "users['nb_unique_actions'] = users.apply(lambda r: len(set(r['actions'])), axis=1)\n",
    "users['nb_unique_actions_group'] = sum([(users['nb_unique_actions'] < 14).astype(int),\n",
    "    (users['nb_unique_actions'] < 16).astype(int),\n",
    "    (users['nb_unique_actions'] < 18).astype(int),\n",
    "    (users['nb_unique_actions'] < 20).astype(int),\n",
    "    (users['nb_unique_actions'] < 22).astype(int),\n",
    "    (users['nb_unique_actions'] < 24).astype(int),])"
   ]
  },
  {
   "cell_type": "code",
   "execution_count": 13,
   "metadata": {},
   "outputs": [
    {
     "data": {
      "text/html": [
       "<div>\n",
       "<style scoped>\n",
       "    .dataframe tbody tr th:only-of-type {\n",
       "        vertical-align: middle;\n",
       "    }\n",
       "\n",
       "    .dataframe tbody tr th {\n",
       "        vertical-align: top;\n",
       "    }\n",
       "\n",
       "    .dataframe thead th {\n",
       "        text-align: right;\n",
       "    }\n",
       "</style>\n",
       "<table border=\"1\" class=\"dataframe\">\n",
       "  <thead>\n",
       "    <tr style=\"text-align: right;\">\n",
       "      <th></th>\n",
       "      <th>action_name_requested-submit-post_checkout_action</th>\n",
       "      <th>action_name_requested-view-p5</th>\n",
       "      <th>action_name_pending-booking_request-pending</th>\n",
       "      <th>action_name_agree_terms_check--unknown---unknown-</th>\n",
       "      <th>action_name_at_checkpoint-booking_request-at_checkpoint</th>\n",
       "      <th>action_name_ajax_photo_widget_form_iframe--unknown---unknown-</th>\n",
       "      <th>action_name_complete_status--unknown---unknown-</th>\n",
       "      <th>action_name_complete_redirect--unknown---unknown-</th>\n",
       "      <th>action_name_travel_plans_current-view-your_trips</th>\n",
       "      <th>action_name_populate_from_facebook--unknown---unknown-</th>\n",
       "      <th>action_name_social_connections-data-user_social_connections</th>\n",
       "      <th>action_name_create-submit-signup</th>\n",
       "      <th>action_name_update-submit-update_listing_description</th>\n",
       "      <th>action_name_manage_listing-view-manage_listing</th>\n",
       "      <th>action_name_set_user-submit-create_listing</th>\n",
       "    </tr>\n",
       "    <tr>\n",
       "      <th>user_id</th>\n",
       "      <th></th>\n",
       "      <th></th>\n",
       "      <th></th>\n",
       "      <th></th>\n",
       "      <th></th>\n",
       "      <th></th>\n",
       "      <th></th>\n",
       "      <th></th>\n",
       "      <th></th>\n",
       "      <th></th>\n",
       "      <th></th>\n",
       "      <th></th>\n",
       "      <th></th>\n",
       "      <th></th>\n",
       "      <th></th>\n",
       "    </tr>\n",
       "  </thead>\n",
       "  <tbody>\n",
       "    <tr>\n",
       "      <th>00023iyk9l</th>\n",
       "      <td>0.0</td>\n",
       "      <td>6.25</td>\n",
       "      <td>1.25</td>\n",
       "      <td>0.0</td>\n",
       "      <td>0.000000</td>\n",
       "      <td>0.0</td>\n",
       "      <td>0.0</td>\n",
       "      <td>0.0</td>\n",
       "      <td>2.5</td>\n",
       "      <td>0.0</td>\n",
       "      <td>0.000000</td>\n",
       "      <td>0.000000</td>\n",
       "      <td>0.0</td>\n",
       "      <td>0.0</td>\n",
       "      <td>0.0</td>\n",
       "    </tr>\n",
       "    <tr>\n",
       "      <th>001wyh0pz8</th>\n",
       "      <td>0.0</td>\n",
       "      <td>0.00</td>\n",
       "      <td>0.00</td>\n",
       "      <td>0.0</td>\n",
       "      <td>0.000000</td>\n",
       "      <td>0.0</td>\n",
       "      <td>0.0</td>\n",
       "      <td>0.0</td>\n",
       "      <td>0.0</td>\n",
       "      <td>0.0</td>\n",
       "      <td>6.666667</td>\n",
       "      <td>3.333333</td>\n",
       "      <td>0.0</td>\n",
       "      <td>0.0</td>\n",
       "      <td>0.0</td>\n",
       "    </tr>\n",
       "    <tr>\n",
       "      <th>002qnbzfs5</th>\n",
       "      <td>0.0</td>\n",
       "      <td>0.00</td>\n",
       "      <td>0.00</td>\n",
       "      <td>0.0</td>\n",
       "      <td>0.136986</td>\n",
       "      <td>0.0</td>\n",
       "      <td>0.0</td>\n",
       "      <td>0.0</td>\n",
       "      <td>0.0</td>\n",
       "      <td>0.0</td>\n",
       "      <td>9.863014</td>\n",
       "      <td>0.000000</td>\n",
       "      <td>0.0</td>\n",
       "      <td>0.0</td>\n",
       "      <td>0.0</td>\n",
       "    </tr>\n",
       "  </tbody>\n",
       "</table>\n",
       "</div>"
      ],
      "text/plain": [
       "            action_name_requested-submit-post_checkout_action  \\\n",
       "user_id                                                         \n",
       "00023iyk9l                                                0.0   \n",
       "001wyh0pz8                                                0.0   \n",
       "002qnbzfs5                                                0.0   \n",
       "\n",
       "            action_name_requested-view-p5  \\\n",
       "user_id                                     \n",
       "00023iyk9l                           6.25   \n",
       "001wyh0pz8                           0.00   \n",
       "002qnbzfs5                           0.00   \n",
       "\n",
       "            action_name_pending-booking_request-pending  \\\n",
       "user_id                                                   \n",
       "00023iyk9l                                         1.25   \n",
       "001wyh0pz8                                         0.00   \n",
       "002qnbzfs5                                         0.00   \n",
       "\n",
       "            action_name_agree_terms_check--unknown---unknown-  \\\n",
       "user_id                                                         \n",
       "00023iyk9l                                                0.0   \n",
       "001wyh0pz8                                                0.0   \n",
       "002qnbzfs5                                                0.0   \n",
       "\n",
       "            action_name_at_checkpoint-booking_request-at_checkpoint  \\\n",
       "user_id                                                               \n",
       "00023iyk9l                                           0.000000         \n",
       "001wyh0pz8                                           0.000000         \n",
       "002qnbzfs5                                           0.136986         \n",
       "\n",
       "            action_name_ajax_photo_widget_form_iframe--unknown---unknown-  \\\n",
       "user_id                                                                     \n",
       "00023iyk9l                                                0.0               \n",
       "001wyh0pz8                                                0.0               \n",
       "002qnbzfs5                                                0.0               \n",
       "\n",
       "            action_name_complete_status--unknown---unknown-  \\\n",
       "user_id                                                       \n",
       "00023iyk9l                                              0.0   \n",
       "001wyh0pz8                                              0.0   \n",
       "002qnbzfs5                                              0.0   \n",
       "\n",
       "            action_name_complete_redirect--unknown---unknown-  \\\n",
       "user_id                                                         \n",
       "00023iyk9l                                                0.0   \n",
       "001wyh0pz8                                                0.0   \n",
       "002qnbzfs5                                                0.0   \n",
       "\n",
       "            action_name_travel_plans_current-view-your_trips  \\\n",
       "user_id                                                        \n",
       "00023iyk9l                                               2.5   \n",
       "001wyh0pz8                                               0.0   \n",
       "002qnbzfs5                                               0.0   \n",
       "\n",
       "            action_name_populate_from_facebook--unknown---unknown-  \\\n",
       "user_id                                                              \n",
       "00023iyk9l                                                0.0        \n",
       "001wyh0pz8                                                0.0        \n",
       "002qnbzfs5                                                0.0        \n",
       "\n",
       "            action_name_social_connections-data-user_social_connections  \\\n",
       "user_id                                                                   \n",
       "00023iyk9l                                           0.000000             \n",
       "001wyh0pz8                                           6.666667             \n",
       "002qnbzfs5                                           9.863014             \n",
       "\n",
       "            action_name_create-submit-signup  \\\n",
       "user_id                                        \n",
       "00023iyk9l                          0.000000   \n",
       "001wyh0pz8                          3.333333   \n",
       "002qnbzfs5                          0.000000   \n",
       "\n",
       "            action_name_update-submit-update_listing_description  \\\n",
       "user_id                                                            \n",
       "00023iyk9l                                                0.0      \n",
       "001wyh0pz8                                                0.0      \n",
       "002qnbzfs5                                                0.0      \n",
       "\n",
       "            action_name_manage_listing-view-manage_listing  \\\n",
       "user_id                                                      \n",
       "00023iyk9l                                             0.0   \n",
       "001wyh0pz8                                             0.0   \n",
       "002qnbzfs5                                             0.0   \n",
       "\n",
       "            action_name_set_user-submit-create_listing  \n",
       "user_id                                                 \n",
       "00023iyk9l                                         0.0  \n",
       "001wyh0pz8                                         0.0  \n",
       "002qnbzfs5                                         0.0  "
      ]
     },
     "execution_count": 13,
     "metadata": {},
     "output_type": "execute_result"
    }
   ],
   "source": [
    "relevent_action_names = ['requested-submit-post_checkout_action',\n",
    " 'requested-view-p5',\n",
    " 'pending-booking_request-pending',\n",
    " 'agree_terms_check--unknown---unknown-',\n",
    " 'at_checkpoint-booking_request-at_checkpoint',\n",
    " 'ajax_photo_widget_form_iframe--unknown---unknown-',\n",
    " 'complete_status--unknown---unknown-',\n",
    " 'complete_redirect--unknown---unknown-',\n",
    " 'travel_plans_current-view-your_trips',\n",
    " 'populate_from_facebook--unknown---unknown-',\n",
    " 'social_connections-data-user_social_connections',\n",
    " 'create-submit-signup',\n",
    " 'update-submit-update_listing_description',\n",
    " 'manage_listing-view-manage_listing',\n",
    " 'set_user-submit-create_listing']\n",
    "\n",
    "\n",
    "# Encode actions\n",
    "one_hot_encoded_actions = pd.get_dummies(sessions[sessions['action_name'].isin(relevent_action_names)][['user_id', 'action_name']], columns=['action_name'])\n",
    "\n",
    "# Generate functions for aggretation\n",
    "columns = one_hot_encoded_actions.columns.values.tolist()\n",
    "columns.remove('user_id')\n",
    "agg_funcs = {col_name: sum for col_name in columns}\n",
    "\n",
    "# Aggretate actions by users\n",
    "actions_matrix = one_hot_encoded_actions.groupby('user_id').agg(agg_funcs)\n",
    "\n",
    "# Selecting the most relevent columns\n",
    "cols = ['action_name_' + name for name in relevent_action_names]\n",
    "mat = (actions_matrix[cols].div(actions_matrix[cols].sum(axis=1), axis=0).fillna(0) * 10)\n",
    "mat.head(3)"
   ]
  },
  {
   "cell_type": "code",
   "execution_count": 14,
   "metadata": {},
   "outputs": [],
   "source": [
    "action_names = ['ajax_refresh_subtotal-click-change_trip_characteristics', \n",
    " 'similar_listings-data-similar_listings', \n",
    " 'pending-booking_request-pending', 'requested-submit-post_checkout_action',\n",
    " 'requested-view-p5',\n",
    " 'agree_terms_check--unknown---unknown-',\n",
    " 'at_checkpoint-booking_request-at_checkpoint',\n",
    " 'ajax_photo_widget_form_iframe--unknown---unknown-',\n",
    " 'complete_status--unknown---unknown-',]\n",
    "\n",
    "for name in action_names:\n",
    "    users[f'did_{name}'] = users.apply(lambda r: 1 if name in r['actions'] else 0, axis=1)"
   ]
  },
  {
   "cell_type": "code",
   "execution_count": 15,
   "metadata": {},
   "outputs": [],
   "source": [
    "users_final = users.merge(mat.round(0).reset_index().rename({'user_id':'id'}, axis=1), how='left', on='id').fillna(0)\n",
    "\n",
    "# Selecting features\n",
    "features = ['month_first_active', 'gender', 'age_group', 'signup_method', 'signup_flow_group',  'affiliate_provider', \n",
    "           'signup_app', 'first_browser_processed',\n",
    "           'hours_elapsed_group', 'nb_unique_actions_group', 'most_use_device_group']\n",
    "\n",
    "features += ['action_name_' + name for name in relevent_action_names]\n",
    "# features += [f\"actions_embedding_{i}\" for i in range(size)]\n",
    "features += [f'did_{name}' for name in action_names]\n",
    "\n",
    "data = users_final[features].copy()\n",
    "\n",
    "X = pd.DataFrame()\n",
    "for feature in features:\n",
    "    X[feature] = data[feature].astype('category').cat.codes\n",
    "X = X.values\n",
    "y = users_final['destination_found'].values"
   ]
  },
  {
   "cell_type": "code",
   "execution_count": 16,
   "metadata": {},
   "outputs": [
    {
     "name": "stdout",
     "output_type": "stream",
     "text": [
      "(73815, 35) (73815, 35)\n"
     ]
    }
   ],
   "source": [
    "print(data.shape, X.shape)"
   ]
  },
  {
   "cell_type": "markdown",
   "metadata": {},
   "source": [
    "## Training model"
   ]
  },
  {
   "cell_type": "code",
   "execution_count": 17,
   "metadata": {},
   "outputs": [
    {
     "name": "stdout",
     "output_type": "stream",
     "text": [
      "Mean score : 0.7099\n",
      "Std score : 0.00495\n"
     ]
    }
   ],
   "source": [
    "from sklearn.ensemble import RandomForestClassifier\n",
    "from tools.metrics import f1_score, confusion_matrix\n",
    "# from tools.forest import RandomForestClassifier\n",
    "\n",
    "# Weights inverted for conter-balancing\n",
    "nb_NDF = y.tolist().count('NDF')\n",
    "nb_DF = y.tolist().count('DF')\n",
    "class_weight = {'DF': 1-nb_DF/y.shape[0],\n",
    "               'NDF': 1-nb_NDF/y.shape[0]}\n",
    "model1 = RandomForestClassifier(n_estimators=50, max_depth=15, class_weight=class_weight)\n",
    "# model = RandomForestClassifier(n_estimators=50, max_depth=15)\n",
    "res = cross_validation_score(model1, X, y, k=5, scorer=f1_score)\n",
    "print(f\"Mean score : {round(np.mean(res), 4)}\")\n",
    "print(f\"Std score : {round(np.std(res), 5)}\")"
   ]
  },
  {
   "cell_type": "code",
   "execution_count": 18,
   "metadata": {},
   "outputs": [],
   "source": [
    "def log_loss(probas, y_true):\n",
    "    loss = 0\n",
    "    for yt, p in zip(y_true, probas):\n",
    "        if yt == 0:\n",
    "            loss += np.log(1 - p)\n",
    "        else:\n",
    "            loss += np.log(p)\n",
    "    return -loss"
   ]
  },
  {
   "cell_type": "code",
   "execution_count": 19,
   "metadata": {},
   "outputs": [
    {
     "data": {
      "text/plain": [
       "0.7077503886298023"
      ]
     },
     "execution_count": 19,
     "metadata": {},
     "output_type": "execute_result"
    },
    {
     "data": {
      "image/png": "[encoded data removed]",
      "text/plain": [
       "<Figure size 720x720 with 1 Axes>"
      ]
     },
     "metadata": {},
     "output_type": "display_data"
    }
   ],
   "source": [
    "# from sklearn.metrics import log_loss\n",
    "\n",
    "# Display confusion matrix\n",
    "n = int(X.shape[0] * 0.7)\n",
    "model1.fit(X[:n], y[:n])\n",
    "_ = confusion_matrix(model1, X[n:], y[n:], plot=True, normalize=True, figsize=(5, 5))\n",
    "f1_score(model1.predict(X[n:]), y[n:])\n",
    "# y_true = [0 if x == 'NDF' else 1 for x in y[n:]]\n",
    "# probas = model1.predict_proba(X[n:])[:,0]\n",
    "# log_loss(y_true, probas, normalize=True)"
   ]
  },
  {
   "cell_type": "markdown",
   "metadata": {},
   "source": [
    "## Training model on countries destination"
   ]
  },
  {
   "cell_type": "code",
   "execution_count": 23,
   "metadata": {},
   "outputs": [],
   "source": [
    "pred = pd.DataFrame({\n",
    "    'id': ['a', 'b', 'c'],\n",
    "    'country_destination': [['FR', 'US'], ['NDF'], ['NDF', 'PT', 'FR', 'AU']],\n",
    "    'true_destination': ['US', 'PT', 'FR'],\n",
    "})\n",
    "\n",
    "def dcg(destinations, truth):\n",
    "    arr = (np.array(destinations) == truth).astype(int)\n",
    "    return np.sum(((2 ** arr) - 1) / np.log2(np.arange(arr.shape[0]) + 2))\n",
    "\n",
    "def ndcg(destinations, truth):\n",
    "    t = destinations.count(truth)\n",
    "    a = [truth if i < t else '-' for i in range(len(destinations))]\n",
    "    max_dcg = dcg(a, truth)\n",
    "    max_dcg = max_dcg + 1 if max_dcg == 0 else max_dcg\n",
    "    return dcg(destinations, truth) / max_dcg"
   ]
  },
  {
   "cell_type": "code",
   "execution_count": 24,
   "metadata": {},
   "outputs": [
    {
     "name": "stdout",
     "output_type": "stream",
     "text": [
      "(73815, 17)\n"
     ]
    }
   ],
   "source": [
    "users['reservation'] = model1.predict_proba(X)[:,1]\n",
    "\n",
    "users_final = users.merge(mat.round(0).reset_index().rename({'user_id':'id'}, axis=1), how='left', on='id').fillna(0)\n",
    "\n",
    "# Selecting features\n",
    "features = ['month_first_active', 'gender', 'age_group', 'signup_method', 'signup_flow_group',  'affiliate_provider', \n",
    "           'signup_app', 'first_browser_processed', 'language', 'affiliate_channel', 'first_affiliate_tracked','first_device_type', 'first_browser',\n",
    "           'hours_elapsed_group', 'nb_unique_actions_group', 'most_use_device_group', \"reservation\"]\n",
    "\n",
    "# features += ['action_name_' + name for name in relevent_action_names]\n",
    "# features += [f'did_{name}' for name in action_names]\n",
    "\n",
    "data = users_final[features].copy()\n",
    "\n",
    "X2 = pd.DataFrame()\n",
    "for feature in features:\n",
    "    X2[feature] = data[feature].astype('category').cat.codes\n",
    "X2 = X2.values\n",
    "y2 = users_final['country_destination'].values\n",
    "print(X2.shape)"
   ]
  },
  {
   "cell_type": "code",
   "execution_count": 111,
   "metadata": {},
   "outputs": [
    {
     "name": "stdout",
     "output_type": "stream",
     "text": [
      "['AU' 'AU' 'AU' 'AU' 'AU' 'AU' 'AU' 'AU' 'o' 'AU']\n",
      "['o' 'CA' 'CA' 'CA' 'o' 'CA' 'CA' 'CA' 'CA' 'CA']\n",
      "['DE' 'DE' 'DE' 'DE' 'o' 'o' 'o' 'DE' 'DE' 'DE']\n",
      "['ES' 'o' 'ES' 'ES' 'ES' 'o' 'ES' 'ES' 'o' 'o']\n",
      "['FR' 'FR' 'o' 'o' 'FR' 'FR' 'FR' 'o' 'FR' 'o']\n",
      "['GB' 'GB' 'GB' 'GB' 'o' 'o' 'GB' 'GB' 'GB' 'GB']\n",
      "['IT' 'IT' 'IT' 'IT' 'o' 'o' 'IT' 'IT' 'o' 'IT']\n",
      "['o' 'NL' 'NL' 'o' 'o' 'o' 'NL' 'NL' 'o' 'NL']\n",
      "['PT' 'o' 'o' 'o' 'PT' 'o' 'o' 'PT' 'PT' 'PT']\n",
      "['US' 'US' 'o' 'US' 'US' 'US' 'US' 'US' 'o' 'US']\n",
      "['other' 'other' 'other' 'other' 'other' 'o' 'other' 'other' 'other'\n",
      " 'other']\n"
     ]
    }
   ],
   "source": [
    "# Individual predictions\n",
    "mods = []\n",
    "cs = []\n",
    "for c in np.unique(y2):\n",
    "    if c == 'NDF': continue\n",
    "    cs.append(c)\n",
    "    num = int(users_final['country_destination'].values.tolist().count(c)*0.7)\n",
    "    idxc = np.argwhere(users_final['country_destination'].values == c)\n",
    "    Xc = X2[idxc].reshape(idxc.shape[0], X2.shape[1])[:num]\n",
    "    yc = np.array([c if x == c else 'o' for x in users_final['country_destination'].values[idxc]])\n",
    "    \n",
    "    idxc2 = np.argwhere(users_final['country_destination'].values != c)\n",
    "    Xc2 = X2[idxc2].reshape(idxc2.shape[0], X2.shape[1])[:num]\n",
    "    yc2 = np.array([c if x == c else 'o' for x in users_final['country_destination'].values[idxc2]])\n",
    "    \n",
    "    Xc = np.concatenate([Xc, Xc2], axis=0)\n",
    "    yc = np.concatenate([yc, yc2], axis=0)\n",
    "    \n",
    "    p = np.random.permutation(len(Xc))\n",
    "    Xc, yc =  Xc[p], yc[p]\n",
    "    print(yc[:10])\n",
    "    \n",
    "    mods.append(RandomForestClassifier(n_estimators=50, max_depth=8).fit(Xc, yc))"
   ]
  },
  {
   "cell_type": "code",
   "execution_count": 114,
   "metadata": {},
   "outputs": [],
   "source": [
    "# m = X2.shape[1]\n",
    "# X2_copy = X2.copy()\n",
    "# for mod in mods:\n",
    "#     pred = mod.predict_proba(X2[:,:m])[:,0]\n",
    "#     X2_copy = np.concatenate([X2_copy, pred.reshape(pred.shape[0], 1)], axis=1)\n",
    "    \n",
    "tmp_df = pd.DataFrame()\n",
    "for c, mod in zip(cs, mods):\n",
    "    tmp_df[c] = mod.predict_proba(X2[:,:m])[:,0]\n",
    "X25 = tmp_df.values"
   ]
  },
  {
   "cell_type": "code",
   "execution_count": 122,
   "metadata": {},
   "outputs": [
    {
     "data": {
      "text/plain": [
       "array([0.00643589, 0.02082547, 0.01511482, 0.13199299, 0.12793026,\n",
       "       0.05565826, 0.0548026 , 0.01141364, 0.00649929, 0.39490804,\n",
       "       0.17441875])"
      ]
     },
     "execution_count": 122,
     "metadata": {},
     "output_type": "execute_result"
    }
   ],
   "source": [
    "model25.feature_importances_"
   ]
  },
  {
   "cell_type": "code",
   "execution_count": null,
   "metadata": {},
   "outputs": [],
   "source": [
    "n = int(X25.shape[0] * 0.7)\n",
    "model25 = RandomForestClassifier(n_estimators=50, max_depth=15)\n",
    "model25.fit(X25[:n], y2[:n])\n",
    "pred_probas = model25.predict_proba(X25[n:])\n",
    "idx = np.argsort(-pred_probas)[:,:5]\n",
    "\n",
    "def probas2pred(idsort, model):\n",
    "    return [model25.classes_[i] for i in idsort]\n",
    "\n",
    "df = pd.DataFrame()\n",
    "df['country_destination'] = [probas2pred(idsort, model25) for idsort in idx]\n",
    "df['true_destination'] = y2[n:]\n",
    "df['ndcg'] = df.apply(lambda r: ndcg(r['country_destination'], r['true_destination']), axis=1)\n",
    "print(df['ndcg'].mean())\n",
    "_ = confusion_matrix(model25, X25[:n], y2[:n], plot=True, normalize=True)"
   ]
  },
  {
   "cell_type": "code",
   "execution_count": 115,
   "metadata": {},
   "outputs": [
    {
     "name": "stdout",
     "output_type": "stream",
     "text": [
      "0.8427289790578311\n"
     ]
    },
    {
     "data": {
      "image/png": "[encoded data removed]",
      "text/plain": [
       "<Figure size 720x720 with 1 Axes>"
      ]
     },
     "metadata": {},
     "output_type": "display_data"
    }
   ],
   "source": [
    "n = int(X.shape[0] * 0.7)\n",
    "model2 = RandomForestClassifier(n_estimators=50, max_depth=15)\n",
    "model2.fit(X2_copy[:n], y2[:n])\n",
    "pred_probas = model2.predict_proba(X2_copy[n:])\n",
    "idx = np.argsort(-pred_probas)[:,:5]\n",
    "\n",
    "def probas2pred(idsort, model):\n",
    "    return [model2.classes_[i] for i in idsort]\n",
    "\n",
    "df = pd.DataFrame()\n",
    "df['country_destination'] = [probas2pred(idsort, model2) for idsort in idx]\n",
    "df['true_destination'] = y2[n:]\n",
    "df['ndcg'] = df.apply(lambda r: ndcg(r['country_destination'], r['true_destination']), axis=1)\n",
    "print(df['ndcg'].mean())\n",
    "_ = confusion_matrix(model2, X2_copy[n:], y2[n:], plot=True, normalize=True)"
   ]
  },
  {
   "cell_type": "code",
   "execution_count": 26,
   "metadata": {},
   "outputs": [
    {
     "data": {
      "text/plain": [
       "0.8011643633492302"
      ]
     },
     "execution_count": 26,
     "metadata": {},
     "output_type": "execute_result"
    }
   ],
   "source": [
    "# Worst case\n",
    "df = pd.DataFrame()\n",
    "df['true_destination'] = y2[n:]\n",
    "df['country_destination'] = [['NDF', 'US', 'FR', 'IT', 'GB'] for _ in y2[n:]]\n",
    "df['ndcg'] = df.apply(lambda r: ndcg(r['country_destination'], r['true_destination']), axis=1)\n",
    "df['ndcg'].mean()"
   ]
  },
  {
   "cell_type": "code",
   "execution_count": 44,
   "metadata": {},
   "outputs": [
    {
     "name": "stdout",
     "output_type": "stream",
     "text": [
      "Mean score : 0.7244\n",
      "Std score : 0.00267\n"
     ]
    }
   ],
   "source": [
    "weights = {c: 1-y2.tolist().count(c)/y2.shape[0] for c in np.unique(y2)}\n",
    "model2 = RandomForestClassifier(n_estimators=50, max_depth=13)\n",
    "res = cross_validation_score(model2, X2, y2, k=5)\n",
    "print(f\"Mean score : {round(np.mean(res), 4)}\")\n",
    "print(f\"Std score : {round(np.std(res), 5)}\")"
   ]
  },
  {
   "cell_type": "code",
   "execution_count": null,
   "metadata": {},
   "outputs": [],
   "source": [
    "import folium\n",
    "from folium.features import DivIcon\n",
    "\n",
    "i = -34\n",
    "truth = y2[i]\n",
    "print(\"Expected label\", truth)\n",
    "u = X2[i]\n",
    "print(u)\n",
    "probas = {}\n",
    "for proba, country in zip(model2.predict_proba([u])[0], model2.classes_):\n",
    "    probas[country] = proba\n",
    "\n",
    "coords = {\n",
    "    'FR': (46, 2),\n",
    "    'US': (40, -103),\n",
    "    'CA': (55, -110),\n",
    "    'PT': (41, -9),\n",
    "    'ES': (37, -2),\n",
    "    'AU': (-35, 149),\n",
    "    'DE': (52, 13),\n",
    "    'IT': (41, 12),\n",
    "    'GB': (55, -2),\n",
    "    'NL': (52, 5),\n",
    "}\n",
    "\n",
    "f = folium.Figure(width=1100, height=600)\n",
    "m = folium.Map([30, 0], zoom_start=2, scrollWheelZoom=False,).add_to(f)\n",
    "\n",
    "for country in coords:\n",
    "    prob = coords[country][0]\n",
    "    folium.Circle(\n",
    "        [coords[country][0], coords[country][1]],\n",
    "        900000*probas[country], fill=True, color='red' if country == truth else 'blue').add_child(folium.Popup(f'Probabilities : {probas[country]}')).add_to(m)\n",
    "    folium.map.Marker(\n",
    "        [coords[country][0]+0.5, coords[country][1]-1.6],\n",
    "        icon=DivIcon(\n",
    "            icon_size=(150,36),\n",
    "            icon_anchor=(0,0),\n",
    "            html=f'<div style=\"font-size: 9pt\">{country}\\n{round(probas[country], 2)}</div>',\n",
    "            ),\n",
    "        ).add_to(m)\n",
    "m"
   ]
  }
 ],
 "metadata": {
  "kernelspec": {
   "display_name": "bookerguess",
   "language": "python",
   "name": "bookerguess"
  },
  "language_info": {
   "codemirror_mode": {
    "name": "ipython",
    "version": 3
   },
   "file_extension": ".py",
   "mimetype": "text/x-python",
   "name": "python",
   "nbconvert_exporter": "python",
   "pygments_lexer": "ipython3",
   "version": "3.8.2"
  }
 },
 "nbformat": 4,
 "nbformat_minor": 4
}
