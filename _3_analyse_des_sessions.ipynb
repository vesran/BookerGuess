{
 "cells": [
  {
   "cell_type": "markdown",
   "metadata": {},
   "source": [
    "# Analyse des sessions\n",
    "\n",
    "On va s'intéresser dans cette section à l'historique des activités (sessions) des utilisateurs. "
   ]
  },
  {
   "cell_type": "code",
   "execution_count": 2,
   "metadata": {},
   "outputs": [],
   "source": [
    "import pandas as pd\n",
    "import numpy as np\n",
    "import matplotlib.pyplot as plt\n",
    "import seaborn as sns"
   ]
  },
  {
   "cell_type": "code",
   "execution_count": 16,
   "metadata": {},
   "outputs": [],
   "source": [
    "users = pd.read_csv('data/train_users_2.csv')\n",
    "test_users = pd.read_csv('data/test_users.csv')\n",
    "sessions = pd.read_csv('data/sessions.csv')\n",
    "\n",
    "users['found_destination'] = users.apply(lambda r: 'DF' if r['country_destination'] != 'NDF' else 'NDF', axis=1)"
   ]
  },
  {
   "cell_type": "markdown",
   "metadata": {},
   "source": [
    "On a vu, dans l'introduction, qu'on ne dispose pas des sessions de tous les utilisateurs. De ce fait, on va sélectioner les utilisateurs qui ont une session avant d'équilibrer les classes (DF/NDF)."
   ]
  },
  {
   "cell_type": "code",
   "execution_count": 17,
   "metadata": {},
   "outputs": [
    {
     "name": "stdout",
     "output_type": "stream",
     "text": [
      "sessions.shape : (4296798, 6)\n"
     ]
    },
    {
     "data": {
      "text/html": [
       "<div>\n",
       "<style scoped>\n",
       "    .dataframe tbody tr th:only-of-type {\n",
       "        vertical-align: middle;\n",
       "    }\n",
       "\n",
       "    .dataframe tbody tr th {\n",
       "        vertical-align: top;\n",
       "    }\n",
       "\n",
       "    .dataframe thead th {\n",
       "        text-align: right;\n",
       "    }\n",
       "</style>\n",
       "<table border=\"1\" class=\"dataframe\">\n",
       "  <thead>\n",
       "    <tr style=\"text-align: right;\">\n",
       "      <th></th>\n",
       "      <th>user_id</th>\n",
       "      <th>action</th>\n",
       "      <th>action_type</th>\n",
       "      <th>action_detail</th>\n",
       "      <th>device_type</th>\n",
       "      <th>secs_elapsed</th>\n",
       "    </tr>\n",
       "  </thead>\n",
       "  <tbody>\n",
       "    <tr>\n",
       "      <th>0</th>\n",
       "      <td>d1mm9tcy42</td>\n",
       "      <td>lookup</td>\n",
       "      <td>NaN</td>\n",
       "      <td>NaN</td>\n",
       "      <td>Windows Desktop</td>\n",
       "      <td>319.0</td>\n",
       "    </tr>\n",
       "    <tr>\n",
       "      <th>1</th>\n",
       "      <td>d1mm9tcy42</td>\n",
       "      <td>search_results</td>\n",
       "      <td>click</td>\n",
       "      <td>view_search_results</td>\n",
       "      <td>Windows Desktop</td>\n",
       "      <td>67753.0</td>\n",
       "    </tr>\n",
       "    <tr>\n",
       "      <th>2</th>\n",
       "      <td>d1mm9tcy42</td>\n",
       "      <td>lookup</td>\n",
       "      <td>NaN</td>\n",
       "      <td>NaN</td>\n",
       "      <td>Windows Desktop</td>\n",
       "      <td>301.0</td>\n",
       "    </tr>\n",
       "    <tr>\n",
       "      <th>3</th>\n",
       "      <td>d1mm9tcy42</td>\n",
       "      <td>search_results</td>\n",
       "      <td>click</td>\n",
       "      <td>view_search_results</td>\n",
       "      <td>Windows Desktop</td>\n",
       "      <td>22141.0</td>\n",
       "    </tr>\n",
       "    <tr>\n",
       "      <th>4</th>\n",
       "      <td>d1mm9tcy42</td>\n",
       "      <td>lookup</td>\n",
       "      <td>NaN</td>\n",
       "      <td>NaN</td>\n",
       "      <td>Windows Desktop</td>\n",
       "      <td>435.0</td>\n",
       "    </tr>\n",
       "  </tbody>\n",
       "</table>\n",
       "</div>"
      ],
      "text/plain": [
       "      user_id          action action_type        action_detail  \\\n",
       "0  d1mm9tcy42          lookup         NaN                  NaN   \n",
       "1  d1mm9tcy42  search_results       click  view_search_results   \n",
       "2  d1mm9tcy42          lookup         NaN                  NaN   \n",
       "3  d1mm9tcy42  search_results       click  view_search_results   \n",
       "4  d1mm9tcy42          lookup         NaN                  NaN   \n",
       "\n",
       "       device_type  secs_elapsed  \n",
       "0  Windows Desktop         319.0  \n",
       "1  Windows Desktop       67753.0  \n",
       "2  Windows Desktop         301.0  \n",
       "3  Windows Desktop       22141.0  \n",
       "4  Windows Desktop         435.0  "
      ]
     },
     "execution_count": 17,
     "metadata": {},
     "output_type": "execute_result"
    }
   ],
   "source": [
    "base_user_ids = sessions['user_id'].unique()\n",
    "base_user_ids = base_user_ids.tolist()\n",
    "base_user_ids.remove(np.nan)\n",
    "\n",
    "test_user_ids = test_users['id'].values\n",
    "base_user_ids = list(set(base_user_ids) - set(test_user_ids))\n",
    "\n",
    "users_by_ids = users.set_index('id')\n",
    "session_users = users_by_ids.loc[base_user_ids]\n",
    "\n",
    "session_users_ndf = session_users[session_users['found_destination'] == 'NDF'].head(20000)\n",
    "session_users_df = session_users[session_users['found_destination'] == 'DF'].head(20000)\n",
    "session_users = pd.concat([session_users_ndf, session_users_df])\n",
    "\n",
    "sessions = sessions[sessions['user_id'].isin(session_users.index)]\n",
    "print(f'sessions.shape : {sessions.shape}')\n",
    "sessions.head()"
   ]
  },
  {
   "cell_type": "markdown",
   "metadata": {},
   "source": [
    "On a 28000 utilisateurs DF et NDF."
   ]
  },
  {
   "cell_type": "code",
   "execution_count": 21,
   "metadata": {},
   "outputs": [],
   "source": [
    "sessions['found_destination'] = sessions.apply(lambda r: session_users.loc[r['user_id'], 'found_destination'], axis=1)"
   ]
  },
  {
   "cell_type": "code",
   "execution_count": 39,
   "metadata": {},
   "outputs": [
    {
     "name": "stdout",
     "output_type": "stream",
     "text": [
      "Median NDF : 189.74444444444444 h\n",
      "Median DF : 329.62958333333336 h\n"
     ]
    },
    {
     "data": {
      "text/plain": [
       "Text(0.5, 1.0, 'Temps médian passé sur le site en secondes')"
      ]
     },
     "execution_count": 39,
     "metadata": {},
     "output_type": "execute_result"
    },
    {
     "data": {
      "image/png": "[encoded data removed]",
      "text/plain": [
       "<Figure size 1440x432 with 2 Axes>"
      ]
     },
     "metadata": {
      "needs_background": "light"
     },
     "output_type": "display_data"
    }
   ],
   "source": [
    "time_elapsed = sessions.groupby(['user_id', 'found_destination'])['secs_elapsed'].sum()\n",
    "# sns.distplot(time_elapsed)\n",
    "f = plt.figure(figsize=(20, 6))\n",
    "f.add_subplot(1, 2, 1)\n",
    "sns.distplot(time_elapsed[time_elapsed < 0.1e7].loc[:,'DF'], label='DF')\n",
    "sns.distplot(time_elapsed[time_elapsed < 0.1e7].loc[:,'NDF'], label='NDF')\n",
    "plt.title(\"Temps passé sur le site en secondes\")\n",
    "plt.legend()\n",
    "print(f'Median NDF : {time_elapsed.loc[:, \"NDF\"].median() / (60**2)} h')\n",
    "print(f'Median DF : {time_elapsed.loc[:, \"DF\"].median() / (60**2)} h')\n",
    "\n",
    "f.add_subplot(1, 2, 2)\n",
    "time_elapsed.groupby('found_destination').median().plot(kind='bar')\n",
    "_ = plt.title(\"Temps médian passé sur le site en secondes\")"
   ]
  },
  {
   "cell_type": "markdown",
   "metadata": {},
   "source": [
    "Les DF passent beaucoup plus de temps sur le site que les NDF, probablement car ils font l'effort de renseigner leur profil, passer du temps sur les différentes annonces, écrire aux hôtes pour poser des questions, etc. Il est possible qu'une partie des NDF ne font que regarder, mais ce ne sont que des hypothèses."
   ]
  },
  {
   "cell_type": "raw",
   "metadata": {},
   "source": [
    "session_users['time_elapsed'] = session_users.apply(lambda r: time_elapsed.loc[r.name].values[0], axis=1)"
   ]
  },
  {
   "cell_type": "raw",
   "metadata": {},
   "source": [
    "import datetime\n",
    "session_users['timestamp_first_active'] = pd.to_datetime(users['timestamp_first_active'], format='%Y%m%d%H%M%S')\n",
    "session_users['date_account_created'] = pd.to_datetime(users['date_account_created'], format='%Y-%m-%d')\n",
    "session_users[\"date_first_booking\"] = pd.to_datetime(users['date_first_booking'], format='%Y-%m-%d')\n",
    "a = session_users[(session_users['found_destination'] == 'DF') & (session_users['date_first_booking'] - session_users['date_account_created'] <= datetime.timedelta(days=30))]['time_elapsed']\n",
    "sns.distplot(a)\n",
    "a"
   ]
  },
  {
   "cell_type": "markdown",
   "metadata": {},
   "source": [
    "On va récupérer les actions les plus présentes chez les DF puis chez les NDF."
   ]
  },
  {
   "cell_type": "code",
   "execution_count": 73,
   "metadata": {},
   "outputs": [
    {
     "data": {
      "text/html": [
       "<div>\n",
       "<style scoped>\n",
       "    .dataframe tbody tr th:only-of-type {\n",
       "        vertical-align: middle;\n",
       "    }\n",
       "\n",
       "    .dataframe tbody tr th {\n",
       "        vertical-align: top;\n",
       "    }\n",
       "\n",
       "    .dataframe thead th {\n",
       "        text-align: right;\n",
       "    }\n",
       "</style>\n",
       "<table border=\"1\" class=\"dataframe\">\n",
       "  <thead>\n",
       "    <tr style=\"text-align: right;\">\n",
       "      <th></th>\n",
       "      <th>user_id</th>\n",
       "      <th>found_destination</th>\n",
       "      <th>action</th>\n",
       "      <th>number_actions</th>\n",
       "    </tr>\n",
       "  </thead>\n",
       "  <tbody>\n",
       "    <tr>\n",
       "      <th>0</th>\n",
       "      <td>00023iyk9l</td>\n",
       "      <td>DF</td>\n",
       "      <td>[index, dashboard, header_userpic, dashboard, ...</td>\n",
       "      <td>40</td>\n",
       "    </tr>\n",
       "    <tr>\n",
       "      <th>1</th>\n",
       "      <td>0028jgx1x1</td>\n",
       "      <td>NDF</td>\n",
       "      <td>[show, reviews, show, search, show, search, re...</td>\n",
       "      <td>31</td>\n",
       "    </tr>\n",
       "    <tr>\n",
       "      <th>2</th>\n",
       "      <td>002qnbzfs5</td>\n",
       "      <td>DF</td>\n",
       "      <td>[social_connections, payment_methods, create, ...</td>\n",
       "      <td>789</td>\n",
       "    </tr>\n",
       "    <tr>\n",
       "      <th>3</th>\n",
       "      <td>0035hobuyj</td>\n",
       "      <td>DF</td>\n",
       "      <td>[lookup, search_results, lookup, search_result...</td>\n",
       "      <td>489</td>\n",
       "    </tr>\n",
       "    <tr>\n",
       "      <th>4</th>\n",
       "      <td>00389675gq</td>\n",
       "      <td>NDF</td>\n",
       "      <td>[similar_listings, edit, create, verify, phone...</td>\n",
       "      <td>177</td>\n",
       "    </tr>\n",
       "  </tbody>\n",
       "</table>\n",
       "</div>"
      ],
      "text/plain": [
       "      user_id found_destination  \\\n",
       "0  00023iyk9l                DF   \n",
       "1  0028jgx1x1               NDF   \n",
       "2  002qnbzfs5                DF   \n",
       "3  0035hobuyj                DF   \n",
       "4  00389675gq               NDF   \n",
       "\n",
       "                                              action  number_actions  \n",
       "0  [index, dashboard, header_userpic, dashboard, ...              40  \n",
       "1  [show, reviews, show, search, show, search, re...              31  \n",
       "2  [social_connections, payment_methods, create, ...             789  \n",
       "3  [lookup, search_results, lookup, search_result...             489  \n",
       "4  [similar_listings, edit, create, verify, phone...             177  "
      ]
     },
     "execution_count": 73,
     "metadata": {},
     "output_type": "execute_result"
    }
   ],
   "source": [
    "# Actions that are common among DF / NDF\n",
    "actions = sessions.groupby(['user_id', 'found_destination']).agg({'action': pd.Series.tolist}).reset_index()\n",
    "actions['number_actions'] = actions.apply(lambda r: r['action'].__len__(), axis=1)\n",
    "actions.head()"
   ]
  },
  {
   "cell_type": "code",
   "execution_count": null,
   "metadata": {},
   "outputs": [],
   "source": [
    "def count_actions(action, booked):\n",
    "    actions['tmp'] = actions.apply(lambda r: 1 if action in r['action'] else 0, axis=1)\n",
    "    res = actions[actions['found_destination'] == booked]['tmp'].sum()\n",
    "    actions.drop('tmp', axis=1)\n",
    "    return res\n",
    "\n",
    "# Actions that are the most common among DF\n",
    "action_stats_df = pd.DataFrame()\n",
    "action_stats_df['action'] = sessions.action.unique()\n",
    "action_stats_df['count'] = action_stats_df.apply(lambda r: count_actions(r['action'], 'DF'), axis=1)\n",
    "\n",
    "# Actions that are the most common among NDF\n",
    "action_stats_ndf = pd.DataFrame()\n",
    "action_stats_ndf['action'] = sessions.action.unique()\n",
    "action_stats_ndf['count'] = action_stats_ndf.apply(lambda r: count_actions(r['action'], 'NDF'), axis=1)\n",
    "\n",
    "# Combine DF and NDF\n",
    "action_stats = pd.DataFrame()\n",
    "action_stats['action'] = filtered_sessions['action'].unique()\n",
    "action_stats['count_df'] = action_stats_df['count'].values\n",
    "action_stats['count_ndf'] = action_stats_ndf['count'].values\n",
    "action_stats['diff'] = (action_stats['count_df'] - action_stats['count_ndf']) / (action_stats['count_df'] + action_stats['count_ndf'])"
   ]
  },
  {
   "cell_type": "code",
   "execution_count": null,
   "metadata": {},
   "outputs": [],
   "source": [
    "action_stats[action_stats['count_df'] + action_stats['count_ndf'] > 500].sort_values(by='diff').head()"
   ]
  },
  {
   "cell_type": "code",
   "execution_count": null,
   "metadata": {},
   "outputs": [],
   "source": [
    "action_stats[action_stats['count_df'] + action_stats['count_ndf'] > 500].sort_values(by='diff').tail(10).sort_values(by='diff', ascending=False)"
   ]
  }
 ],
 "metadata": {
  "kernelspec": {
   "display_name": "bookerguess",
   "language": "python",
   "name": "bookerguess"
  },
  "language_info": {
   "codemirror_mode": {
    "name": "ipython",
    "version": 3
   },
   "file_extension": ".py",
   "mimetype": "text/x-python",
   "name": "python",
   "nbconvert_exporter": "python",
   "pygments_lexer": "ipython3",
   "version": "3.8.2"
  }
 },
 "nbformat": 4,
 "nbformat_minor": 4
}
