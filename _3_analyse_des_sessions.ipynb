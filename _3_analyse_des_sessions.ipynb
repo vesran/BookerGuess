{
 "cells": [
  {
   "cell_type": "markdown",
   "metadata": {},
   "source": [
    "# Analyse des sessions\n",
    "\n",
    "On va s'intéresser dans cette section à l'historique des activités (sessions) des utilisateurs. "
   ]
  },
  {
   "cell_type": "code",
   "execution_count": 21,
   "metadata": {},
   "outputs": [],
   "source": [
    "import pandas as pd\n",
    "import numpy as np\n",
    "import matplotlib.pyplot as plt\n",
    "import seaborn as sns\n",
    "plt.style.use('seaborn')"
   ]
  },
  {
   "cell_type": "code",
   "execution_count": 2,
   "metadata": {},
   "outputs": [],
   "source": [
    "users = pd.read_csv('data/train_users_2.csv')\n",
    "test_users = pd.read_csv('data/test_users.csv')\n",
    "sessions = pd.read_csv('data/sessions.csv')\n",
    "\n",
    "users['found_destination'] = users.apply(lambda r: 'DF' if r['country_destination'] != 'NDF' else 'NDF', axis=1)"
   ]
  },
  {
   "cell_type": "markdown",
   "metadata": {},
   "source": [
    "On a vu, dans l'introduction, qu'on ne dispose pas des sessions de tous les utilisateurs. De ce fait, on va sélectioner les utilisateurs qui ont une session avant d'équilibrer les classes (DF/NDF)."
   ]
  },
  {
   "cell_type": "code",
   "execution_count": 3,
   "metadata": {},
   "outputs": [
    {
     "name": "stdout",
     "output_type": "stream",
     "text": [
      "sessions.shape : (3098239, 6)\n"
     ]
    },
    {
     "data": {
      "text/html": [
       "<div>\n",
       "<style scoped>\n",
       "    .dataframe tbody tr th:only-of-type {\n",
       "        vertical-align: middle;\n",
       "    }\n",
       "\n",
       "    .dataframe tbody tr th {\n",
       "        vertical-align: top;\n",
       "    }\n",
       "\n",
       "    .dataframe thead th {\n",
       "        text-align: right;\n",
       "    }\n",
       "</style>\n",
       "<table border=\"1\" class=\"dataframe\">\n",
       "  <thead>\n",
       "    <tr style=\"text-align: right;\">\n",
       "      <th></th>\n",
       "      <th>user_id</th>\n",
       "      <th>action</th>\n",
       "      <th>action_type</th>\n",
       "      <th>action_detail</th>\n",
       "      <th>device_type</th>\n",
       "      <th>secs_elapsed</th>\n",
       "    </tr>\n",
       "  </thead>\n",
       "  <tbody>\n",
       "    <tr>\n",
       "      <th>0</th>\n",
       "      <td>d1mm9tcy42</td>\n",
       "      <td>lookup</td>\n",
       "      <td>NaN</td>\n",
       "      <td>NaN</td>\n",
       "      <td>Windows Desktop</td>\n",
       "      <td>319.0</td>\n",
       "    </tr>\n",
       "    <tr>\n",
       "      <th>1</th>\n",
       "      <td>d1mm9tcy42</td>\n",
       "      <td>search_results</td>\n",
       "      <td>click</td>\n",
       "      <td>view_search_results</td>\n",
       "      <td>Windows Desktop</td>\n",
       "      <td>67753.0</td>\n",
       "    </tr>\n",
       "    <tr>\n",
       "      <th>2</th>\n",
       "      <td>d1mm9tcy42</td>\n",
       "      <td>lookup</td>\n",
       "      <td>NaN</td>\n",
       "      <td>NaN</td>\n",
       "      <td>Windows Desktop</td>\n",
       "      <td>301.0</td>\n",
       "    </tr>\n",
       "    <tr>\n",
       "      <th>3</th>\n",
       "      <td>d1mm9tcy42</td>\n",
       "      <td>search_results</td>\n",
       "      <td>click</td>\n",
       "      <td>view_search_results</td>\n",
       "      <td>Windows Desktop</td>\n",
       "      <td>22141.0</td>\n",
       "    </tr>\n",
       "    <tr>\n",
       "      <th>4</th>\n",
       "      <td>d1mm9tcy42</td>\n",
       "      <td>lookup</td>\n",
       "      <td>NaN</td>\n",
       "      <td>NaN</td>\n",
       "      <td>Windows Desktop</td>\n",
       "      <td>435.0</td>\n",
       "    </tr>\n",
       "  </tbody>\n",
       "</table>\n",
       "</div>"
      ],
      "text/plain": [
       "      user_id          action action_type        action_detail  \\\n",
       "0  d1mm9tcy42          lookup         NaN                  NaN   \n",
       "1  d1mm9tcy42  search_results       click  view_search_results   \n",
       "2  d1mm9tcy42          lookup         NaN                  NaN   \n",
       "3  d1mm9tcy42  search_results       click  view_search_results   \n",
       "4  d1mm9tcy42          lookup         NaN                  NaN   \n",
       "\n",
       "       device_type  secs_elapsed  \n",
       "0  Windows Desktop         319.0  \n",
       "1  Windows Desktop       67753.0  \n",
       "2  Windows Desktop         301.0  \n",
       "3  Windows Desktop       22141.0  \n",
       "4  Windows Desktop         435.0  "
      ]
     },
     "execution_count": 3,
     "metadata": {},
     "output_type": "execute_result"
    }
   ],
   "source": [
    "# Extract user ids who have sessions\n",
    "base_user_ids = sessions['user_id'].unique()\n",
    "base_user_ids = base_user_ids.tolist()\n",
    "base_user_ids.remove(np.nan)\n",
    "\n",
    "# Remove user ids who are from the test set\n",
    "test_user_ids = test_users['id'].values\n",
    "base_user_ids = list(set(base_user_ids) - set(test_user_ids))\n",
    "\n",
    "# Select sessions with the remaining ids\n",
    "users_by_ids = users.set_index('id')\n",
    "session_users = users_by_ids.loc[base_user_ids]\n",
    "\n",
    "# Balance DF and NDF labels\n",
    "session_users_ndf = session_users[session_users['found_destination'] == 'NDF'].head(20000)\n",
    "session_users_df = session_users[session_users['found_destination'] == 'DF'].head(20000)\n",
    "session_users = pd.concat([session_users_ndf, session_users_df])\n",
    "\n",
    "sessions = sessions[sessions['user_id'].isin(session_users.index)]\n",
    "print(f'sessions.shape : {sessions.shape}')\n",
    "sessions.head()"
   ]
  },
  {
   "cell_type": "markdown",
   "metadata": {},
   "source": [
    "On a 20000 + 20000 utilisateurs DF et NDF."
   ]
  },
  {
   "cell_type": "code",
   "execution_count": 4,
   "metadata": {},
   "outputs": [],
   "source": [
    "sessions['found_destination'] = sessions.apply(lambda r: session_users.loc[r['user_id'], 'found_destination'], axis=1)"
   ]
  },
  {
   "cell_type": "markdown",
   "metadata": {},
   "source": [
    "Affichons le temps que les utilisateurs ont passé sur le site (somme du temps écoulé par activités)."
   ]
  },
  {
   "cell_type": "code",
   "execution_count": 22,
   "metadata": {},
   "outputs": [
    {
     "name": "stdout",
     "output_type": "stream",
     "text": [
      "Median NDF : 194.76472222222222 h\n",
      "Median DF : 328.4058333333333 h\n"
     ]
    },
    {
     "data": {
      "image/png": "[encoded data removed]",
      "text/plain": [
       "<Figure size 1440x432 with 2 Axes>"
      ]
     },
     "metadata": {},
     "output_type": "display_data"
    }
   ],
   "source": [
    "time_elapsed = sessions.groupby(['user_id', 'found_destination'])['secs_elapsed'].sum()\n",
    "f = plt.figure(figsize=(20, 6))\n",
    "f.add_subplot(1, 2, 1)\n",
    "sns.distplot(time_elapsed[time_elapsed < 0.1e7].loc[:,'DF'], label='DF')\n",
    "sns.distplot(time_elapsed[time_elapsed < 0.1e7].loc[:,'NDF'], label='NDF')\n",
    "plt.title(\"Temps passé sur le site en secondes\")\n",
    "plt.legend()\n",
    "print(f'Median NDF : {time_elapsed.loc[:, \"NDF\"].median() / (60**2)} h')\n",
    "print(f'Median DF : {time_elapsed.loc[:, \"DF\"].median() / (60**2)} h')\n",
    "\n",
    "f.add_subplot(1, 2, 2)\n",
    "time_elapsed.groupby('found_destination').median().plot(kind='bar')\n",
    "_ = plt.title(\"Temps médian passé sur le site en secondes\")"
   ]
  },
  {
   "cell_type": "markdown",
   "metadata": {},
   "source": [
    "Les DF passent beaucoup plus de temps sur le site que les NDF, probablement car ils font l'effort de renseigner leur profil, passer du temps sur les différentes annonces, écrire aux hôtes pour poser des questions, etc. Il est possible qu'une partie des NDF ne font que regarder, mais ce ne sont que des hypothèses. "
   ]
  },
  {
   "cell_type": "raw",
   "metadata": {},
   "source": [
    "session_users['time_elapsed'] = session_users.apply(lambda r: time_elapsed.loc[r.name].values[0], axis=1)"
   ]
  },
  {
   "cell_type": "raw",
   "metadata": {},
   "source": [
    "import datetime\n",
    "session_users['timestamp_first_active'] = pd.to_datetime(users['timestamp_first_active'], format='%Y%m%d%H%M%S')\n",
    "session_users['date_account_created'] = pd.to_datetime(users['date_account_created'], format='%Y-%m-%d')\n",
    "session_users[\"date_first_booking\"] = pd.to_datetime(users['date_first_booking'], format='%Y-%m-%d')\n",
    "a = session_users[(session_users['found_destination'] == 'DF') & (session_users['date_first_booking'] - session_users['date_account_created'] <= datetime.timedelta(days=30))]['time_elapsed']\n",
    "sns.distplot(a)\n",
    "a"
   ]
  },
  {
   "cell_type": "markdown",
   "metadata": {},
   "source": [
    "On va récupérer les actions les plus présentes chez les DF puis chez les NDF."
   ]
  },
  {
   "cell_type": "code",
   "execution_count": 6,
   "metadata": {},
   "outputs": [
    {
     "data": {
      "text/html": [
       "<div>\n",
       "<style scoped>\n",
       "    .dataframe tbody tr th:only-of-type {\n",
       "        vertical-align: middle;\n",
       "    }\n",
       "\n",
       "    .dataframe tbody tr th {\n",
       "        vertical-align: top;\n",
       "    }\n",
       "\n",
       "    .dataframe thead th {\n",
       "        text-align: right;\n",
       "    }\n",
       "</style>\n",
       "<table border=\"1\" class=\"dataframe\">\n",
       "  <thead>\n",
       "    <tr style=\"text-align: right;\">\n",
       "      <th></th>\n",
       "      <th>user_id</th>\n",
       "      <th>found_destination</th>\n",
       "      <th>action</th>\n",
       "      <th>number_actions</th>\n",
       "    </tr>\n",
       "  </thead>\n",
       "  <tbody>\n",
       "    <tr>\n",
       "      <th>0</th>\n",
       "      <td>001wyh0pz8</td>\n",
       "      <td>NDF</td>\n",
       "      <td>[search, search, search, show, social_connecti...</td>\n",
       "      <td>90</td>\n",
       "    </tr>\n",
       "    <tr>\n",
       "      <th>1</th>\n",
       "      <td>002qnbzfs5</td>\n",
       "      <td>DF</td>\n",
       "      <td>[social_connections, payment_methods, create, ...</td>\n",
       "      <td>789</td>\n",
       "    </tr>\n",
       "    <tr>\n",
       "      <th>2</th>\n",
       "      <td>0035hobuyj</td>\n",
       "      <td>DF</td>\n",
       "      <td>[lookup, search_results, lookup, search_result...</td>\n",
       "      <td>489</td>\n",
       "    </tr>\n",
       "    <tr>\n",
       "      <th>3</th>\n",
       "      <td>003iamz20l</td>\n",
       "      <td>NDF</td>\n",
       "      <td>[active, search, search, search, social_connec...</td>\n",
       "      <td>163</td>\n",
       "    </tr>\n",
       "    <tr>\n",
       "      <th>4</th>\n",
       "      <td>005jc3nbmb</td>\n",
       "      <td>NDF</td>\n",
       "      <td>[recommended_listings, ask_question, nan, dash...</td>\n",
       "      <td>26</td>\n",
       "    </tr>\n",
       "  </tbody>\n",
       "</table>\n",
       "</div>"
      ],
      "text/plain": [
       "      user_id found_destination  \\\n",
       "0  001wyh0pz8               NDF   \n",
       "1  002qnbzfs5                DF   \n",
       "2  0035hobuyj                DF   \n",
       "3  003iamz20l               NDF   \n",
       "4  005jc3nbmb               NDF   \n",
       "\n",
       "                                              action  number_actions  \n",
       "0  [search, search, search, show, social_connecti...              90  \n",
       "1  [social_connections, payment_methods, create, ...             789  \n",
       "2  [lookup, search_results, lookup, search_result...             489  \n",
       "3  [active, search, search, search, social_connec...             163  \n",
       "4  [recommended_listings, ask_question, nan, dash...              26  "
      ]
     },
     "execution_count": 6,
     "metadata": {},
     "output_type": "execute_result"
    }
   ],
   "source": [
    "# Actions that are common among DF / NDF\n",
    "actions = sessions.groupby(['user_id', 'found_destination']).agg({'action': pd.Series.tolist}).reset_index()\n",
    "actions['number_actions'] = actions.apply(lambda r: r['action'].__len__(), axis=1)\n",
    "actions.head()"
   ]
  },
  {
   "cell_type": "code",
   "execution_count": 7,
   "metadata": {},
   "outputs": [],
   "source": [
    "def count_actions(action, booked):\n",
    "    actions['tmp'] = actions.apply(lambda r: 1 if action in r['action'] else 0, axis=1)\n",
    "    res = actions[actions['found_destination'] == booked]['tmp'].sum()\n",
    "    actions.drop('tmp', axis=1)\n",
    "    return res\n",
    "\n",
    "# Actions that are the most common among DF\n",
    "action_stats_df = pd.DataFrame()\n",
    "action_stats_df['action'] = sessions.action.unique()\n",
    "action_stats_df['count'] = action_stats_df.apply(lambda r: count_actions(r['action'], 'DF'), axis=1)\n",
    "\n",
    "# Actions that are the most common among NDF\n",
    "action_stats_ndf = pd.DataFrame()\n",
    "action_stats_ndf['action'] = sessions.action.unique()\n",
    "action_stats_ndf['count'] = action_stats_ndf.apply(lambda r: count_actions(r['action'], 'NDF'), axis=1)\n",
    "\n",
    "# Combine DF and NDF\n",
    "action_stats = pd.DataFrame()\n",
    "action_stats['action'] = sessions['action'].unique()\n",
    "action_stats['count_df'] = action_stats_df['count'].values\n",
    "action_stats['count_ndf'] = action_stats_ndf['count'].values\n",
    "action_stats['diff'] = (action_stats['count_df'] - action_stats['count_ndf']) / (action_stats['count_df'] + action_stats['count_ndf'])"
   ]
  },
  {
   "cell_type": "code",
   "execution_count": 51,
   "metadata": {},
   "outputs": [
    {
     "data": {
      "image/png": "[encoded data removed]",
      "text/plain": [
       "<Figure size 1296x576 with 1 Axes>"
      ]
     },
     "metadata": {},
     "output_type": "display_data"
    }
   ],
   "source": [
    "df_stats = action_stats[action_stats['count_df'] + action_stats['count_ndf'] > 500].sort_values(by='diff').head(10).reset_index()\n",
    "ndf_stats = action_stats[action_stats['count_df'] + action_stats['count_ndf'] > 500].sort_values(by='diff').tail(10).sort_values(by='diff').reset_index()\n",
    "stats = pd.DataFrame({\n",
    "    'action': df_stats['action'].values.tolist() + ndf_stats['action'].values.tolist(),\n",
    "    'DF_action_proportion': df_stats['diff'].values.tolist() +  [0 for _ in range(ndf_stats.shape[0])],\n",
    "    'NDF_action_proportion': [0 for _ in range(df_stats.shape[0])] + ndf_stats['diff'].values.tolist(),\n",
    "})\n",
    "_ = stats.set_index('action').plot.barh(figsize=(18, 8))"
   ]
  },
  {
   "cell_type": "code",
   "execution_count": 10,
   "metadata": {},
   "outputs": [
    {
     "data": {
      "text/html": [
       "<div>\n",
       "<style scoped>\n",
       "    .dataframe tbody tr th:only-of-type {\n",
       "        vertical-align: middle;\n",
       "    }\n",
       "\n",
       "    .dataframe tbody tr th {\n",
       "        vertical-align: top;\n",
       "    }\n",
       "\n",
       "    .dataframe thead th {\n",
       "        text-align: right;\n",
       "    }\n",
       "</style>\n",
       "<table border=\"1\" class=\"dataframe\">\n",
       "  <thead>\n",
       "    <tr style=\"text-align: right;\">\n",
       "      <th></th>\n",
       "      <th>user_id</th>\n",
       "      <th>action</th>\n",
       "      <th>action_type</th>\n",
       "      <th>action_detail</th>\n",
       "      <th>device_type</th>\n",
       "      <th>secs_elapsed</th>\n",
       "      <th>found_destination</th>\n",
       "    </tr>\n",
       "  </thead>\n",
       "  <tbody>\n",
       "    <tr>\n",
       "      <th>2566</th>\n",
       "      <td>8s14bomsx5</td>\n",
       "      <td>reviews</td>\n",
       "      <td>-unknown-</td>\n",
       "      <td>-unknown-</td>\n",
       "      <td>iPhone</td>\n",
       "      <td>25.0</td>\n",
       "      <td>NDF</td>\n",
       "    </tr>\n",
       "    <tr>\n",
       "      <th>2575</th>\n",
       "      <td>8s14bomsx5</td>\n",
       "      <td>reviews</td>\n",
       "      <td>-unknown-</td>\n",
       "      <td>-unknown-</td>\n",
       "      <td>iPhone</td>\n",
       "      <td>171.0</td>\n",
       "      <td>NDF</td>\n",
       "    </tr>\n",
       "    <tr>\n",
       "      <th>2581</th>\n",
       "      <td>8s14bomsx5</td>\n",
       "      <td>reviews</td>\n",
       "      <td>-unknown-</td>\n",
       "      <td>-unknown-</td>\n",
       "      <td>iPhone</td>\n",
       "      <td>44.0</td>\n",
       "      <td>NDF</td>\n",
       "    </tr>\n",
       "    <tr>\n",
       "      <th>2588</th>\n",
       "      <td>8s14bomsx5</td>\n",
       "      <td>reviews</td>\n",
       "      <td>-unknown-</td>\n",
       "      <td>-unknown-</td>\n",
       "      <td>iPhone</td>\n",
       "      <td>342.0</td>\n",
       "      <td>NDF</td>\n",
       "    </tr>\n",
       "    <tr>\n",
       "      <th>2597</th>\n",
       "      <td>8s14bomsx5</td>\n",
       "      <td>reviews</td>\n",
       "      <td>-unknown-</td>\n",
       "      <td>-unknown-</td>\n",
       "      <td>iPhone</td>\n",
       "      <td>101.0</td>\n",
       "      <td>NDF</td>\n",
       "    </tr>\n",
       "    <tr>\n",
       "      <th>...</th>\n",
       "      <td>...</td>\n",
       "      <td>...</td>\n",
       "      <td>...</td>\n",
       "      <td>...</td>\n",
       "      <td>...</td>\n",
       "      <td>...</td>\n",
       "      <td>...</td>\n",
       "    </tr>\n",
       "    <tr>\n",
       "      <th>5554391</th>\n",
       "      <td>04y8115avm</td>\n",
       "      <td>reviews</td>\n",
       "      <td>data</td>\n",
       "      <td>listing_reviews</td>\n",
       "      <td>iPad Tablet</td>\n",
       "      <td>9402.0</td>\n",
       "      <td>NDF</td>\n",
       "    </tr>\n",
       "    <tr>\n",
       "      <th>5554393</th>\n",
       "      <td>04y8115avm</td>\n",
       "      <td>reviews</td>\n",
       "      <td>data</td>\n",
       "      <td>listing_reviews</td>\n",
       "      <td>iPad Tablet</td>\n",
       "      <td>1337.0</td>\n",
       "      <td>NDF</td>\n",
       "    </tr>\n",
       "    <tr>\n",
       "      <th>5554398</th>\n",
       "      <td>04y8115avm</td>\n",
       "      <td>reviews</td>\n",
       "      <td>data</td>\n",
       "      <td>listing_reviews</td>\n",
       "      <td>iPad Tablet</td>\n",
       "      <td>141.0</td>\n",
       "      <td>NDF</td>\n",
       "    </tr>\n",
       "    <tr>\n",
       "      <th>5554402</th>\n",
       "      <td>04y8115avm</td>\n",
       "      <td>reviews</td>\n",
       "      <td>data</td>\n",
       "      <td>listing_reviews</td>\n",
       "      <td>iPad Tablet</td>\n",
       "      <td>56957.0</td>\n",
       "      <td>NDF</td>\n",
       "    </tr>\n",
       "    <tr>\n",
       "      <th>5554403</th>\n",
       "      <td>04y8115avm</td>\n",
       "      <td>reviews</td>\n",
       "      <td>data</td>\n",
       "      <td>listing_reviews</td>\n",
       "      <td>iPad Tablet</td>\n",
       "      <td>6065.0</td>\n",
       "      <td>NDF</td>\n",
       "    </tr>\n",
       "  </tbody>\n",
       "</table>\n",
       "<p>53937 rows × 7 columns</p>\n",
       "</div>"
      ],
      "text/plain": [
       "            user_id   action action_type    action_detail  device_type  \\\n",
       "2566     8s14bomsx5  reviews   -unknown-        -unknown-       iPhone   \n",
       "2575     8s14bomsx5  reviews   -unknown-        -unknown-       iPhone   \n",
       "2581     8s14bomsx5  reviews   -unknown-        -unknown-       iPhone   \n",
       "2588     8s14bomsx5  reviews   -unknown-        -unknown-       iPhone   \n",
       "2597     8s14bomsx5  reviews   -unknown-        -unknown-       iPhone   \n",
       "...             ...      ...         ...              ...          ...   \n",
       "5554391  04y8115avm  reviews        data  listing_reviews  iPad Tablet   \n",
       "5554393  04y8115avm  reviews        data  listing_reviews  iPad Tablet   \n",
       "5554398  04y8115avm  reviews        data  listing_reviews  iPad Tablet   \n",
       "5554402  04y8115avm  reviews        data  listing_reviews  iPad Tablet   \n",
       "5554403  04y8115avm  reviews        data  listing_reviews  iPad Tablet   \n",
       "\n",
       "         secs_elapsed found_destination  \n",
       "2566             25.0               NDF  \n",
       "2575            171.0               NDF  \n",
       "2581             44.0               NDF  \n",
       "2588            342.0               NDF  \n",
       "2597            101.0               NDF  \n",
       "...               ...               ...  \n",
       "5554391        9402.0               NDF  \n",
       "5554393        1337.0               NDF  \n",
       "5554398         141.0               NDF  \n",
       "5554402       56957.0               NDF  \n",
       "5554403        6065.0               NDF  \n",
       "\n",
       "[53937 rows x 7 columns]"
      ]
     },
     "execution_count": 10,
     "metadata": {},
     "output_type": "execute_result"
    }
   ],
   "source": [
    "sessions[sessions['action'] == 'reviews']"
   ]
  },
  {
   "cell_type": "code",
   "execution_count": null,
   "metadata": {},
   "outputs": [],
   "source": []
  }
 ],
 "metadata": {
  "kernelspec": {
   "display_name": "bookerguess",
   "language": "python",
   "name": "bookerguess"
  },
  "language_info": {
   "codemirror_mode": {
    "name": "ipython",
    "version": 3
   },
   "file_extension": ".py",
   "mimetype": "text/x-python",
   "name": "python",
   "nbconvert_exporter": "python",
   "pygments_lexer": "ipython3",
   "version": "3.8.2"
  }
 },
 "nbformat": 4,
 "nbformat_minor": 4
}
