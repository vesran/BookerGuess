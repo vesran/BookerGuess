{
 "cells": [
  {
   "cell_type": "code",
   "execution_count": 98,
   "metadata": {},
   "outputs": [],
   "source": [
    "import pandas as pd\n",
    "import numpy as np\n",
    "import matplotlib.pyplot as plt\n",
    "import sklearn"
   ]
  },
  {
   "cell_type": "markdown",
   "metadata": {},
   "source": [
    "# Features engieneering"
   ]
  },
  {
   "cell_type": "code",
   "execution_count": null,
   "metadata": {},
   "outputs": [],
   "source": [
    "users = pd.read_csv('../data/train_users_2.csv')\n",
    "test_users = pd.read_csv('../data/test_users.csv')\n",
    "sessions = pd.read_csv('../data/sessions.csv')\n",
    "ages = pd.read_csv('../data/age_gender_bkts.csv')\n",
    "countries = pd.read_csv('../data/countries.csv')\n",
    "user_ids = set(sessions.user_id.values).intersection(users.id.values)"
   ]
  },
  {
   "cell_type": "code",
   "execution_count": null,
   "metadata": {},
   "outputs": [],
   "source": [
    "from datetime import datetime\n",
    "\n",
    "def days_between(d1, d2, t1=\"%Y-%m-%d\", t2=\"%Y-%m-%d\"):\n",
    "    d1 = datetime.strptime(d1, t1)\n",
    "    d2 = datetime.strptime(d2, t2)\n",
    "    return abs((d2 - d1).days)"
   ]
  },
  {
   "cell_type": "code",
   "execution_count": null,
   "metadata": {},
   "outputs": [],
   "source": [
    "users['month_account_created'] = users.apply(lambda r: int(r['date_account_created'].split('-')[1]), axis=1)"
   ]
  },
  {
   "cell_type": "code",
   "execution_count": null,
   "metadata": {},
   "outputs": [],
   "source": [
    "users['target'] = users.apply(lambda r: 1 if r['country_destination'] != 'NDF' else 0, axis=1)"
   ]
  },
  {
   "cell_type": "code",
   "execution_count": null,
   "metadata": {},
   "outputs": [],
   "source": [
    "data = pd.concat([users[users['target'] == 1].head(88000), users[users['target'] == 0].head(88000)])\n",
    "data"
   ]
  },
  {
   "cell_type": "code",
   "execution_count": null,
   "metadata": {},
   "outputs": [],
   "source": [
    "data['null_age'] = data['age'].isnull().astype(int)\n",
    "data['age_correct'] = ((0 < data['age']) & (data['age'] < 100)).astype(int)\n",
    "data['age_100'] = ((100 < data['age']) & (data['age'] < 2000)).astype(int)"
   ]
  },
  {
   "cell_type": "code",
   "execution_count": null,
   "metadata": {},
   "outputs": [],
   "source": [
    "data['gender_unknown'] = (data['gender'] == '-unknown-').astype(int)"
   ]
  },
  {
   "cell_type": "code",
   "execution_count": null,
   "metadata": {},
   "outputs": [],
   "source": [
    "data['aff_channel_api'] = (data['affiliate_channel'] == 'api').astype(int)\n",
    "data['aff_channel_content'] = (data['affiliate_channel'] == 'content').astype(int)\n",
    "data['aff_channel_other'] = (data['affiliate_channel'] == 'other').astype(int)"
   ]
  },
  {
   "cell_type": "code",
   "execution_count": null,
   "metadata": {},
   "outputs": [],
   "source": [
    "data['first_dev_type_mac'] = (data['first_device_type'] == 'Mac').astype(int)\n",
    "data['first_dev_type_unknown'] = (data['first_device_type'] == 'Other/Unknown').astype(int)"
   ]
  },
  {
   "cell_type": "code",
   "execution_count": null,
   "metadata": {},
   "outputs": [],
   "source": [
    "data['created_account_spring'] = ((3 <= data['month_account_created']) & (data['month_account_created'] <= 6)).astype(int)\n",
    "data['created_account_cold'] = ((9 <= data['month_account_created']) | (data['month_account_created'] <= 1)).astype(int)\n",
    "data['created_account_summer'] = ((7 <= data['month_account_created']) & (data['month_account_created'] <= 8)).astype(int)"
   ]
  },
  {
   "cell_type": "code",
   "execution_count": null,
   "metadata": {},
   "outputs": [],
   "source": [
    "data"
   ]
  },
  {
   "cell_type": "code",
   "execution_count": null,
   "metadata": {},
   "outputs": [],
   "source": [
    "data = data.sample(frac=1)"
   ]
  },
  {
   "cell_type": "code",
   "execution_count": null,
   "metadata": {},
   "outputs": [],
   "source": [
    "n = int(data.shape[0] * 0.7)\n",
    "matrix_data = data.loc[:, 'null_age':].values\n",
    "\n",
    "X_train = matrix_data[:n, :]\n",
    "y_train = data['target'].values[:n]\n",
    "\n",
    "X_test = matrix_data[n:, :]\n",
    "y_test = data['target'].values[n:]"
   ]
  },
  {
   "cell_type": "code",
   "execution_count": null,
   "metadata": {},
   "outputs": [],
   "source": [
    "from sklearn.linear_model import LogisticRegression\n",
    "model = LogisticRegression(max_iter=100)\n",
    "model.fit(X_train, y_train)\n",
    "model.score(X_test, y_test)"
   ]
  },
  {
   "cell_type": "code",
   "execution_count": null,
   "metadata": {},
   "outputs": [],
   "source": [
    "from sklearn.ensemble import RandomForestClassifier\n",
    "model = RandomForestClassifier(n_estimators=99, max_depth=20)\n",
    "model.fit(X_train, y_train)\n",
    "model.score(X_test, y_test)"
   ]
  },
  {
   "cell_type": "code",
   "execution_count": null,
   "metadata": {},
   "outputs": [],
   "source": [
    "model.feature_importances_"
   ]
  },
  {
   "cell_type": "code",
   "execution_count": null,
   "metadata": {},
   "outputs": [],
   "source": [
    "from sklearn.ensemble import GradientBoostingClassifier\n",
    "model = GradientBoostingClassifier(n_estimators=100)\n",
    "model.fit(X_train, y_train)\n",
    "model.score(X_test, y_test)"
   ]
  }
 ],
 "metadata": {
  "kernelspec": {
   "display_name": "bookerguess",
   "language": "python",
   "name": "bookerguess"
  },
  "language_info": {
   "codemirror_mode": {
    "name": "ipython",
    "version": 3
   },
   "file_extension": ".py",
   "mimetype": "text/x-python",
   "name": "python",
   "nbconvert_exporter": "python",
   "pygments_lexer": "ipython3",
   "version": "3.8.2"
  }
 },
 "nbformat": 4,
 "nbformat_minor": 4
}
