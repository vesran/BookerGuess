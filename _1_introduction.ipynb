{
 "cells": [
  {
   "cell_type": "markdown",
   "metadata": {},
   "source": [
    "# Introduction"
   ]
  },
  {
   "cell_type": "markdown",
   "metadata": {},
   "source": [
    "Airbnb propose depuis 2008 une plateforme permettant la location et réservation de logements de particuliers. Cette entreprise américaine maintient ce service à travers plus de 34000 villes sur plus de 194 pays. Avec un nombre croissant d'utilisateurs, dépassant les 30 millions en 2016, les services d'Airbnb cherchent à s'améliorer en proposant des contenus personalisés. \n",
    "\n",
    "Une compétition a été lancée en 2016 dont le but est de prédire la destination (pays) d'un nouvel utilisateur d'Airbnb. Les données sont disponibles sur le lien suivant : https://www.kaggle.com/c/airbnb-recruiting-new-user-bookings. "
   ]
  },
  {
   "cell_type": "markdown",
   "metadata": {},
   "source": [
    "## Sommaire\n",
    "\n",
    "1. [La description du problème](#pb)\n",
    "2. [Les données](#data)\n",
    "3. [Récapitulatif](#recap)\n",
    "4. [Plan d'action](#plan)"
   ]
  },
  {
   "cell_type": "markdown",
   "metadata": {},
   "source": [
    "## La description du problème <a name=\"pb\"></a>\n",
    "\n",
    "Etant données une liste d'information sur les utilisateurs, l'historique de leurs recherches et activités sur le site, est-il possible de prédire avec précision leur pays de destination représenté parmi les 12 classes ci-dessous ?\n",
    "* US : Etats-unis\n",
    "* FR : France\n",
    "* CA : Canada\n",
    "* GB : Grande-Bretagne\n",
    "* ES : Espagne\n",
    "* IT : Italie\n",
    "* PT : Portugal\n",
    "* NL : Pays-Bas\n",
    "* DE : Allemagne\n",
    "* AU : Australie\n",
    "* NDF : No Destination Found (l'utilisateur n'a pas réservé)\n",
    "* other : autre pays que ceux cités ci-dessus\n",
    "\n",
    "## Les données <a name=\"data\"></a>\n",
    "\n",
    "L'ensemble des utilisateurs étudiés dans ce projet viennent des Etats-Unis dont leur première activité enregistrée sur le site date du 07-01-2014 (mais les utilisateurs ont pu s'inscrire avant).\n",
    "On dispose des fichiers suivant : \n",
    "* train_users_2.csv : données généraux sur les utilisateurs (age, sexe, date d'arrivée...)\n",
    "* sessions.csv : l'historique d'activités des utilisateurs"
   ]
  },
  {
   "cell_type": "code",
   "execution_count": 23,
   "metadata": {},
   "outputs": [],
   "source": [
    "import pandas as pd\n",
    "import numpy as np\n",
    "import matplotlib.pyplot as plt\n",
    "plt.style.use('seaborn-poster')\n",
    "plt.rcParams.update({'font.size': 12})\n",
    "\n",
    "users = pd.read_csv('./data/train_users_2.csv', sep=',')\n",
    "sessions = pd.read_csv('./data/sessions.csv', sep=',')"
   ]
  },
  {
   "cell_type": "code",
   "execution_count": 2,
   "metadata": {},
   "outputs": [
    {
     "name": "stdout",
     "output_type": "stream",
     "text": [
      "Nombre d'utilisateurs en commun : 73815 sur 213451\n"
     ]
    }
   ],
   "source": [
    "inter_users = set(sessions['user_id'].values).intersection(users['id'])\n",
    "print(f\"Nombre d'utilisateurs en commun : {inter_users.__len__()} sur {users.shape[0]}\")"
   ]
  },
  {
   "cell_type": "markdown",
   "metadata": {},
   "source": [
    "Beaucoup d'utilisateurs n'ont pas de sessions, ni d'historiques relevés. On ne dispose que de leurs informations de base pour résoudre ce problème de classification. En effet, il est précisé sur le lien de téléchargement des données que les historiques des activités des utilisateurs ont été relévée qu'à partir du 01/04/2014. Or ces mêmes utilisateurs ont pu effectuer des activités sur le site d'Airbnb avant cette date. "
   ]
  },
  {
   "cell_type": "markdown",
   "metadata": {},
   "source": [
    "### Les utilisateurs\n",
    "\n",
    "Jettons un coup d'oeil aux utilisateurs et les classes à prédire."
   ]
  },
  {
   "cell_type": "code",
   "execution_count": 2,
   "metadata": {},
   "outputs": [
    {
     "name": "stdout",
     "output_type": "stream",
     "text": [
      "users.shape =  (213451, 16)\n"
     ]
    },
    {
     "data": {
      "text/html": [
       "<div>\n",
       "<style scoped>\n",
       "    .dataframe tbody tr th:only-of-type {\n",
       "        vertical-align: middle;\n",
       "    }\n",
       "\n",
       "    .dataframe tbody tr th {\n",
       "        vertical-align: top;\n",
       "    }\n",
       "\n",
       "    .dataframe thead th {\n",
       "        text-align: right;\n",
       "    }\n",
       "</style>\n",
       "<table border=\"1\" class=\"dataframe\">\n",
       "  <thead>\n",
       "    <tr style=\"text-align: right;\">\n",
       "      <th></th>\n",
       "      <th>id</th>\n",
       "      <th>date_account_created</th>\n",
       "      <th>timestamp_first_active</th>\n",
       "      <th>date_first_booking</th>\n",
       "      <th>gender</th>\n",
       "      <th>age</th>\n",
       "      <th>signup_method</th>\n",
       "      <th>signup_flow</th>\n",
       "      <th>language</th>\n",
       "      <th>affiliate_channel</th>\n",
       "      <th>affiliate_provider</th>\n",
       "      <th>first_affiliate_tracked</th>\n",
       "      <th>signup_app</th>\n",
       "      <th>first_device_type</th>\n",
       "      <th>first_browser</th>\n",
       "      <th>country_destination</th>\n",
       "    </tr>\n",
       "  </thead>\n",
       "  <tbody>\n",
       "    <tr>\n",
       "      <th>0</th>\n",
       "      <td>gxn3p5htnn</td>\n",
       "      <td>2010-06-28</td>\n",
       "      <td>20090319043255</td>\n",
       "      <td>NaN</td>\n",
       "      <td>-unknown-</td>\n",
       "      <td>NaN</td>\n",
       "      <td>facebook</td>\n",
       "      <td>0</td>\n",
       "      <td>en</td>\n",
       "      <td>direct</td>\n",
       "      <td>direct</td>\n",
       "      <td>untracked</td>\n",
       "      <td>Web</td>\n",
       "      <td>Mac Desktop</td>\n",
       "      <td>Chrome</td>\n",
       "      <td>NDF</td>\n",
       "    </tr>\n",
       "    <tr>\n",
       "      <th>1</th>\n",
       "      <td>820tgsjxq7</td>\n",
       "      <td>2011-05-25</td>\n",
       "      <td>20090523174809</td>\n",
       "      <td>NaN</td>\n",
       "      <td>MALE</td>\n",
       "      <td>38.0</td>\n",
       "      <td>facebook</td>\n",
       "      <td>0</td>\n",
       "      <td>en</td>\n",
       "      <td>seo</td>\n",
       "      <td>google</td>\n",
       "      <td>untracked</td>\n",
       "      <td>Web</td>\n",
       "      <td>Mac Desktop</td>\n",
       "      <td>Chrome</td>\n",
       "      <td>NDF</td>\n",
       "    </tr>\n",
       "    <tr>\n",
       "      <th>2</th>\n",
       "      <td>4ft3gnwmtx</td>\n",
       "      <td>2010-09-28</td>\n",
       "      <td>20090609231247</td>\n",
       "      <td>2010-08-02</td>\n",
       "      <td>FEMALE</td>\n",
       "      <td>56.0</td>\n",
       "      <td>basic</td>\n",
       "      <td>3</td>\n",
       "      <td>en</td>\n",
       "      <td>direct</td>\n",
       "      <td>direct</td>\n",
       "      <td>untracked</td>\n",
       "      <td>Web</td>\n",
       "      <td>Windows Desktop</td>\n",
       "      <td>IE</td>\n",
       "      <td>US</td>\n",
       "    </tr>\n",
       "    <tr>\n",
       "      <th>3</th>\n",
       "      <td>bjjt8pjhuk</td>\n",
       "      <td>2011-12-05</td>\n",
       "      <td>20091031060129</td>\n",
       "      <td>2012-09-08</td>\n",
       "      <td>FEMALE</td>\n",
       "      <td>42.0</td>\n",
       "      <td>facebook</td>\n",
       "      <td>0</td>\n",
       "      <td>en</td>\n",
       "      <td>direct</td>\n",
       "      <td>direct</td>\n",
       "      <td>untracked</td>\n",
       "      <td>Web</td>\n",
       "      <td>Mac Desktop</td>\n",
       "      <td>Firefox</td>\n",
       "      <td>other</td>\n",
       "    </tr>\n",
       "    <tr>\n",
       "      <th>4</th>\n",
       "      <td>87mebub9p4</td>\n",
       "      <td>2010-09-14</td>\n",
       "      <td>20091208061105</td>\n",
       "      <td>2010-02-18</td>\n",
       "      <td>-unknown-</td>\n",
       "      <td>41.0</td>\n",
       "      <td>basic</td>\n",
       "      <td>0</td>\n",
       "      <td>en</td>\n",
       "      <td>direct</td>\n",
       "      <td>direct</td>\n",
       "      <td>untracked</td>\n",
       "      <td>Web</td>\n",
       "      <td>Mac Desktop</td>\n",
       "      <td>Chrome</td>\n",
       "      <td>US</td>\n",
       "    </tr>\n",
       "  </tbody>\n",
       "</table>\n",
       "</div>"
      ],
      "text/plain": [
       "           id date_account_created  timestamp_first_active date_first_booking  \\\n",
       "0  gxn3p5htnn           2010-06-28          20090319043255                NaN   \n",
       "1  820tgsjxq7           2011-05-25          20090523174809                NaN   \n",
       "2  4ft3gnwmtx           2010-09-28          20090609231247         2010-08-02   \n",
       "3  bjjt8pjhuk           2011-12-05          20091031060129         2012-09-08   \n",
       "4  87mebub9p4           2010-09-14          20091208061105         2010-02-18   \n",
       "\n",
       "      gender   age signup_method  signup_flow language affiliate_channel  \\\n",
       "0  -unknown-   NaN      facebook            0       en            direct   \n",
       "1       MALE  38.0      facebook            0       en               seo   \n",
       "2     FEMALE  56.0         basic            3       en            direct   \n",
       "3     FEMALE  42.0      facebook            0       en            direct   \n",
       "4  -unknown-  41.0         basic            0       en            direct   \n",
       "\n",
       "  affiliate_provider first_affiliate_tracked signup_app first_device_type  \\\n",
       "0             direct               untracked        Web       Mac Desktop   \n",
       "1             google               untracked        Web       Mac Desktop   \n",
       "2             direct               untracked        Web   Windows Desktop   \n",
       "3             direct               untracked        Web       Mac Desktop   \n",
       "4             direct               untracked        Web       Mac Desktop   \n",
       "\n",
       "  first_browser country_destination  \n",
       "0        Chrome                 NDF  \n",
       "1        Chrome                 NDF  \n",
       "2            IE                  US  \n",
       "3       Firefox               other  \n",
       "4        Chrome                  US  "
      ]
     },
     "execution_count": 2,
     "metadata": {},
     "output_type": "execute_result"
    }
   ],
   "source": [
    "print('users.shape = ', users.shape)\n",
    "users.head()"
   ]
  },
  {
   "cell_type": "markdown",
   "metadata": {},
   "source": [
    "Chaque utilisateur est reconnu par un identifiant unique. On peut avoir des informations sur la date de sa première visite, la date de la création du compte, le language, l'affiliation ou encore sur l'OS et le type de navigateur. Tentons de voir si les classes sont équilibrées."
   ]
  },
  {
   "cell_type": "code",
   "execution_count": 25,
   "metadata": {},
   "outputs": [
    {
     "data": {
      "image/png": "[encoded data removed]",
      "text/plain": [
       "<Figure size 1800x720 with 2 Axes>"
      ]
     },
     "metadata": {},
     "output_type": "display_data"
    }
   ],
   "source": [
    "fig, ax = plt.subplots(1, 2, figsize=(25, 10))\n",
    "arr = users['country_destination'].hist(ax=ax[0], density=True, rwidth=0.5, bins=np.arange(13)-0.5)\n",
    "ax[0].set_title(\"Proportion des utilisateurs par classe à prédire\")\n",
    "ax[0].set_xticks(range(12))\n",
    "ax[0].set_xticklabels(users['country_destination'].unique())\n",
    "ax[0].set_xlabel(\"Destination\")\n",
    "ax[0].set_ylabel(\"Densité\")\n",
    "\n",
    "users[\"reservation\"] = users.apply(lambda r: 'NDF' if r['country_destination'] == 'NDF' else 'DF', axis=1)\n",
    "users['reservation'].hist(ax=ax[1], density=True, rwidth=0.5, bins=np.arange(3)-0.5)\n",
    "ax[1].set_title(\"Proportion des utilisateurs selon qu'ils réservent ou non\")\n",
    "ax[1].set_xticks(range(2))\n",
    "ax[1].set_xticklabels(users['reservation'].unique())\n",
    "ax[1].set_xlabel(\"Réservation\")\n",
    "_=ax[1].set_ylabel(\"Densité\")"
   ]
  },
  {
   "cell_type": "markdown",
   "metadata": {},
   "source": [
    "Il est clair que nous avons affaire à des classes très désequilibrées. En effet, la classe NDF est surreprésentée, suivie de la class US. Le nombre d'utilisateur n'ayant réservé dépasse ceux qui ont fait une réservation dans tout pays confondu. Néanmoins, si on compare les individus ayant réservé (marqué comme DF sur l'histogramme de doite) à ceux n'ayant pas réservé (NDF), cela devient déjà plus équilibré.\n",
    "\n",
    "Regardons si des valeurs NaN seraient présentes."
   ]
  },
  {
   "cell_type": "code",
   "execution_count": 4,
   "metadata": {},
   "outputs": [
    {
     "data": {
      "text/plain": [
       "id                              0\n",
       "date_account_created            0\n",
       "timestamp_first_active          0\n",
       "date_first_booking         124543\n",
       "gender                          0\n",
       "age                         87990\n",
       "signup_method                   0\n",
       "signup_flow                     0\n",
       "language                        0\n",
       "affiliate_channel               0\n",
       "affiliate_provider              0\n",
       "first_affiliate_tracked      6065\n",
       "signup_app                      0\n",
       "first_device_type               0\n",
       "first_browser                   0\n",
       "country_destination             0\n",
       "destination_found               0\n",
       "dtype: int64"
      ]
     },
     "execution_count": 4,
     "metadata": {},
     "output_type": "execute_result"
    }
   ],
   "source": [
    "users.isnull().sum()"
   ]
  },
  {
   "cell_type": "markdown",
   "metadata": {},
   "source": [
    "On note que :\n",
    "* La date de de réservation peut être nulle dans la mesure où les utilisateurs ne réservent pas. Cette valeur ne peut être utilisée comme valeur d'entrée pour faire des prédictions.\n",
    "* Plus de 87000 utilisateurs n'ont pas renseigné leur âge.\n",
    "* L'attribut first_affiliate_tracked est manquante pour certains.\n",
    "* La variable \"Gender\" possède la catégorie -unknown- (voir plus haut)"
   ]
  },
  {
   "cell_type": "markdown",
   "metadata": {},
   "source": [
    "### Les sessions des utilisateurs\n",
    "\n",
    "Jetons un coup d'oeil sur l'historiques des activités des utilisateurs."
   ]
  },
  {
   "cell_type": "code",
   "execution_count": 5,
   "metadata": {},
   "outputs": [
    {
     "name": "stdout",
     "output_type": "stream",
     "text": [
      "sessions.shape =  (10567737, 6)\n"
     ]
    },
    {
     "data": {
      "text/html": [
       "<div>\n",
       "<style scoped>\n",
       "    .dataframe tbody tr th:only-of-type {\n",
       "        vertical-align: middle;\n",
       "    }\n",
       "\n",
       "    .dataframe tbody tr th {\n",
       "        vertical-align: top;\n",
       "    }\n",
       "\n",
       "    .dataframe thead th {\n",
       "        text-align: right;\n",
       "    }\n",
       "</style>\n",
       "<table border=\"1\" class=\"dataframe\">\n",
       "  <thead>\n",
       "    <tr style=\"text-align: right;\">\n",
       "      <th></th>\n",
       "      <th>user_id</th>\n",
       "      <th>action</th>\n",
       "      <th>action_type</th>\n",
       "      <th>action_detail</th>\n",
       "      <th>device_type</th>\n",
       "      <th>secs_elapsed</th>\n",
       "    </tr>\n",
       "  </thead>\n",
       "  <tbody>\n",
       "    <tr>\n",
       "      <th>0</th>\n",
       "      <td>d1mm9tcy42</td>\n",
       "      <td>lookup</td>\n",
       "      <td>NaN</td>\n",
       "      <td>NaN</td>\n",
       "      <td>Windows Desktop</td>\n",
       "      <td>319.0</td>\n",
       "    </tr>\n",
       "    <tr>\n",
       "      <th>1</th>\n",
       "      <td>d1mm9tcy42</td>\n",
       "      <td>search_results</td>\n",
       "      <td>click</td>\n",
       "      <td>view_search_results</td>\n",
       "      <td>Windows Desktop</td>\n",
       "      <td>67753.0</td>\n",
       "    </tr>\n",
       "    <tr>\n",
       "      <th>2</th>\n",
       "      <td>d1mm9tcy42</td>\n",
       "      <td>lookup</td>\n",
       "      <td>NaN</td>\n",
       "      <td>NaN</td>\n",
       "      <td>Windows Desktop</td>\n",
       "      <td>301.0</td>\n",
       "    </tr>\n",
       "    <tr>\n",
       "      <th>3</th>\n",
       "      <td>d1mm9tcy42</td>\n",
       "      <td>search_results</td>\n",
       "      <td>click</td>\n",
       "      <td>view_search_results</td>\n",
       "      <td>Windows Desktop</td>\n",
       "      <td>22141.0</td>\n",
       "    </tr>\n",
       "    <tr>\n",
       "      <th>4</th>\n",
       "      <td>d1mm9tcy42</td>\n",
       "      <td>lookup</td>\n",
       "      <td>NaN</td>\n",
       "      <td>NaN</td>\n",
       "      <td>Windows Desktop</td>\n",
       "      <td>435.0</td>\n",
       "    </tr>\n",
       "  </tbody>\n",
       "</table>\n",
       "</div>"
      ],
      "text/plain": [
       "      user_id          action action_type        action_detail  \\\n",
       "0  d1mm9tcy42          lookup         NaN                  NaN   \n",
       "1  d1mm9tcy42  search_results       click  view_search_results   \n",
       "2  d1mm9tcy42          lookup         NaN                  NaN   \n",
       "3  d1mm9tcy42  search_results       click  view_search_results   \n",
       "4  d1mm9tcy42          lookup         NaN                  NaN   \n",
       "\n",
       "       device_type  secs_elapsed  \n",
       "0  Windows Desktop         319.0  \n",
       "1  Windows Desktop       67753.0  \n",
       "2  Windows Desktop         301.0  \n",
       "3  Windows Desktop       22141.0  \n",
       "4  Windows Desktop         435.0  "
      ]
     },
     "execution_count": 5,
     "metadata": {},
     "output_type": "execute_result"
    }
   ],
   "source": [
    "print('sessions.shape = ', sessions.shape)\n",
    "sessions.head()"
   ]
  },
  {
   "cell_type": "markdown",
   "metadata": {},
   "source": [
    "Grâce à l'identifiant de l'utilisateur, on peut retracer dans l'ordre ses activités sur le site, le type d'activité et ses détails, l'OS utilisé et le temps passé sur cette action. À noter que \"action_type\" et \"action_detail\" décrivent \"action\" et donc dépend de cette colonne."
   ]
  },
  {
   "cell_type": "markdown",
   "metadata": {},
   "source": [
    "## Récapitulatif <a name=\"recap\"></a>\n",
    "\n",
    "* Il s'agit d'un problème de classification à 12 classes avec des variables/atttributs généralement qualitatives.\n",
    "* Les classes sont fortement déséquilibrées avec une classe majoritairement prépondérante (NDF).\n",
    "* Certains attributs comportent des valeurs NaN et l'attribut Age a la catégorie -unknown-.\n",
    "* Une partie des utilisateurs ne présente pas de session."
   ]
  },
  {
   "cell_type": "markdown",
   "metadata": {},
   "source": [
    "## Plan d'action <a name=\"plan\"></a>\n",
    "\n",
    "Pour parvenir à classer correctement les utilisateurs, je propose de suivre les étapes suivantes :\n",
    "1. Analyse des variables des utilisateurs et leur relation avec la variable cible (\"country_destination\").\n",
    "2. Analyse des sessions des utilisateurs et la relation avec la variable cible.\n",
    "3. Classification des utilisateurs entre NDF, pour \"No Destination Found\", et DF, pour \"Destination Found\", (l'utilisateur a-t-il fait une réservation ?) sans prendre en compte le pays exacte.\n",
    "4. Parmi ceux classés comme étant DF, retrouver le pays de destination."
   ]
  }
 ],
 "metadata": {
  "kernelspec": {
   "display_name": "bookerguess",
   "language": "python",
   "name": "bookerguess"
  },
  "language_info": {
   "codemirror_mode": {
    "name": "ipython",
    "version": 3
   },
   "file_extension": ".py",
   "mimetype": "text/x-python",
   "name": "python",
   "nbconvert_exporter": "python",
   "pygments_lexer": "ipython3",
   "version": "3.8.2"
  }
 },
 "nbformat": 4,
 "nbformat_minor": 4
}
